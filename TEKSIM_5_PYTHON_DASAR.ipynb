{
  "nbformat": 4,
  "nbformat_minor": 0,
  "metadata": {
    "colab": {
      "name": "TEKSIM 5 - PYTHON DASAR.ipynb",
      "provenance": [],
      "collapsed_sections": []
    },
    "kernelspec": {
      "name": "python3",
      "display_name": "Python 3"
    }
  },
  "cells": [
    {
      "cell_type": "markdown",
      "metadata": {
        "id": "ZAMqfyFWNGv8"
      },
      "source": [
        "# **SELAMAT DATANG DI NOTEBOOK PYTHON BASIC FOR DATA MINING**\n",
        "\n",
        "## **Tips**\n",
        "*   Untuk menjalankan kode kalian bisa klik tombol `RUN` pada cell yang tersedia.\n",
        "*   Atau, kalian bisa tekan `Shift+Enter` untuk menjalankan cell.\n",
        "\n"
      ]
    },
    {
      "cell_type": "markdown",
      "metadata": {
        "id": "m1b7n-hlOXX9"
      },
      "source": [
        "# **Hello World!**\n",
        "\n",
        "Seperti biasanya, dalam bahasa pemrograman pasti dibuka dengan Hello World! Mari kita coba. Ketikkan : `\"Halo, dunia!\"` "
      ]
    },
    {
      "cell_type": "code",
      "metadata": {
        "id": "jjN_ajagPKqk",
        "outputId": "02081683-f24e-4e46-bf1f-66dd76aacd8b",
        "colab": {
          "base_uri": "https://localhost:8080/",
          "height": 35
        }
      },
      "source": [
        "\"Hi Dunia\""
      ],
      "execution_count": null,
      "outputs": [
        {
          "output_type": "execute_result",
          "data": {
            "application/vnd.google.colaboratory.intrinsic+json": {
              "type": "string"
            },
            "text/plain": [
              "'Hi Dunia'"
            ]
          },
          "metadata": {
            "tags": []
          },
          "execution_count": 3
        }
      ]
    },
    {
      "cell_type": "code",
      "metadata": {
        "id": "5g5uRhqMk8_x",
        "outputId": "242838e3-22c5-48fd-ca62-fdb72e4d8c68",
        "colab": {
          "base_uri": "https://localhost:8080/",
          "height": 35
        }
      },
      "source": [
        "x = 'hai dunia'\n",
        "x"
      ],
      "execution_count": null,
      "outputs": [
        {
          "output_type": "execute_result",
          "data": {
            "application/vnd.google.colaboratory.intrinsic+json": {
              "type": "string"
            },
            "text/plain": [
              "'hai dunia'"
            ]
          },
          "metadata": {
            "tags": []
          },
          "execution_count": 4
        }
      ]
    },
    {
      "cell_type": "markdown",
      "metadata": {
        "id": "cOW1vEB_Ibq0"
      },
      "source": [
        "# **A. ATURAN PENULISAN PYTHON**\n",
        "## **1. Python Menggunakan Indentasi/Blok**\n",
        "\n",
        "Indentasi ini bisa menggunakan **tab** atau **spasi**. Perbedaan indentasi menyebabkan *error*. Sebagai contoh ketikkan kode berikut : *ketiikan secara berurut ya*\n",
        "*   `a = 5`\n",
        "*   [beri 1 tab] `b = 2`\n",
        "* c = `a+b`\n",
        "* [beri 1 tab] `c`\n",
        "\n",
        "Maka akan menampilkan error yaitu **unexpected indent**\n",
        "\n"
      ]
    },
    {
      "cell_type": "code",
      "metadata": {
        "id": "Rb4pTSKyRGqb",
        "outputId": "fb6b12d0-737f-4977-b041-e47fec76929b",
        "colab": {
          "base_uri": "https://localhost:8080/"
        }
      },
      "source": [
        "a = 5\n",
        "b = 2\n",
        "c = a+b\n",
        "c"
      ],
      "execution_count": null,
      "outputs": [
        {
          "output_type": "execute_result",
          "data": {
            "text/plain": [
              "7"
            ]
          },
          "metadata": {
            "tags": []
          },
          "execution_count": 6
        }
      ]
    },
    {
      "cell_type": "markdown",
      "metadata": {
        "id": "ydAfU2qVPkzK"
      },
      "source": [
        "## **2. Pernyataan dalam Python tidak diakhiri dengan tanda titik koma (;)**\n",
        "\n",
        "Cobalah ketikkan kodingan berikut :\n",
        "```print('kelas kl');```"
      ]
    },
    {
      "cell_type": "code",
      "metadata": {
        "id": "Ioe2lcCoRQcl"
      },
      "source": [
        "'hai'"
      ],
      "execution_count": null,
      "outputs": []
    },
    {
      "cell_type": "markdown",
      "metadata": {
        "id": "AiDVzlK1RSnb"
      },
      "source": [
        "lalu cobalah hilangkan tanda titik koma (;) - nya dan coba jalankan. "
      ]
    },
    {
      "cell_type": "markdown",
      "metadata": {
        "id": "oswCnnISJGI0"
      },
      "source": [
        "## **3. Pernyataan dalam Python dinyatakan pada satu baris. Jadi akhir dari sebuah pernyataan adalah baris baru**\n",
        "\n",
        "Coba ketikkan kode berikut : *ketikkan satu persatu ya ikuti alurnya*\n",
        "1.   ```panjang = 5```\n",
        "2.   ```lebar = 2```\n",
        "3. ```luas = panjang*lebar```\n",
        "4. ```luas```\n",
        "\n"
      ]
    },
    {
      "cell_type": "code",
      "metadata": {
        "id": "vOPRFQZ2J0WY",
        "outputId": "efa61540-3bb0-49e0-95ee-4a709f95c523",
        "colab": {
          "base_uri": "https://localhost:8080/"
        }
      },
      "source": [
        "p = 10\n",
        "l = 5\n",
        "luas = p*l\n",
        "print(luas)"
      ],
      "execution_count": null,
      "outputs": [
        {
          "output_type": "stream",
          "text": [
            "50\n"
          ],
          "name": "stdout"
        }
      ]
    },
    {
      "cell_type": "markdown",
      "metadata": {
        "id": "bts9wbslKmiW"
      },
      "source": [
        "## **4. Jika pernyataan yang panjangnya terdiri lebih dari 1 baris maka dapat dilakukan dengan menggunakan tanda ```backslash (\\)```**\n",
        "\n",
        "Coba ketikkan kode berikut : *ketikkan satu persatu ya, ikuti alurnya*\n",
        "\n",
        "*   `panjang = 6`\n",
        "*   `lebar = 2`\n",
        "*   `tinggi = 1`\n",
        "*   ```volume = panjang*lebar*\\```\n",
        "*   ```tinggi```\n",
        "\n",
        "\n",
        "\n",
        "\n",
        "\n",
        "\n",
        "\n"
      ]
    },
    {
      "cell_type": "code",
      "metadata": {
        "id": "yTdicW-RLzJj",
        "outputId": "69cf84ac-9c09-45d8-a90b-2057a640cfbb",
        "colab": {
          "base_uri": "https://localhost:8080/"
        }
      },
      "source": [
        "t = 1\n",
        "v = p*l*t\n",
        "v\n",
        "\n",
        "p,l,t = 10, 2, 7"
      ],
      "execution_count": null,
      "outputs": [
        {
          "output_type": "execute_result",
          "data": {
            "text/plain": [
              "50"
            ]
          },
          "metadata": {
            "tags": []
          },
          "execution_count": 16
        }
      ]
    },
    {
      "cell_type": "markdown",
      "metadata": {
        "id": "STvF4NyrRtHw"
      },
      "source": [
        "## **5. Sebagai penanda string Python menggunakan tanda kutip, baik tunggal (‘), ganda (‘’). Nah, tanda kutip 3 (‘’’) digunakan untuk string multibaris**\n",
        "\n",
        "Ketikkan kode berikut ini, satu persatu ya! :)\n",
        "*   `nama_depan = 'ketik deh namamu'`\n",
        "*   `nama_belakang = \"ketik deh namamu\"`\n",
        "* `biodata = '''Saya tinggal di Bogor Kota. Menyukai kopi dan tentunya code. Namun desain adalah jiwaku'''`\n",
        "\n"
      ]
    },
    {
      "cell_type": "code",
      "metadata": {
        "id": "cDTzR_B_bb8A"
      },
      "source": [
        "nama_depan = 'Khrisna'\n",
        "nama_belakang = \"Bayu\"\n",
        "biodata = '''Saya tinggal di Bogor Kota. Menyukai kopi dan tentunya code. Namun desain adalah jiwaku'''"
      ],
      "execution_count": null,
      "outputs": []
    },
    {
      "cell_type": "code",
      "metadata": {
        "id": "pOt64t5Go5uG",
        "outputId": "5e443a93-b003-450c-89bf-70eac1f96507",
        "colab": {
          "base_uri": "https://localhost:8080/",
          "height": 35
        }
      },
      "source": [
        "nama_depan"
      ],
      "execution_count": null,
      "outputs": [
        {
          "output_type": "execute_result",
          "data": {
            "application/vnd.google.colaboratory.intrinsic+json": {
              "type": "string"
            },
            "text/plain": [
              "'Khrisna'"
            ]
          },
          "metadata": {
            "tags": []
          },
          "execution_count": 18
        }
      ]
    },
    {
      "cell_type": "code",
      "metadata": {
        "id": "eKNuESBwpDAB",
        "outputId": "56823052-8189-420f-c7cc-62ec350ea5f6",
        "colab": {
          "base_uri": "https://localhost:8080/",
          "height": 35
        }
      },
      "source": [
        "nama_belakang\n"
      ],
      "execution_count": null,
      "outputs": [
        {
          "output_type": "execute_result",
          "data": {
            "application/vnd.google.colaboratory.intrinsic+json": {
              "type": "string"
            },
            "text/plain": [
              "'Bayu'"
            ]
          },
          "metadata": {
            "tags": []
          },
          "execution_count": 19
        }
      ]
    },
    {
      "cell_type": "markdown",
      "metadata": {
        "id": "IzvpLJ0tX-kG"
      },
      "source": [
        "## **6. Bersifat Case Sensitive**\n",
        "Artinya huruf besar dan kecil akan mempengaruhi fungsi/perilaku. Contoh : `print` dengan `Print` tentunya memiliki hasil output yang berbeda. "
      ]
    },
    {
      "cell_type": "code",
      "metadata": {
        "id": "WbwKny8xYZDh",
        "outputId": "750834d3-1f9a-4fda-fe29-d438b4bfd0e1",
        "colab": {
          "base_uri": "https://localhost:8080/"
        }
      },
      "source": [
        "print(nama_belakang)"
      ],
      "execution_count": null,
      "outputs": [
        {
          "output_type": "stream",
          "text": [
            "Bayu\n"
          ],
          "name": "stdout"
        }
      ]
    },
    {
      "cell_type": "markdown",
      "metadata": {
        "id": "kH6YdhNGYoNc"
      },
      "source": [
        "## **7. Komentar**\n",
        "Untuk menyisipkan komentar gunakan `#` . Misal :\n",
        "`# ini komentar`"
      ]
    },
    {
      "cell_type": "code",
      "metadata": {
        "id": "oMqoKz9WY153"
      },
      "source": [
        "# ini kodingan buat deklarasi AI atau jaringan syaraf\n",
        "# ini untuk ubah data x"
      ],
      "execution_count": null,
      "outputs": []
    },
    {
      "cell_type": "markdown",
      "metadata": {
        "id": "sxhncWbYTF0O"
      },
      "source": [
        "# **B. TIPE DATA**"
      ]
    },
    {
      "cell_type": "markdown",
      "metadata": {
        "id": "2jlD7fvDUepW"
      },
      "source": [
        "## **1. Karakter**\n",
        "Biasanya menggunakan tanda petik satu ('') atau petik dua (\"\"). Bisakah kamu ketikan namamu? Taruh dalam variabel `nama` ya. "
      ]
    },
    {
      "cell_type": "code",
      "metadata": {
        "id": "JY8IUxzfS4E8",
        "outputId": "ddc91991-c880-488f-8156-3dbb3194b9f6",
        "colab": {
          "base_uri": "https://localhost:8080/",
          "height": 35
        }
      },
      "source": [
        "'namaku'"
      ],
      "execution_count": null,
      "outputs": [
        {
          "output_type": "execute_result",
          "data": {
            "application/vnd.google.colaboratory.intrinsic+json": {
              "type": "string"
            },
            "text/plain": [
              "'namaku'"
            ]
          },
          "metadata": {
            "tags": []
          },
          "execution_count": 24
        }
      ]
    },
    {
      "cell_type": "markdown",
      "metadata": {
        "id": "VmQwYjA5U1pn"
      },
      "source": [
        "## **2. Numerik (Bilangan Bulat) / Integer**\n",
        "Ketikkan : \n",
        "*   `a = 21`\n",
        "*   `print('umurku adalah',a)`\n",
        "\n"
      ]
    },
    {
      "cell_type": "code",
      "metadata": {
        "id": "wZD2yBXQG9pf",
        "outputId": "c7071879-d5ac-453d-e8f8-46fbd12edbed",
        "colab": {
          "base_uri": "https://localhost:8080/"
        }
      },
      "source": [
        "a = 15\n",
        "print('umurku adalah',a)"
      ],
      "execution_count": null,
      "outputs": [
        {
          "output_type": "stream",
          "text": [
            "umurku adalah 15\n"
          ],
          "name": "stdout"
        }
      ]
    },
    {
      "cell_type": "markdown",
      "metadata": {
        "id": "T10ijJhsVnuY"
      },
      "source": [
        "## **3. Float / Desimal / Punya Koma**\n",
        "Ketikkan :\n",
        "*   `b = 21.5`\n",
        "*   `print('harga rumah adalah',b)`\n",
        "\n"
      ]
    },
    {
      "cell_type": "code",
      "metadata": {
        "id": "7V6P0nfsVd-D",
        "outputId": "601fae7f-df5b-4a08-b620-387fd95c9fc8",
        "colab": {
          "base_uri": "https://localhost:8080/"
        }
      },
      "source": [
        "b = 21.5\n",
        "print('harga rumah adalah',b)"
      ],
      "execution_count": null,
      "outputs": [
        {
          "output_type": "stream",
          "text": [
            "harga rumah adalah 21.5\n"
          ],
          "name": "stdout"
        }
      ]
    },
    {
      "cell_type": "markdown",
      "metadata": {
        "id": "2SasjToiW00X"
      },
      "source": [
        "## **4. Heksadesimal**\n",
        "Menyatakan bilangan basis 16. Menggunakan fungsi `hex()`. Coba ketikkan kode berikut :\n",
        "\n",
        "\n",
        "*   `a = 122`\n",
        "*   `print('122 ke basis 16 adalah:', hex(a))`\n",
        "\n"
      ]
    },
    {
      "cell_type": "code",
      "metadata": {
        "id": "Bo_tCwR8XXDQ",
        "outputId": "7df62544-958d-43a9-a323-cb7a7a7b4f95",
        "colab": {
          "base_uri": "https://localhost:8080/"
        }
      },
      "source": [
        "a = 122\n",
        "print('122 ke basis 16 adalah:', hex(a))"
      ],
      "execution_count": null,
      "outputs": [
        {
          "output_type": "stream",
          "text": [
            "122 ke basis 16 adalah: 0x7a\n"
          ],
          "name": "stdout"
        }
      ]
    },
    {
      "cell_type": "markdown",
      "metadata": {
        "id": "8ev43Vqjb8lM"
      },
      "source": [
        "## **5. List**\n",
        "\n",
        "Ini tipe data yang immutable (dapat diubah elemennya). Untuk mendeklarasikan list kita gunakan kurung siku `[]`. Ketikkan kode berikut :\n",
        "\n",
        "\n",
        "*   `# ini adalah list kosong`\n",
        "*   `x = []`\n",
        "\n",
        "\n",
        "\n"
      ]
    },
    {
      "cell_type": "code",
      "metadata": {
        "id": "lbI0NhlNjEye",
        "outputId": "bb6e06ac-1740-4a61-ce61-e1daeda06e30",
        "colab": {
          "base_uri": "https://localhost:8080/"
        }
      },
      "source": [
        "contoh_list = []\n",
        "contoh_list"
      ],
      "execution_count": null,
      "outputs": [
        {
          "output_type": "execute_result",
          "data": {
            "text/plain": [
              "[]"
            ]
          },
          "metadata": {
            "tags": []
          },
          "execution_count": 29
        }
      ]
    },
    {
      "cell_type": "markdown",
      "metadata": {
        "id": "VfqLeOhCZwAr"
      },
      "source": [
        "List dapat menampung berbagai macam tipe data didalamnya. Sebagai contoh ketik kode berikut :\n",
        "\n",
        "*   `x = ['Rio','Sendy','Bayu','12','2.75']`\n",
        "*   `x`\n",
        "\n"
      ]
    },
    {
      "cell_type": "code",
      "metadata": {
        "id": "yYHNt9udaHgB",
        "outputId": "f301f183-fcfa-418d-dea4-4e9d94498347",
        "colab": {
          "base_uri": "https://localhost:8080/"
        }
      },
      "source": [
        "x = ['Rio','Sendy','Bayu','12','2.75']\n",
        "x"
      ],
      "execution_count": null,
      "outputs": [
        {
          "output_type": "execute_result",
          "data": {
            "text/plain": [
              "['Rio', 'Sendy', 'Bayu', '12', '2.75']"
            ]
          },
          "metadata": {
            "tags": []
          },
          "execution_count": 30
        }
      ]
    },
    {
      "cell_type": "markdown",
      "metadata": {
        "id": "Zw6QltCyaFMY"
      },
      "source": [
        "Untuk menghapus **Rio** kita bisa gunakan perintah `del`. Ingat untuk indeks dalam Python dimualai  dari 0. Ketik kode berikut :\n",
        "\n",
        "*   `del x[2]` \n",
        "*   `print(x_`\n",
        "\n"
      ]
    },
    {
      "cell_type": "code",
      "metadata": {
        "id": "lu_96EbMa8Kb",
        "outputId": "2d587cf0-7647-477e-f093-09b1dae71986",
        "colab": {
          "base_uri": "https://localhost:8080/"
        }
      },
      "source": [
        "del x[0]\n",
        "print(x)"
      ],
      "execution_count": null,
      "outputs": [
        {
          "output_type": "stream",
          "text": [
            "['Sendy', 'Bayu', '12', '2.75']\n"
          ],
          "name": "stdout"
        }
      ]
    },
    {
      "cell_type": "code",
      "metadata": {
        "id": "KICF04_SrZEB",
        "outputId": "d5d4fbeb-2b97-46b1-ff3b-b18f5f6c0942",
        "colab": {
          "base_uri": "https://localhost:8080/"
        }
      },
      "source": [
        "del x[0]\n",
        "print(x)"
      ],
      "execution_count": null,
      "outputs": [
        {
          "output_type": "stream",
          "text": [
            "['Bayu', '12', '2.75']\n"
          ],
          "name": "stdout"
        }
      ]
    },
    {
      "cell_type": "markdown",
      "metadata": {
        "id": "V2rNoEmwbdBb"
      },
      "source": [
        "### **Slicing Pada List**\n",
        "\n",
        "*   x[0] artinya mengambil elemen paling awal, dengan index 0 dari List x.\n",
        "*   x[5] artinya mengambil elemen dengan index 5 dari List x.\n",
        "* x[-1] artinya mengambil elemen dengan index paling belakang ke-1 dari List x.\n",
        "* x[3:5] artinya membuat list dari anggota elemen List x dengan index 3 hingga sebelum index 5 (tidak termasuk elemen dengan index 5, dalam hal ini hanya index 3-4).\n",
        "* x[:5] artinya membuat list dari anggota elemen List x paling awal hingga sebelum index 5 (tidak termasuk elemen dengan index 5, dalam hal ini hanya index 0-4).\n",
        "* x[-3:] artinya membuat list dari anggota elemen List x mulai index ke-3 dari belakang hingga paling belakang.\n",
        "* x[1:7:2] artinya membuat list dari anggota elemen List x dengan index 1 hingga sebelum index 7, dengan \"step\" 2 (dalam hal ini hanya index 1, 3, 5).\n",
        "\n",
        "Misalnya : \n",
        "\n",
        "\n",
        "*   `mahasiswa = ['fahmi','rafelino','lingga', 'sarah', 'sandy']`\n",
        "*   `print(mahasiswa)`\n",
        "\n",
        "\n",
        "\n",
        "\n",
        "\n"
      ]
    },
    {
      "cell_type": "code",
      "metadata": {
        "id": "j1s_6T-LcoRf",
        "outputId": "ffccab78-18bf-4285-ee00-f2fe7f0de0a5",
        "colab": {
          "base_uri": "https://localhost:8080/"
        }
      },
      "source": [
        "mahasiswa = ['Agung','Angga','Siti', 'Dedy', 'Rado']\n",
        "mahasiswa"
      ],
      "execution_count": null,
      "outputs": [
        {
          "output_type": "execute_result",
          "data": {
            "text/plain": [
              "['Agung', 'Angga', 'Siti', 'Dedy', 'Rado']"
            ]
          },
          "metadata": {
            "tags": []
          },
          "execution_count": 33
        }
      ]
    },
    {
      "cell_type": "code",
      "metadata": {
        "id": "2Whfi7z0r6CF",
        "outputId": "484e54fa-20bf-49c0-c366-7ef3fa767287",
        "colab": {
          "base_uri": "https://localhost:8080/",
          "height": 35
        }
      },
      "source": [
        "mahasiswa[0]"
      ],
      "execution_count": null,
      "outputs": [
        {
          "output_type": "execute_result",
          "data": {
            "application/vnd.google.colaboratory.intrinsic+json": {
              "type": "string"
            },
            "text/plain": [
              "'Agung'"
            ]
          },
          "metadata": {
            "tags": []
          },
          "execution_count": 34
        }
      ]
    },
    {
      "cell_type": "code",
      "metadata": {
        "id": "SmiLJ-2ZsDHG",
        "outputId": "0a8f2aac-6a98-4723-97b1-2c51e0756a14",
        "colab": {
          "base_uri": "https://localhost:8080/",
          "height": 35
        }
      },
      "source": [
        "mahasiswa[4]"
      ],
      "execution_count": null,
      "outputs": [
        {
          "output_type": "execute_result",
          "data": {
            "application/vnd.google.colaboratory.intrinsic+json": {
              "type": "string"
            },
            "text/plain": [
              "'Rado'"
            ]
          },
          "metadata": {
            "tags": []
          },
          "execution_count": 36
        }
      ]
    },
    {
      "cell_type": "code",
      "metadata": {
        "id": "eSo-g-9BsNxk",
        "outputId": "9bc2fa68-c5c8-49de-a399-7d3ccb0a7792",
        "colab": {
          "base_uri": "https://localhost:8080/",
          "height": 35
        }
      },
      "source": [
        "mahasiswa[-1]"
      ],
      "execution_count": null,
      "outputs": [
        {
          "output_type": "execute_result",
          "data": {
            "application/vnd.google.colaboratory.intrinsic+json": {
              "type": "string"
            },
            "text/plain": [
              "'Rado'"
            ]
          },
          "metadata": {
            "tags": []
          },
          "execution_count": 37
        }
      ]
    },
    {
      "cell_type": "code",
      "metadata": {
        "id": "ZigvH4ZNsVVP",
        "outputId": "7039b341-ee9f-4acb-d091-d27dba00419a",
        "colab": {
          "base_uri": "https://localhost:8080/"
        }
      },
      "source": [
        "mahasiswa[3:5]"
      ],
      "execution_count": null,
      "outputs": [
        {
          "output_type": "execute_result",
          "data": {
            "text/plain": [
              "['Dedy', 'Rado']"
            ]
          },
          "metadata": {
            "tags": []
          },
          "execution_count": 38
        }
      ]
    },
    {
      "cell_type": "markdown",
      "metadata": {
        "id": "fIAfexaOupwB"
      },
      "source": [
        "## **8. Tuple**\n",
        "\n",
        "*Tuple* itu tipe data yg bisa menampung elemen dengan banyak tipe data. Tapi kebalikan dari list yaitu **immutable** artinya (elemennya tdk dapat diubah). Tuple di deklarasikan dengan tanda` {}`\n",
        "\n",
        "\n"
      ]
    },
    {
      "cell_type": "code",
      "metadata": {
        "id": "_6OBiYBaun7E",
        "outputId": "56e47453-2c8c-44c2-e9ca-069de8944115",
        "colab": {
          "base_uri": "https://localhost:8080/",
          "height": 202
        }
      },
      "source": [
        "mahasiswa = {'Agung', 'Angga', 'Siti', 'Dedy', 'Rado'}\n",
        "mahasiswa\n",
        "\n",
        "print(mahasiswa['Gustian'])"
      ],
      "execution_count": null,
      "outputs": [
        {
          "output_type": "error",
          "ename": "TypeError",
          "evalue": "ignored",
          "traceback": [
            "\u001b[0;31m---------------------------------------------------------------------------\u001b[0m",
            "\u001b[0;31mTypeError\u001b[0m                                 Traceback (most recent call last)",
            "\u001b[0;32m<ipython-input-45-cab0a75a007f>\u001b[0m in \u001b[0;36m<module>\u001b[0;34m()\u001b[0m\n\u001b[1;32m      2\u001b[0m \u001b[0mmahasiswa\u001b[0m\u001b[0;34m\u001b[0m\u001b[0;34m\u001b[0m\u001b[0m\n\u001b[1;32m      3\u001b[0m \u001b[0;34m\u001b[0m\u001b[0m\n\u001b[0;32m----> 4\u001b[0;31m \u001b[0mprint\u001b[0m\u001b[0;34m(\u001b[0m\u001b[0mmahasiswa\u001b[0m\u001b[0;34m[\u001b[0m\u001b[0;34m'Gustian'\u001b[0m\u001b[0;34m]\u001b[0m\u001b[0;34m)\u001b[0m\u001b[0;34m\u001b[0m\u001b[0;34m\u001b[0m\u001b[0m\n\u001b[0m",
            "\u001b[0;31mTypeError\u001b[0m: 'set' object is not subscriptable"
          ]
        }
      ]
    },
    {
      "cell_type": "markdown",
      "metadata": {
        "id": "jOYWp5fgX48a"
      },
      "source": [
        "# **C. PERCABANGAN**\n",
        "Percabangan dalam `Python` adalah if, elif (else if), dan else.\n",
        "## **1. IF**\n",
        "\n",
        "Pernyataan suatu kondisi jika ... \n",
        "Ketikkan kode berikut :\n",
        "\n",
        "\n",
        "*   `a = 5`\n",
        "*   `b = 2`\n",
        "*   `if a > b:`\n",
        "*   [beri 1 tab] `print(\"a lebih besar dari b\")`\n",
        "\n"
      ]
    },
    {
      "cell_type": "code",
      "metadata": {
        "id": "v4MMcGxYY-xd",
        "outputId": "61503ad8-3fe4-407e-c426-6a3d70c654a1",
        "colab": {
          "base_uri": "https://localhost:8080/"
        }
      },
      "source": [
        "a = 6\n",
        "b = 2\n",
        "if a > b:\n",
        "  print('a lebih besar dari b')"
      ],
      "execution_count": null,
      "outputs": [
        {
          "output_type": "stream",
          "text": [
            "a lebih besar dari b\n"
          ],
          "name": "stdout"
        }
      ]
    },
    {
      "cell_type": "markdown",
      "metadata": {
        "id": "8t0f2ICuZjbr"
      },
      "source": [
        "## **2. IF .. ELSE**\n",
        "\n",
        "Suatu kondisi jika x kalau tidak y. Ketikkan kode berikut :\n",
        "\n",
        "\n",
        "*   `tabungan = 1100`\n",
        "*`jajan = 1000`\n",
        "*    `makan = 500`\n",
        "* `minum = 100`\n",
        "* `jajan = jajan - makan + minum`\n",
        "*  `if jajan > 600:`\n",
        "* [beri 1 tab] `print(\"duit aman\")`\n",
        "* `elif tabungan > 500:`\n",
        "* [beri 1 tab] `print(\"Masih aman gan\")`\n",
        "\n"
      ]
    },
    {
      "cell_type": "code",
      "metadata": {
        "id": "Hbh3UI8vauuA",
        "outputId": "7a2a3b49-2de1-4d79-9d24-832f2a1524a3",
        "colab": {
          "base_uri": "https://localhost:8080/"
        }
      },
      "source": [
        "tabungan = 1100\n",
        "jajan = 1000\n",
        "makan = 500\n",
        "minum = 100\n",
        "jajan = jajan - makan + minum\n",
        "if jajan > 600:\n",
        "  print('duit aman buat malming')\n",
        "elif tabungan > 500:\n",
        "  print('Masih Aman')"
      ],
      "execution_count": null,
      "outputs": [
        {
          "output_type": "stream",
          "text": [
            "Masih Aman\n"
          ],
          "name": "stdout"
        }
      ]
    },
    {
      "cell_type": "markdown",
      "metadata": {
        "id": "lcgpPnXlbHnF"
      },
      "source": [
        "## **Referensi**\n",
        "*   Modul Praktikum Teknik Simulasi dan Data Mining 2020\n",
        "\n",
        "## **Belajar Lebih Dasar Python** [PythonIndo](https://www.pythonindo.com/tutorial-python-dasar/)\n",
        "\n"
      ]
    }
  ]
}