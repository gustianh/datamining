{
  "nbformat": 4,
  "nbformat_minor": 0,
  "metadata": {
    "colab": {
      "name": "PYTHON FOR DATA MINING - CLUSTERING WITH IRIS DATA.ipynb",
      "provenance": [],
      "collapsed_sections": []
    },
    "kernelspec": {
      "name": "python3",
      "display_name": "Python 3"
    }
  },
  "cells": [
    {
      "cell_type": "markdown",
      "metadata": {
        "id": "tfeMiQIE7JzU"
      },
      "source": [
        "# **PYTHON FOR DATA MINING - CLUSTERING WITH `IRIS DATA`**\n",
        "\n",
        "Pada notebook ini kita akan belajar mengenai :\n",
        "\n",
        "\n",
        "1.   Library (pustaka) yang sering digunakan dalam `data mining`. \n",
        "2.   `Exploratory Data Analysis` untuk Bunga Iris\n",
        "3. Tahap Preprocessing menurut *Knowledge Discovery in Databases*\n",
        "\n"
      ]
    },
    {
      "cell_type": "markdown",
      "metadata": {
        "id": "Vbscizoo7_ep"
      },
      "source": [
        "# **THE LIBRARIES**\n",
        "Library yang akan digunakan pada notebook kali ini dan pertemuan kedepannya adalah :\n",
        "\n",
        "*   `Pandas` : [Klik untuk Belajar Pandas](https://pandas.pydata.org/ )\n",
        "*   `Matplotlib` : [Klik untuk Belajar Matplotlib](https://matplotlib.org/ )\n",
        "* `NumPy` : [Klik untuk Belajar Numpy](https://numpy.org/ )\n",
        "\n",
        "## **1. `Pandas Library`**\n",
        "\n",
        "Pandas merupakan library yang memudahkan dalam melakukan manipulasi, cleansing maupun analisis struktur data. Dengan menggunakan Pandas, dapat memanfaatkan lima fitur utama dalam pemrosesan dan analisis data, yaitu load, prepare, manipulate, modelling, dan analysis data.\n",
        "Pandas menggunakan konsep array dari `NumPy` namun memberikan indeks kepada array tersebut, sehingga disebut series ataupun data frame. Sehingga bisa dikatakan Pandas menyimpan data dalam dictionary-based NumPy arrays. 1-Dimensi labelled array dinamakan sebagai `Series`. Sedangkan 2-Dimensi dinamakan sebagai `DataFrame`. Cara import pandas adalah sebagai berikut :\n",
        "> `import pandas as pd`\n",
        "\n",
        "\n"
      ]
    },
    {
      "cell_type": "code",
      "metadata": {
        "id": "rJ93vzLwEUgG"
      },
      "source": [
        ""
      ],
      "execution_count": null,
      "outputs": []
    },
    {
      "cell_type": "markdown",
      "metadata": {
        "id": "bvchv7AULXfa"
      },
      "source": [
        "### **A. `Series`**\n",
        "Series merupakan 1-dimensi array berlabel yang dapat menampung beberapa tipe data misalnya `integer`, `strings`, `floating point number`, `Python objects`, dan lain - lain. \n",
        "Label sumbu (axis labels) secara kolektifnya disebut dengan **indeks**. Untuk membentuk seris, kita bisa menggunakan dokumentasi berikut ini :\n",
        "> `s = pd.Series(data, index=index)`\n",
        "\n",
        "Nah, `data` dapat menjadi beberapa bentuk misalnya sebuah `Python dictionaries`, `sebuah ndarrays`, atau `scalar value(like5)`. Misal datanya adalah `ndarray` , nah pastikan bagian indeks memiliki panjang yang sama ya dengan nilai data. Jika datanya 5 maka indeksya juga harus 5. Contoh :\n",
        "> `s = pd.Series(np.random.randn(5), index=['a', 'b', 'c', 'd', 'e'])` jika sudah cobalah untuk mencetak `s` dengan perintah `print`"
      ]
    },
    {
      "cell_type": "code",
      "metadata": {
        "id": "rV8Csv9OLZ9w"
      },
      "source": [
        ""
      ],
      "execution_count": null,
      "outputs": []
    },
    {
      "cell_type": "markdown",
      "metadata": {
        "id": "IRtvFm9jB8d_"
      },
      "source": [
        "### **B. `DataFrame`**\n",
        "DataFrame adalah excelnya Python. Disini kita bisa menginputkan berbagai macam input misalnya :\n",
        "\n",
        "*   Dict of 1D ndarrays, lists, dicts, or Series\n",
        "*   2-D numpy.ndarray\n",
        "* Structured or record ndarray\n",
        "* A `series`\n",
        "* atau dataframe lain misalnya dari file berekstensi `csv`\n",
        "\n",
        "Misalnya kita membuat dataframe dari series dictionary. Coba ketiikan kodingan dibawah ini satu persatu.\n",
        "> `d = {'one': pd.Series([1., 2., 3.], index=['a', 'b', 'c']),`\n",
        "> `'two': pd.Series([1., 2., 3., 4.], index=['a', 'b', 'c', 'd'])}`\n",
        "\n",
        "Jika sudah kalian bisa cetak atau bentuk dataframe dari series diatas dengan mengetikkan :\n",
        "> `df = pd.DataFrame(d)`\n",
        "\n",
        "kemudian cetak `df` nya dengan printah `print(df)`\n",
        "\n"
      ]
    },
    {
      "cell_type": "code",
      "metadata": {
        "id": "ygyvucDcETaM"
      },
      "source": [
        ""
      ],
      "execution_count": null,
      "outputs": []
    },
    {
      "cell_type": "markdown",
      "metadata": {
        "id": "9nIj6tjIEash"
      },
      "source": [
        "Jika kamu berkenan silahkan baca [Perkenalan Data Structures menggunakan Pandas](https://pandas.pydata.org/docs/user_guide/dsintro.html)"
      ]
    },
    {
      "cell_type": "markdown",
      "metadata": {
        "id": "kPJZ9E27HEQD"
      },
      "source": [
        "## **2.`NumPy Library`**\n",
        "NumPy (*Numerical Python*) adalah library Python yang fokus pada **scientific computing**. NumPy memiliki kemampuan untuk membentuk objek N-dimensional array, yang mirip dengan list pada Python. Keunggulan NumPy array dibandingkan dengan list pada Python adalah konsumsi memori yang lebih kecil serta runtime yang lebih cepat. NumPy juga memudahkan kita pada Aljabar Linear, terutama operasi pada **vektor** (array 1 dimensi) dan **Matriks** (array 2 dimensi). Cara memanggil NumPy adalah sebagai berikut :\n",
        "> `import numpy as np`\n",
        "\n"
      ]
    },
    {
      "cell_type": "code",
      "metadata": {
        "id": "1S_n3Fu_LOU-"
      },
      "source": [
        ""
      ],
      "execution_count": null,
      "outputs": []
    },
    {
      "cell_type": "markdown",
      "metadata": {
        "id": "-QJ8B2E6JTgk"
      },
      "source": [
        "### **A. Membuat Matriks Dengan NumPy**\n",
        "Setelah kita import numpy, kita bisa memulai membuat matriks. Silahkan ketik kodingan berikut satu persatu :\n",
        "\n",
        "*   `matriks = np.array([(1,2,3),(4,5,6)])`\n",
        "*   `print(matriks)`\n",
        "\n",
        "\n",
        "\n",
        "\n"
      ]
    },
    {
      "cell_type": "code",
      "metadata": {
        "id": "MiHPoawjKSya"
      },
      "source": [
        ""
      ],
      "execution_count": null,
      "outputs": []
    },
    {
      "cell_type": "markdown",
      "metadata": {
        "id": "vXL--jTZLAqf"
      },
      "source": [
        "Jika kamu berkenan bisa baca lebih lanjut disini ya :\n",
        "\n",
        "\n",
        "1.   **[Tutorial NumPy](https://numpy.org/doc/stable/user/tutorials_index.html)**\n",
        "2.   [Numpy untuk Pemula](https://medium.com/@retnorerek/numpy-beginner-dengan-python-ea72fbd167f3)"
      ]
    },
    {
      "cell_type": "markdown",
      "metadata": {
        "id": "khku7MAIHn7l"
      },
      "source": [
        "## **3. `Matplotlib Library`**\n",
        "\n",
        "Matplotlib merupakan library dari Python yang umum digunakan untuk visualisasi data. Matplotlib memiliki kapabilitas untuk membuat visualisasi data 2-dimensional. Dengan pustaka ini kita bisa membuat :\n",
        "\n",
        "1.   Line Chart\n",
        "2.   Histogram\n",
        "3. Pie Chart\n",
        "4. Box Plot Chart, dsb\n",
        "\n",
        "Dibawah ini adalah contoh plot menggunakan matplotlib. Kalian bisa mengetikkan kode berikut. Pertama import dulu library-nya.\n",
        "\n",
        "\n",
        "*   `import matplotlib.pyplot as plt`\n",
        "*   `import numpy as np`\n",
        "\n",
        "\n",
        "\n",
        "\n"
      ]
    },
    {
      "cell_type": "code",
      "metadata": {
        "id": "llgT0hMdl5Cr"
      },
      "source": [
        ""
      ],
      "execution_count": null,
      "outputs": []
    },
    {
      "cell_type": "markdown",
      "metadata": {
        "id": "alwuLxYQm5_K"
      },
      "source": [
        "Jika sudah kita bisa memanggil contoh data dengan numpy. \n",
        "\n",
        "\n",
        "*   `t = np.arange(0.0, 2.0, 0.01)`\n",
        "* `s = 1 + np.sin(2 * np.pi * t)`\n",
        "\n"
      ]
    },
    {
      "cell_type": "code",
      "metadata": {
        "id": "eWrIly8hnP5H"
      },
      "source": [
        ""
      ],
      "execution_count": null,
      "outputs": []
    },
    {
      "cell_type": "markdown",
      "metadata": {
        "id": "tyjSRItLnVuu"
      },
      "source": [
        "Selanjutnya kita akan membuat grafiknya. Ketikkan kode :\n",
        "\n",
        "\n",
        "*   `fig, ax = plt.subplots()`\n",
        "* `ax.plot(t, s)`\n",
        "* `ax.set(xlabel='time (s)', ylabel='voltage (mV)',\n",
        "title='About as simple as it gets, folks')\n",
        "ax.grid()`\n"
      ]
    },
    {
      "cell_type": "code",
      "metadata": {
        "id": "Nbje-Mwmnvhm"
      },
      "source": [
        ""
      ],
      "execution_count": null,
      "outputs": []
    },
    {
      "cell_type": "markdown",
      "metadata": {
        "id": "WBZT3yhhnwPq"
      },
      "source": [
        "Jika sudah cetak grafiknya dengan perintah `plt.show()`"
      ]
    },
    {
      "cell_type": "code",
      "metadata": {
        "id": "NjbefyJ7n5wG"
      },
      "source": [
        ""
      ],
      "execution_count": null,
      "outputs": []
    },
    {
      "cell_type": "markdown",
      "metadata": {
        "id": "7W0qApvan7Pz"
      },
      "source": [
        "Kalian bisa menemukan contoh lain dari grafik menggunakan Matplotlib [**disini**](https://matplotlib.org/3.3.2/tutorials/introductory/sample_plots.html#sphx-glr-tutorials-introductory-sample-plots-py)"
      ]
    },
    {
      "cell_type": "markdown",
      "metadata": {
        "id": "3h3sDQmEFrWQ"
      },
      "source": [
        "# **Iris Dataset Clustering using KMeans Algorithm**"
      ]
    },
    {
      "cell_type": "markdown",
      "metadata": {
        "id": "E8G7q6u8HdK9"
      },
      "source": [
        "Kali ini kita akan melakukan hal yang sama dengan pertemuan 5 dan 6 yaitu :\n",
        "1. Data Ingestion\n",
        "2. Exploration / Data Cleaning etc. \n",
        "3. Preprocessing\n",
        "4. Data Mining / Training \n",
        "5. Evaluation / Analysis\n",
        "6. Optimization"
      ]
    },
    {
      "cell_type": "markdown",
      "metadata": {
        "id": "xuHBFMxDIVIO"
      },
      "source": [
        "## **1. Data Ingestion**\n",
        "Data ingestion adalah tahap untuk mengambil data dari sumber untuk diolah. Pada pertemuan ini kita akan menggunakan sumber data dari UCI Machine Learning yaitu dataset **Iris**. Kalian bisa mengunjungi link dibawah ini untuk mengakses dataset Iris. \n",
        "\n",
        "> **https://archive.ics.uci.edu/ml/datasets/iris**\n",
        "\n",
        "Untuk mendownload dataset-nya, kita bisa buka link di atas dan klik `Data Folder` untuk mendownload dataset tersebut."
      ]
    },
    {
      "cell_type": "markdown",
      "metadata": {
        "id": "fZkPPlgGIbTV"
      },
      "source": [
        "Pertama - tama kita harus memanggil library yang akan kita gunakan. Ketikkan kode berikut : \n",
        "\n",
        "*   `import pandas as pd`\n",
        "*   `import numpy as np`\n",
        "* `import matplotlib.pyplot as plt`\n",
        "* `from sklearn.cluster import KMeans`\n",
        "\n"
      ]
    },
    {
      "cell_type": "code",
      "metadata": {
        "id": "IfH-N9BUaqmC"
      },
      "source": [
        ""
      ],
      "execution_count": null,
      "outputs": []
    },
    {
      "cell_type": "markdown",
      "metadata": {
        "id": "q111OJ_VfJcU"
      },
      "source": [
        "Setelah itu untuk membaca data berekstensi `csv` kita akan menggunakan library pandas juga dan menggunakan perintah `read_csv`. Jadi mari kita import terlebih dahulu dengan mengetikkan kode berikut :\n",
        "> `from pandas import read_csv`"
      ]
    },
    {
      "cell_type": "code",
      "metadata": {
        "id": "FbOmeM0euTch"
      },
      "source": [
        ""
      ],
      "execution_count": null,
      "outputs": []
    },
    {
      "cell_type": "markdown",
      "metadata": {
        "id": "cuPQj3AEuUdd"
      },
      "source": [
        "ketikkan kode berikut ini :\n",
        "\n",
        "*   `file_path = r'https://archive.ics.uci.edu/ml/machine-learning-databases/iris/iris.data'`\n",
        "*   `attributes = ['sepal-length', 'sepal-width', 'petal-length', 'petal-width', 'class']`\n",
        "*   `dataset = read_csv(file_path, names=attributes)`\n",
        "\n",
        "Nah, untuk variabel `file_path` kita akan menampung data iris. Untuk variabel `attributes` kita akan menampung kolom - kolom yang merepresentasikan data iris. Dan terakhir untuk variable `dataset` kita menampung dan memanggil data iris berikut dengan kolom - kolomnya. \n",
        "\n"
      ]
    },
    {
      "cell_type": "code",
      "metadata": {
        "id": "I3f-3di5Y8Jo"
      },
      "source": [
        ""
      ],
      "execution_count": null,
      "outputs": []
    },
    {
      "cell_type": "markdown",
      "metadata": {
        "id": "WkoCOzmovPK8"
      },
      "source": [
        "Jika sudah kita cetak data iris dengan mengetikkan `dataset`. "
      ]
    },
    {
      "cell_type": "code",
      "metadata": {
        "id": "80x6cNfbZbgS"
      },
      "source": [
        ""
      ],
      "execution_count": null,
      "outputs": []
    },
    {
      "cell_type": "markdown",
      "metadata": {
        "id": "3FGeQwXDfAeB"
      },
      "source": [
        "Sekarang kita sudah memiliki `dataset` di dalam variabel `DataFrame` yang siap untuk kita olah.\n",
        "\n",
        "## **2. Data Exploration**\n",
        "\n",
        "Setelah kita mendapatkan data yang akan kita olah, sekarang kita akan melihat bagaimana karakteristik data yang kita punya. Kita bisa melakukan banyak hal, namun pada kesempatan kali ini data iris akan dilihat :\n",
        "1. isi data paling atas menggunakan perintah `head()`\n",
        "2. Isi data paling bawah menggunakan perintah `tail()`\n",
        "3. Melihat jumlah kolom dan baris menggunakan `shape()`\n",
        "4. melihat variables yang ada menggunakan perintah `keys()`\n",
        "5. menampilkan gambaran data mulai dari jumlah data per kolom, tipe data per kolom, dan jumlah keseluruhan data menggunakan `info()`\n",
        "6. melihat statistika deskriptif menggunakan `describe()`\n",
        "\n"
      ]
    },
    {
      "cell_type": "markdown",
      "metadata": {
        "id": "1aDnlFlFwU2M"
      },
      "source": [
        "### **A. `head()`**\n",
        "\n",
        "Lihat data paling atas. Ketikkan :\n",
        "> `print(dataset.head())`"
      ]
    },
    {
      "cell_type": "code",
      "metadata": {
        "id": "h2c92HL7wl-J"
      },
      "source": [
        ""
      ],
      "execution_count": null,
      "outputs": []
    },
    {
      "cell_type": "markdown",
      "metadata": {
        "id": "DakP9MoCwqv9"
      },
      "source": [
        "melihat 10 data teratas bisa menggunakan kodingan ini :\n",
        "> `print(dataset.head(10))`"
      ]
    },
    {
      "cell_type": "code",
      "metadata": {
        "id": "8QYScUmAPgkr"
      },
      "source": [
        ""
      ],
      "execution_count": null,
      "outputs": []
    },
    {
      "cell_type": "markdown",
      "metadata": {
        "id": "vCKx3BUzw4H0"
      },
      "source": [
        "### **B. ``tail()**\n",
        "\n",
        "tampilkan data terbawah, kebalikan dari head. Ketikkan :\n",
        "> `print(dataset.tail())`\n",
        "\n",
        "---\n",
        "\n",
        "\n",
        "\n",
        "---\n",
        "\n",
        "\n",
        "jika ingin melihat 10 data terbawah bisa menggunakan ini :\n",
        "> `print(dataset.tail(10))`"
      ]
    },
    {
      "cell_type": "code",
      "metadata": {
        "id": "U1qNC3twPcpu"
      },
      "source": [
        ""
      ],
      "execution_count": null,
      "outputs": []
    },
    {
      "cell_type": "markdown",
      "metadata": {
        "id": "w0_ZPnBJxa1C"
      },
      "source": [
        "### **C. `keys()`**\n",
        "melihat kolom yang ada di dataset. Ketikkan kode berikut :\n",
        "> `print(dataset.keys())`"
      ]
    },
    {
      "cell_type": "code",
      "metadata": {
        "id": "n9tJtHQaisvD"
      },
      "source": [
        ""
      ],
      "execution_count": null,
      "outputs": []
    },
    {
      "cell_type": "markdown",
      "metadata": {
        "id": "suOisLdgzmMe"
      },
      "source": [
        "### **D. shape()**\n",
        "melihat ukuran kolom dan baris data. Ketikkan :\n",
        "> `print(dataset.shape())`\n",
        "\n"
      ]
    },
    {
      "cell_type": "code",
      "metadata": {
        "id": "YoSeZgNL7hfN"
      },
      "source": [
        ""
      ],
      "execution_count": null,
      "outputs": []
    },
    {
      "cell_type": "markdown",
      "metadata": {
        "id": "sbXyywxkiQRh"
      },
      "source": [
        "Data diatas digunakan untuk melihat ukuran data kita yang mana di representasikan dalam (x, y). Dimana, x adalah jumlah data dan y adalah kolom atribut data. Pada kode diatas kita tahu bahwa `iris.data` mempunyai 150 instances dan 4 column attributes dam 1 `class`."
      ]
    },
    {
      "cell_type": "markdown",
      "metadata": {
        "id": "5RsMEh6I2MVJ"
      },
      "source": [
        "### **E. `info()`**\n",
        "Dengan fungsi ini kita bisa melihat berbagai info mulai dari jumlah data, kolom hingga tipe data. Ketikkan :\n",
        "> `print(dataset.info())`"
      ]
    },
    {
      "cell_type": "code",
      "metadata": {
        "id": "9LUZtRC37OMW"
      },
      "source": [
        ""
      ],
      "execution_count": null,
      "outputs": []
    },
    {
      "cell_type": "markdown",
      "metadata": {
        "id": "WhMAvs788wLo"
      },
      "source": [
        "### **F. describe()**\n",
        "Melihat statistika deskriptif suatu data mulai dari nilai max hingga persentil. Ketikkan :\n",
        "> `dataset.describe()`"
      ]
    },
    {
      "cell_type": "code",
      "metadata": {
        "id": "rVcUSYs_gjY_"
      },
      "source": [
        ""
      ],
      "execution_count": null,
      "outputs": []
    },
    {
      "cell_type": "markdown",
      "metadata": {
        "id": "qBD8sDbt_8Xe"
      },
      "source": [
        "# **VISUALISASI DATASET**\n",
        "\n",
        "## **A. Histogram Grafik**\n",
        "Ini ditampilkan dengan matplotlib. Karena tadi diatas sudah di upload maka tidak perlu import lagi. Untuk menampilkan grafiknya kita gunakan kodingan ini. \n",
        "> `print(dataset.plot.hist(bins=15))`"
      ]
    },
    {
      "cell_type": "code",
      "metadata": {
        "id": "Y-RzL8PVGVAM"
      },
      "source": [
        ""
      ],
      "execution_count": null,
      "outputs": []
    },
    {
      "cell_type": "markdown",
      "metadata": {
        "id": "7N4yFHG8EwrA"
      },
      "source": [
        "## **B. Scatter Plot**\n",
        "Untuk memperlihatkan hubungan 2 variabel atau axes. Kalian bisa gunakan kodingan ini :\n",
        "> `dataset.plot(kind=\"scatter\", x=[\"sepal-length\"], y=[\"petal-length\"], colorbar=True)`\n",
        "\n",
        "---\n",
        "\n",
        "\n",
        "\n",
        "Atau jika ingin menampilkan grid bisa menggunakan kodingan ini :\n",
        "> `dataset.plot(kind =\"scatter\", x ='sepal-length', y ='petal-length')`\n",
        "\n",
        "---\n",
        "\n",
        "dan cetak hasil dengan kodingan ini:\n",
        "`plt.grid()` "
      ]
    },
    {
      "cell_type": "code",
      "metadata": {
        "id": "VwUabU0OEyPw"
      },
      "source": [
        ""
      ],
      "execution_count": null,
      "outputs": []
    },
    {
      "cell_type": "markdown",
      "metadata": {
        "id": "YvmUpZlNFpo3"
      },
      "source": [
        "## **C. Visualisasi Dengan `Seaborn`**\n",
        "Seaborn merupakan library turunan dari matplotlib. Namun menyediakan plot atau grafik yang lebih cantik. Cara penggunaanya dengan memanggilnya terlebih dahulu dengan :\n",
        "> `import seaborn as sns`\n",
        "\n",
        "---\n",
        "\n",
        "Lalu kita bisa tampilkan iris kita menggunakan kodingan ini :\n",
        "> `sns.FacetGrid(dataset, hue='class', height = 6).map(plt.scatter, 'sepal-length','petal-length').add_legend()` "
      ]
    },
    {
      "cell_type": "code",
      "metadata": {
        "id": "OSCqn3JUZJtv"
      },
      "source": [
        ""
      ],
      "execution_count": null,
      "outputs": []
    },
    {
      "cell_type": "markdown",
      "metadata": {
        "id": "UHI75KN6kuhn"
      },
      "source": [
        "# **Preprocessing** \n",
        "Pada tahap ini kita akan melakukan preprocessing data yang meliputi :\n",
        "## **1. Konversi Dataset Ke Array**\n",
        "Menggunakan perintah `.values()`. Ketikkan :\n",
        "> `x = dataset.iloc[:, [0,1,2,3]].values`"
      ]
    },
    {
      "cell_type": "code",
      "metadata": {
        "id": "C7fqOuuwmSnn"
      },
      "source": [
        ""
      ],
      "execution_count": null,
      "outputs": []
    },
    {
      "cell_type": "markdown",
      "metadata": {
        "id": "kYEUgiEgItyZ"
      },
      "source": [
        "## **2. Menampilkan Array kedalam Scatter**\n",
        "Ketikkan kode berikut :\n",
        "\n",
        "\n",
        "* `plt.scatter(x[:,0], x[:,1], label='True Posisi')`\n",
        "* `plt.xlabel(\"Sepal Length\")`\n",
        "* `plt.ylabel(\"Sepal Width\")`\n",
        "* `plt.title(\"Grafik Sepal Length VS Sepal Width\")`\n",
        "* `plt.show()`\n",
        "\n"
      ]
    },
    {
      "cell_type": "code",
      "metadata": {
        "id": "aeGZ_V5Vm5PW"
      },
      "source": [
        ""
      ],
      "execution_count": null,
      "outputs": []
    },
    {
      "cell_type": "markdown",
      "metadata": {
        "id": "HItWRLugOseg"
      },
      "source": [
        "## **3. Menstandarkan atau Meskalakan Data**\n",
        "\n",
        "Sebelum kita dapat menggunakan data untuk proses training, sebaiknya kita melakukan penskalaan data. Hal ini kita lakukan untuk menyamakan range data agar semua dataset menjadi berimbang sebelum digunakan untuk proses training. \n",
        "Dan sebelumnya kita telah mengubah `dataframe` yang ada menjadi sebuah `array`. Disinilah penstandaran data digunakan. Agar data kembali seperti data semula sebelum diarraykan. Ketikkan kode berikut :\n",
        "\n",
        "* `from sklearn.preprocessing import MinMaxScaler`\n",
        "* `scaler = MinMaxScaler()`\n",
        "* `x_scaled = scaler.fit_transform(x)`\n",
        "* `pd.DataFrame(x_scaled, columns=[\"a\", \"b\", \"c\", \"d\"])`\n"
      ]
    },
    {
      "cell_type": "code",
      "metadata": {
        "id": "p0YgfptXPrd2"
      },
      "source": [
        ""
      ],
      "execution_count": null,
      "outputs": []
    },
    {
      "cell_type": "markdown",
      "metadata": {
        "id": "r3gf_ksj4mwD"
      },
      "source": [
        "# **Training**\n",
        "Pada tahap ini kita melakukan training data `Iris` dengan `KMeans`. Training data disini di representasikan dalam bentun `KMeans.fit`\n",
        "\n",
        "Sekarang kita akan melatih algoritma kita. Disini kita akan membuat objek `KMeansClassifier` dengan nilai $k$ sebesar 3. Nilai $k$ untuk sementara ini kita set secara acak ya. Ketikkan kode berikut :\n",
        "\n",
        "* `kmeans = KMeans(n_clusters=3, random_state=123)`\n",
        "* `kmeans.fit(x_scaled)`\n",
        "* `print(kmeans)`\n",
        "\n"
      ]
    },
    {
      "cell_type": "code",
      "metadata": {
        "id": "kGXrEno2KL46"
      },
      "source": [
        ""
      ],
      "execution_count": null,
      "outputs": []
    },
    {
      "cell_type": "markdown",
      "metadata": {
        "id": "_P9jK4jSRcpu"
      },
      "source": [
        "Disini kita bisa melihat output KMeans menggunakan $n$ sebanyak yang telah kita inputkan sebelumnya."
      ]
    },
    {
      "cell_type": "markdown",
      "metadata": {
        "id": "X-gv3CeZKfx0"
      },
      "source": [
        "## **Menampilkan nilai Centroid**\n",
        "Caranya menggunakan kodingan ini :\n",
        "> `print(kmeans.cluster_centers_)`"
      ]
    },
    {
      "cell_type": "code",
      "metadata": {
        "id": "T9gBRJon4z_7"
      },
      "source": [
        ""
      ],
      "execution_count": null,
      "outputs": []
    },
    {
      "cell_type": "markdown",
      "metadata": {
        "id": "Z9_MOfJHKyKH"
      },
      "source": [
        "Jika sudah kita konversikan ke label menggunakan NumPy. \n",
        "> `print(np.unique(kmeans.labels_))`"
      ]
    },
    {
      "cell_type": "code",
      "metadata": {
        "id": "Vheh9gZe5FP5"
      },
      "source": [
        ""
      ],
      "execution_count": null,
      "outputs": []
    },
    {
      "cell_type": "markdown",
      "metadata": {
        "id": "9Sg0J-KJRzas"
      },
      "source": [
        "## **Grafik cluster yang terbentuk dari data `iris` kita.**\n",
        "\n",
        "\n",
        "* `plt.scatter(x_scaled[:,0], x_scaled[:,1], c=kmeans.labels_, cmap='rainbow')`\n",
        "* `plt.xlabel('Sepal Length')`\n",
        "* `plt.ylabel('Sepal Width')`\n",
        "* `plt.title('Grafik Cluster')`\n",
        "*` plt.show()`\n",
        "\n"
      ]
    },
    {
      "cell_type": "code",
      "metadata": {
        "id": "LKbNyUoSPtCf"
      },
      "source": [
        ""
      ],
      "execution_count": null,
      "outputs": []
    },
    {
      "cell_type": "markdown",
      "metadata": {
        "id": "hp7R164LLXuy"
      },
      "source": [
        "## **Menampilkan Klaster Dalam Dataset**\n",
        "\n",
        "Ketikkan kodingan berikut :\n",
        "\n",
        "* `dataset[\"kluster\"] = kmeans.labels_`\n",
        "* `output = plt.scatter(x_scaled[:,0], x_scaled[:,1], c = dataset.kluster, marker = \"o\", alpha = 1, )`\n",
        "* `centers = kmeans.cluster_centers_`\n",
        "* `plt.scatter(centers[:,0], centers[:,1], c='green', alpha=1 , marker=\"s\");`\n",
        "* `plt.title(\"Hasil Klustering K-Means\")`\n",
        "*` plt.colorbar (output)`\n",
        "* `plt.show()`\n",
        "\n"
      ]
    },
    {
      "cell_type": "code",
      "metadata": {
        "id": "g4nezqJ25ZWs"
      },
      "source": [
        ""
      ],
      "execution_count": null,
      "outputs": []
    },
    {
      "cell_type": "markdown",
      "metadata": {
        "id": "EZEXybg7gIxC"
      },
      "source": [
        "# **6. Optimization**\n",
        "Di bagian akhir ini kita akan mengoptimalkan model yang kita buat agar dapat memberikan hasil prediksi yang lebih baik. Disini kita akan mencoba untuk mencari nilai $k$ yang optimal agar model yang kita buat dapat memberikan hasil prediksi yang lebih akurat."
      ]
    },
    {
      "cell_type": "markdown",
      "metadata": {
        "id": "282A1r44tHvo"
      },
      "source": [
        "![Elbow Method](https://miro.medium.com/max/832/1*8wV1j-klQA1xFvfaNXuVzg.png)"
      ]
    },
    {
      "cell_type": "code",
      "metadata": {
        "id": "T9aiT1LdtOcR",
        "outputId": "488a051f-ba44-4fad-c0a6-4f670c9db3a2",
        "colab": {
          "base_uri": "https://localhost:8080/",
          "height": 295
        }
      },
      "source": [
        "Error =[]\n",
        "for i in range(1, 11):\n",
        "    kmeans = KMeans(n_clusters = i).fit(x_scaled)\n",
        "    kmeans.fit(x_scaled)\n",
        "    Error.append(kmeans.inertia_)\n",
        "import matplotlib.pyplot as plt\n",
        "plt.plot(range(1, 11), Error)\n",
        "plt.title('Elbow method')\n",
        "plt.xlabel('No of clusters')\n",
        "plt.ylabel('Error')\n",
        "plt.show()"
      ],
      "execution_count": null,
      "outputs": [
        {
          "output_type": "display_data",
          "data": {
            "image/png": "[encoded data removed]",
            "text/plain": [
              "<Figure size 432x288 with 1 Axes>"
            ]
          },
          "metadata": {
            "tags": [],
            "needs_background": "light"
          }
        }
      ]
    },
    {
      "cell_type": "code",
      "metadata": {
        "id": "-i4SGttqObcK",
        "outputId": "d6603be7-70ae-4b47-a587-67665d3b92f8",
        "colab": {
          "base_uri": "https://localhost:8080/",
          "height": 34
        }
      },
      "source": [
        "# ambil input\n",
        "sepal_length =  0.9#@param {type:\"number\"}\n",
        "sepal_width =  1#@param {type:\"number\"}\n",
        "petal_length =  0.9#@param {type:\"number\"}\n",
        "petal_width =  2#@param {type:\"number\"}\n",
        "\n",
        "# buat vektor untuk uji\n",
        "x_coba = [[sepal_length, sepal_width, petal_length, petal_width]]\n",
        "x_coba = scaler.transform(x_scaled)\n",
        "\n",
        "# prediksikan dengan model\n",
        "y_pred = kmeans.predict(x_scaled)\n",
        "\n",
        "# cetak hasil\n",
        "print(\"Hasil prediksi: %s\" % y_pred[0])"
      ],
      "execution_count": null,
      "outputs": [
        {
          "output_type": "stream",
          "text": [
            "Hasil prediksi: 1\n"
          ],
          "name": "stdout"
        }
      ]
    },
    {
      "cell_type": "markdown",
      "metadata": {
        "id": "PWI8tQMomYvt"
      },
      "source": [
        "# **Selamat, kalian sudah belajar Klastering dengan KMeans!**"
      ]
    },
    {
      "cell_type": "markdown",
      "metadata": {
        "id": "QEZhmLZQmn6W"
      },
      "source": [
        "# **Reference**\n",
        "\n",
        "1. **Heartbeat**. 2019. *K-means clustering using sklearn and Python*. https://heartbeat.fritz.ai/k-means-clustering-using-sklearn-and-python-4a054d67b187 diakses pada 1 Desember 2019 \n",
        "\n",
        "2. **Medium.2018**. *Memahami K-Mean Clustering Pada Machine Learning Dengan Phyton*. https://medium.com/@16611129/memahami-k-mean-clustering-pada-machine-learning-dengan-phyton-430323d80868 diakses pada 5 November 2020\n",
        "\n",
        "3.  **UCI Machine Learning**. https://archive.ics.uci.edu/ml/datasets/Iris?spm=a2c4e.11153940.blogcont603256.5.333b1d6f05ZggC Diakses pada 5 November 2020\n",
        "\n",
        "4. **Wahyono, Teguh**.2018 *Fundamental of Python for Machine Learning* (cetakan 1). Yogyakarta: Penerbit Gava Media"
      ]
    }
  ]
}