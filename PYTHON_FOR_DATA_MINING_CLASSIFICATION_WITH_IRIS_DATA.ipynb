{
  "nbformat": 4,
  "nbformat_minor": 0,
  "metadata": {
    "colab": {
      "name": "PYTHON FOR DATA MINING - CLASSIFICATION WITH IRIS DATA.ipynb",
      "provenance": [],
      "collapsed_sections": []
    },
    "kernelspec": {
      "name": "python3",
      "display_name": "Python 3"
    }
  },
  "cells": [
    {
      "cell_type": "markdown",
      "metadata": {
        "id": "tfeMiQIE7JzU"
      },
      "source": [
        "# **PYTHON FOR DATA MINING - CLUSTERING `IRIS DATA`** WITH `DecisionTree`\n",
        "\n",
        "Pada notebook ini kita akan belajar mengenai :\n",
        "\n",
        "\n",
        "1.   Library (pustaka) yang sering digunakan dalam `data mining`. \n",
        "2.   `Exploratory Data Analysis` untuk Bunga Iris\n",
        "3. Tahap Preprocessing menurut *Knowledge Discovery in Databases*\n",
        "\n"
      ]
    },
    {
      "cell_type": "markdown",
      "metadata": {
        "id": "Vbscizoo7_ep"
      },
      "source": [
        "# **THE LIBRARIES**\n",
        "Library yang akan digunakan pada notebook kali ini dan pertemuan kedepannya adalah :\n",
        "\n",
        "*   `Pandas` : [Klik untuk Belajar Pandas](https://pandas.pydata.org/ )\n",
        "*   `Matplotlib` : [Klik untuk Belajar Matplotlib](https://matplotlib.org/ )\n",
        "* `NumPy` : [Klik untuk Belajar Numpy](https://numpy.org/ )\n",
        "\n",
        "## **1. `Pandas Library`**\n",
        "\n",
        "Pandas merupakan library yang memudahkan dalam melakukan manipulasi, cleansing maupun analisis struktur data. Dengan menggunakan Pandas, dapat memanfaatkan lima fitur utama dalam pemrosesan dan analisis data, yaitu load, prepare, manipulate, modelling, dan analysis data.\n",
        "Pandas menggunakan konsep array dari `NumPy` namun memberikan indeks kepada array tersebut, sehingga disebut series ataupun data frame. Sehingga bisa dikatakan Pandas menyimpan data dalam dictionary-based NumPy arrays. 1-Dimensi labelled array dinamakan sebagai `Series`. Sedangkan 2-Dimensi dinamakan sebagai `DataFrame`. Cara import pandas adalah sebagai berikut :\n",
        "> `import pandas as pd`\n",
        "\n",
        "\n"
      ]
    },
    {
      "cell_type": "code",
      "metadata": {
        "id": "rJ93vzLwEUgG"
      },
      "source": [
        ""
      ],
      "execution_count": null,
      "outputs": []
    },
    {
      "cell_type": "markdown",
      "metadata": {
        "id": "bvchv7AULXfa"
      },
      "source": [
        "### **A. `Series`**\n",
        "Series merupakan 1-dimensi array berlabel yang dapat menampung beberapa tipe data misalnya `integer`, `strings`, `floating point number`, `Python objects`, dan lain - lain. \n",
        "Label sumbu (axis labels) secara kolektifnya disebut dengan **indeks**. Untuk membentuk seris, kita bisa menggunakan dokumentasi berikut ini :\n",
        "> `s = pd.Series(data, index=index)`\n",
        "\n",
        "Nah, `data` dapat menjadi beberapa bentuk misalnya sebuah `Python dictionaries`, `sebuah ndarrays`, atau `scalar value(like5)`. Misal datanya adalah `ndarray` , nah pastikan bagian indeks memiliki panjang yang sama ya dengan nilai data. Jika datanya 5 maka indeksya juga harus 5. Contoh :\n",
        "> `s = pd.Series(np.random.randn(5), index=['a', 'b', 'c', 'd', 'e'])` jika sudah cobalah untuk mencetak `s` dengan perintah `print`"
      ]
    },
    {
      "cell_type": "code",
      "metadata": {
        "id": "rV8Csv9OLZ9w"
      },
      "source": [
        ""
      ],
      "execution_count": null,
      "outputs": []
    },
    {
      "cell_type": "markdown",
      "metadata": {
        "id": "IRtvFm9jB8d_"
      },
      "source": [
        "### **B. `DataFrame`**\n",
        "DataFrame adalah excelnya Python. Disini kita bisa menginputkan berbagai macam input misalnya :\n",
        "\n",
        "*   Dict of 1D ndarrays, lists, dicts, or Series\n",
        "*   2-D numpy.ndarray\n",
        "* Structured or record ndarray\n",
        "* A `series`\n",
        "* atau dataframe lain misalnya dari file berekstensi `csv`\n",
        "\n",
        "Misalnya kita membuat dataframe dari series dictionary. Coba ketiikan kodingan dibawah ini satu persatu.\n",
        "> `d = {'one': pd.Series([1., 2., 3.], index=['a', 'b', 'c']),`\n",
        "> `'two': pd.Series([1., 2., 3., 4.], index=['a', 'b', 'c', 'd'])}`\n",
        "\n",
        "Jika sudah kalian bisa cetak atau bentuk dataframe dari series diatas dengan mengetikkan :\n",
        "> `df = pd.DataFrame(d)`\n",
        "\n",
        "kemudian cetak `df` nya dengan printah `print(df)`\n",
        "\n"
      ]
    },
    {
      "cell_type": "code",
      "metadata": {
        "id": "ygyvucDcETaM"
      },
      "source": [
        ""
      ],
      "execution_count": null,
      "outputs": []
    },
    {
      "cell_type": "markdown",
      "metadata": {
        "id": "9nIj6tjIEash"
      },
      "source": [
        "Jika kamu berkenan silahkan baca [Perkenalan Data Structures menggunakan Pandas](https://pandas.pydata.org/docs/user_guide/dsintro.html)"
      ]
    },
    {
      "cell_type": "markdown",
      "metadata": {
        "id": "kPJZ9E27HEQD"
      },
      "source": [
        "## **2.`NumPy Library`**\n",
        "NumPy (*Numerical Python*) adalah library Python yang fokus pada **scientific computing**. NumPy memiliki kemampuan untuk membentuk objek N-dimensional array, yang mirip dengan list pada Python. Keunggulan NumPy array dibandingkan dengan list pada Python adalah konsumsi memori yang lebih kecil serta runtime yang lebih cepat. NumPy juga memudahkan kita pada Aljabar Linear, terutama operasi pada **vektor** (array 1 dimensi) dan **Matriks** (array 2 dimensi). Cara memanggil NumPy adalah sebagai berikut :\n",
        "> `import numpy as np`\n",
        "\n"
      ]
    },
    {
      "cell_type": "code",
      "metadata": {
        "id": "1S_n3Fu_LOU-"
      },
      "source": [
        ""
      ],
      "execution_count": null,
      "outputs": []
    },
    {
      "cell_type": "markdown",
      "metadata": {
        "id": "-QJ8B2E6JTgk"
      },
      "source": [
        "### **A. Membuat Matriks Dengan NumPy**\n",
        "Setelah kita import numpy, kita bisa memulai membuat matriks. Silahkan ketik kodingan berikut satu persatu :\n",
        "\n",
        "*   `matriks = np.array([(1,2,3),(4,5,6)])`\n",
        "*   `print(matriks)`\n",
        "\n",
        "\n",
        "\n",
        "\n"
      ]
    },
    {
      "cell_type": "code",
      "metadata": {
        "id": "MiHPoawjKSya"
      },
      "source": [
        ""
      ],
      "execution_count": null,
      "outputs": []
    },
    {
      "cell_type": "markdown",
      "metadata": {
        "id": "vXL--jTZLAqf"
      },
      "source": [
        "Jika kamu berkenan bisa baca lebih lanjut disini ya :\n",
        "\n",
        "\n",
        "1.   **[Tutorial NumPy](https://numpy.org/doc/stable/user/tutorials_index.html)**\n",
        "2.   [Numpy untuk Pemula](https://medium.com/@retnorerek/numpy-beginner-dengan-python-ea72fbd167f3)"
      ]
    },
    {
      "cell_type": "markdown",
      "metadata": {
        "id": "khku7MAIHn7l"
      },
      "source": [
        "## **3. `Matplotlib Library`**\n",
        "\n",
        "Matplotlib merupakan library dari Python yang umum digunakan untuk visualisasi data. Matplotlib memiliki kapabilitas untuk membuat visualisasi data 2-dimensional. Dengan pustaka ini kita bisa membuat :\n",
        "\n",
        "1.   Line Chart\n",
        "2.   Histogram\n",
        "3. Pie Chart\n",
        "4. Box Plot Chart, dsb\n",
        "\n",
        "Dibawah ini adalah contoh plot menggunakan matplotlib. Kalian bisa mengetikkan kode berikut. Pertama import dulu library-nya.\n",
        "\n",
        "\n",
        "*   `import matplotlib.pyplot as plt`\n",
        "*   `import numpy as np`\n",
        "\n",
        "\n",
        "\n",
        "\n"
      ]
    },
    {
      "cell_type": "code",
      "metadata": {
        "id": "llgT0hMdl5Cr"
      },
      "source": [
        ""
      ],
      "execution_count": null,
      "outputs": []
    },
    {
      "cell_type": "markdown",
      "metadata": {
        "id": "alwuLxYQm5_K"
      },
      "source": [
        "Jika sudah kita bisa memanggil contoh data dengan numpy. \n",
        "\n",
        "\n",
        "*   `t = np.arange(0.0, 2.0, 0.01)`\n",
        "* `s = 1 + np.sin(2 * np.pi * t)`\n",
        "\n"
      ]
    },
    {
      "cell_type": "code",
      "metadata": {
        "id": "eWrIly8hnP5H"
      },
      "source": [
        ""
      ],
      "execution_count": null,
      "outputs": []
    },
    {
      "cell_type": "markdown",
      "metadata": {
        "id": "tyjSRItLnVuu"
      },
      "source": [
        "Selanjutnya kita akan membuat grafiknya. Ketikkan kode :\n",
        "\n",
        "\n",
        "*   `fig, ax = plt.subplots()`\n",
        "* `ax.plot(t, s)`\n",
        "* `ax.set(xlabel='time (s)', ylabel='voltage (mV)',\n",
        "title='About as simple as it gets, folks')\n",
        "ax.grid()`\n"
      ]
    },
    {
      "cell_type": "code",
      "metadata": {
        "id": "Nbje-Mwmnvhm"
      },
      "source": [
        ""
      ],
      "execution_count": null,
      "outputs": []
    },
    {
      "cell_type": "markdown",
      "metadata": {
        "id": "WBZT3yhhnwPq"
      },
      "source": [
        "Jika sudah cetak grafiknya dengan perintah `plt.show()`"
      ]
    },
    {
      "cell_type": "code",
      "metadata": {
        "id": "NjbefyJ7n5wG"
      },
      "source": [
        ""
      ],
      "execution_count": null,
      "outputs": []
    },
    {
      "cell_type": "markdown",
      "metadata": {
        "id": "7W0qApvan7Pz"
      },
      "source": [
        "Kalian bisa menemukan contoh lain dari grafik menggunakan Matplotlib [**disini**](https://matplotlib.org/3.3.2/tutorials/introductory/sample_plots.html#sphx-glr-tutorials-introductory-sample-plots-py)"
      ]
    },
    {
      "cell_type": "markdown",
      "metadata": {
        "id": "3h3sDQmEFrWQ"
      },
      "source": [
        "# **Classification Iris Dataset using DecisionTree Algorithm**\n",
        "\n",
        "[Source GIF from GIPHY](https://www.google.com/url?sa=i&url=https%3A%2F%2Fgiphy.com%2Fexplore%2Fdecision-tree&psig=AOvVaw0VWxOuPOUxuyiYYgqElVbT&ust=1607325403442000&source=images&cd=vfe&ved=0CA0QjhxqFwoTCLCWwPDnuO0CFQAAAAAdAAAAABAP)\n",
        "\n",
        "![Republican DT.gif](data:image/gif;base64,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)"
      ]
    },
    {
      "cell_type": "markdown",
      "metadata": {
        "id": "xq3IMiJs7pcT"
      },
      "source": [
        "Penjelasan singkat mengenai Decision Tree dapat dilihat pada gambar berikut. \n",
        "![A BRIEF DECISION TREE.JPG](data:image/jpeg;base64,/9j/4AAQSkZJRgABAQEAYABgAAD/4RD4RXhpZgAATU0AKgAAAAgABAE7AAIAAAAPAAAISodpAAQAAAABAAAIWpydAAEAAAAeAAAQ0uocAAcAAAgMAAAAPgAAAAAc6gAAAAgAAAAAAAAAAAAAAAAAAAAAAAAAAAAAAAAAAAAAAAAAAAAAAAAAAAAAAAAAAAAAAAAAAAAAAAAAAAAAAAAAAAAAAAAAAAAAAAAAAAAAAAAAAAAAAAAAAAAAAAAAAAAAAAAAAAAAAAAAAAAAAAAAAAAAAAAAAAAAAAAAAAAAAAAAAAAAAAAAAAAAAAAAAAAAAAAAAAAAAAAAAAAAAAAAAAAAAAAAAAAAAAAAAAAAAAAAAAAAAAAAAAAAAAAAAAAAAAAAAAAAAAAAAAAAAAAAAAAAAAAAAAAAAAAAAAAAAAAAAAAAAAAAAAAAAAAAAAAAAAAAAAAAAAAAAAAAAAAAAAAAAAAAAAAAAAAAAAAAAAAAAAAAAAAAAAAAAAAAAAAAAAAAAAAAAAAAAAAAAAAAAAAAAAAAAAAAAAAAAAAAAAAAAAAAAAAAAAAAAAAAAAAAAAAAAAAAAAAAAAAAAAAAAAAAAAAAAAAAAAAAAAAAAAAAAAAAAAAAAAAAAAAAAAAAAAAAAAAAAAAAAAAAAAAAAAAAAAAAAAAAAAAAAAAAAAAAAAAAAAAAAAAAAAAAAAAAAAAAAAAAAAAAAAAAAAAAAAAAAAAAAAAAAAAAAAAAAAAAAAAAAAAAAAAAAAAAAAAAAAAAAAAAAAAAAAAAAAAAAAAAAAAAAAAAAAAAAAAAAAAAAAAAAAAAAAAAAAAAAAAAAAAAAAAAAAAAAAAAAAAAAAAAAAAAAAAAAAAAAAAAAAAAAAAAAAAAAAAAAAAAAAAAAAAAAAAAAAAAAAAAAAAAAAAAAAAAAAAAAAAAAAAAAAAAAAAAAAAAAAAAAAAAAAAAAAAAAAAAAAAAAAAAAAAAAAAAAAAAAAAAAAAAAAAAAAAAAAAAAAAAAAAAAAAAAAAAAAAAAAAAAAAAAAAAAAAAAAAAAAAAAAAAAAAAAAAAAAAAAAAAAAAAAAAAAAAAAAAAAAAAAAAAAAAAAAAAAAAAAAAAAAAAAAAAAAAAAAAAAAAAAAAAAAAAAAAAAAAAAAAAAAAAAAAAAAAAAAAAAAAAAAAAAAAAAAAAAAAAAAAAAAAAAAAAAAAAAAAAAAAAAAAAAAAAAAAAAAAAAAAAAAAAAAAAAAAAAAAAAAAAAAAAAAAAAAAAAAAAAAAAAAAAAAAAAAAAAAAAAAAAAAAAAAAAAAAAAAAAAAAAAAAAAAAAAAAAAAAAAAAAAAAAAAAAAAAAAAAAAAAAAAAAAAAAAAAAAAAAAAAAAAAAAAAAAAAAAAAAAAAAAAAAAAAAAAAAAAAAAAAAAAAAAAAAAAAAAAAAAAAAAAAAAAAAAAAAAAAAAAAAAAAAAAAAAAAAAAAAAAAAAAAAAAAAAAAAAAAAAAAAAAAAAAAAAAAAAAAAAAAAAAAAAAAAAAAAAAAAAAAAAAAAAAAAAAAAAAAAAAAAAAAAAAAAAAAAAAAAAAAAAAAAAAAAAAAAAAAAAAAAAAAAAAAAAAAAAAAAAAAAAAAAAAAAAAAAAAAAAAAAAAAAAAAAAAAAAAAAAAAAAAAAAAAAAAAAAAAAAAAAAAAAAAAAAAAAAAAAAAAAAAAAAAAAAAAAAAAAAAAAAAAAAAAAAAAAAAAAAAAAAAAAAAAAAAAAAAAAAAAAAAAAAAAAAAAAAAAAAAAAAAAAAAAAAAAAAAAAAAAAAAAAAAAAAAAAAAAAAAAAAAAAAAAAAAAAAAAAAAAAAAAAAAAAAAAAAAAAAAAAAAAAAAAAAAAAAAAAAAAAAAAAAAAAAAAAAAAAAAAAAAAAAAAAAAAAAAAAAAAAAAAAAAAAAAAAAAAAAAAAAAAAAAAAAAAAAAAAAAAAAAAAAAAAAAAAAAAAAAAAAAAAAAAAAAAAAAAAAAAAAAAAAAAAAAAAAAAAAAAAAAAAAAAAAAAAAAAAAAAAAAAAAAAAAAAAAAAAAAAAAAAAAAAAAAAAAAAAAAAAAAAAAAAAAAAAAAAAAAAAAAAAAAAAAAAAAAAAAAAAAAAAAAAAAAAAAAAAAAAAAAAAAAAAAAAAAAAAAAAAAAAAAAAAAAAAAAAAAAAAAAAAAAAAAAAAAAAAAAAAAAAAAAAAAAAAAAAAAAAAAAAAAAAAAAAAAAAAAAAAAAAAAAAAAAAAAAAAAAAAAAAAAAAAAAAAAAAAAAAAAAAAAAAAAAAAAAAAAAAAAAAAAAAAAAAAAAAAAAAAAAAAAAAAAAAAAAAAAAAAAAAAAAAAAAAAAAAAAAAAAAAAAAAAAAAAAAAAAAAAAAAAAAAAAAAAAAAAAAAAAAAAAAAAAAAAAAAAAAAAAAAAAAAAAAAAAAAAAAAAAAAAAAAAAAAAAAAAAAAAAAAAAAAAAAAAAAAAAAAAAAAAAAAAAAAAAAAAAAAAAAAAAAAAAAAAAAAAAAAAAAAAAAAAAAAAAAAAAAAAAAAAAAAAAAAAAAAAAAAAAAAAAAAAAAAAAAAAAAAAAAAAAAAAAAAAAAAAAAAAAAAAAAAAAAAAAAAAAAAAAAAAAAAAAAAAAAAAAAAAAAAAAAAAAAAAAAAAAAAAAAAAAAAAAAAAAAAAAAAAAAAAAAAAAAAAAAAAAAAAAAAAAAAAAAAAAAAAAAAAAAAAAAAAAAAAAAAAAAAAAAAAAAAAAAAAAAAAAAAAAAAAAAAAAAAAAAAAAAAAAAAAAAAAAAAAAAAAAAAAAAAAAAAAAAAAAAAAAAAAAAAAAAAAAAAAAAAAAAAAAAAAAAAAAAAAAAAAAAAAAAAAAAAAAAAAAAAAAEhlcmxhbWJhbmcgeWFuAAAABZADAAIAAAAUAAAQqJAEAAIAAAAUAAAQvJKRAAIAAAADNDMAAJKSAAIAAAADNDMAAOocAAcAAAgMAAAInAAAAAAc6gAAAAgAAAAAAAAAAAAAAAAAAAAAAAAAAAAAAAAAAAAAAAAAAAAAAAAAAAAAAAAAAAAAAAAAAAAAAAAAAAAAAAAAAAAAAAAAAAAAAAAAAAAAAAAAAAAAAAAAAAAAAAAAAAAAAAAAAAAAAAAAAAAAAAAAAAAAAAAAAAAAAAAAAAAAAAAAAAAAAAAAAAAAAAAAAAAAAAAAAAAAAAAAAAAAAAAAAAAAAAAAAAAAAAAAAAAAAAAAAAAAAAAAAAAAAAAAAAAAAAAAAAAAAAAAAAAAAAAAAAAAAAAAAAAAAAAAAAAAAAAAAAAAAAAAAAAAAAAAAAAAAAAAAAAAAAAAAAAAAAAAAAAAAAAAAAAAAAAAAAAAAAAAAAAAAAAAAAAAAAAAAAAAAAAAAAAAAAAAAAAAAAAAAAAAAAAAAAAAAAAAAAAAAAAAAAAAAAAAAAAAAAAAAAAAAAAAAAAAAAAAAAAAAAAAAAAAAAAAAAAAAAAAAAAAAAAAAAAAAAAAAAAAAAAAAAAAAAAAAAAAAAAAAAAAAAAAAAAAAAAAAAAAAAAAAAAAAAAAAAAAAAAAAAAAAAAAAAAAAAAAAAAAAAAAAAAAAAAAAAAAAAAAAAAAAAAAAAAAAAAAAAAAAAAAAAAAAAAAAAAAAAAAAAAAAAAAAAAAAAAAAAAAAAAAAAAAAAAAAAAAAAAAAAAAAAAAAAAAAAAAAAAAAAAAAAAAAAAAAAAAAAAAAAAAAAAAAAAAAAAAAAAAAAAAAAAAAAAAAAAAAAAAAAAAAAAAAAAAAAAAAAAAAAAAAAAAAAAAAAAAAAAAAAAAAAAAAAAAAAAAAAAAAAAAAAAAAAAAAAAAAAAAAAAAAAAAAAAAAAAAAAAAAAAAAAAAAAAAAAAAAAAAAAAAAAAAAAAAAAAAAAAAAAAAAAAAAAAAAAAAAAAAAAAAAAAAAAAAAAAAAAAAAAAAAAAAAAAAAAAAAAAAAAAAAAAAAAAAAAAAAAAAAAAAAAAAAAAAAAAAAAAAAAAAAAAAAAAAAAAAAAAAAAAAAAAAAAAAAAAAAAAAAAAAAAAAAAAAAAAAAAAAAAAAAAAAAAAAAAAAAAAAAAAAAAAAAAAAAAAAAAAAAAAAAAAAAAAAAAAAAAAAAAAAAAAAAAAAAAAAAAAAAAAAAAAAAAAAAAAAAAAAAAAAAAAAAAAAAAAAAAAAAAAAAAAAAAAAAAAAAAAAAAAAAAAAAAAAAAAAAAAAAAAAAAAAAAAAAAAAAAAAAAAAAAAAAAAAAAAAAAAAAAAAAAAAAAAAAAAAAAAAAAAAAAAAAAAAAAAAAAAAAAAAAAAAAAAAAAAAAAAAAAAAAAAAAAAAAAAAAAAAAAAAAAAAAAAAAAAAAAAAAAAAAAAAAAAAAAAAAAAAAAAAAAAAAAAAAAAAAAAAAAAAAAAAAAAAAAAAAAAAAAAAAAAAAAAAAAAAAAAAAAAAAAAAAAAAAAAAAAAAAAAAAAAAAAAAAAAAAAAAAAAAAAAAAAAAAAAAAAAAAAAAAAAAAAAAAAAAAAAAAAAAAAAAAAAAAAAAAAAAAAAAAAAAAAAAAAAAAAAAAAAAAAAAAAAAAAAAAAAAAAAAAAAAAAAAAAAAAAAAAAAAAAAAAAAAAAAAAAAAAAAAAAAAAAAAAAAAAAAAAAAAAAAAAAAAAAAAAAAAAAAAAAAAAAAAAAAAAAAAAAAAAAAAAAAAAAAAAAAAAAAAAAAAAAAAAAAAAAAAAAAAAAAAAAAAAAAAAAAAAAAAAAAAAAAAAAAAAAAAAAAAAAAAAAAAAAAAAAAAAAAAAAAAAAAAAAAAAAAAAAAAAAAAAAAAAAAAAAAAAAAAAAAAAAAAAAAAAAAAAAAAAAAAAAAAAAAAAAAAAAAAAAAAAAAAAAAAAAAAAAAAAAAAAAAAAAAAAAAAAAAAAAAAAAAAAAAAAAAAAAAAAAAAAAAAAAAAAAAAAAAAAAAAAAAAAAAAAAAAAAAAAAAAAAAAAAAAAAAAAAAAAAAAAAAAAAAAAAAAAAAAAAAAAAAAAAAAAAAAAAAAAAAAAAAAAAAAAAAAAAAAAAAAAAAAAAAAAAAAAAAAAAAAAAAAAAAAAAAAAAAAAAAAAAAAAAAAAAAAAAAAAAAAAAAAAAAAAAAAAAAAAAAAAAAAAAAAAAAAAAAAAAAAAAAAAAAAAAAAAAAAAAAAAAAAAAAAAAAAAAAAAAAAAAAAAAAAAAAAAAAAAAAAAAAAAAAAAAAAAAAAAAAAAAAAAAAAAAAAAAAAAAAAAAAAAAAAAAAAAAAAAAAAAAAAAAAAAAAAAAAAAAAAAAAAAAAAAAAAAAAAAAAAAAAAAAAAAAAAAAAAAAAAAAAAAAAAAAAAAAAAAAAAAAAAAAAAAAAAAAAAAAAAAAAAAAAAAAAAAAAAAAAAAAAAAAAAAAAAAAAAAAAAAAAAAAAAAAAAAAAAAAAAAAAAAAAAAAAAAAAAAAAAAAAAAAAAAAAAAAAAAAAAAAAAAAAAAAAAAAAAAAAAAAAAAAAAAAAAAAAAAAAAAAAAAAAAAAAAAAAAAAAAAAAAAAAAAAAAAAAAAAAAAAAAAAAAAAAAAAAAAAAAAAAAAAAAAAAAAAAAAAAAAAAAAAAAAAAAAAAAAAAAAAAAAAAAAAAAAAAAAAAAAAAAAAAAAAAAAAAAAAAAAAAAAAAAAAAAAAAAAAAAAAAAAAAAAAAAAAAAAAAAAAAAAAAAAAAAAAAAAAAAAAAAAAAAAAAAAAAAAAAAAAAAAAAAADIwMjA6MTI6MDYgMTQ6MjM6NTQAMjAyMDoxMjowNiAxNDoyMzo1NAAAAEgAZQByAGwAYQBtAGIAYQBuAGcAIAB5AGEAbgAAAP/hCyFodHRwOi8vbnMuYWRvYmUuY29tL3hhcC8xLjAvADw/eHBhY2tldCBiZWdpbj0n77u/JyBpZD0nVzVNME1wQ2VoaUh6cmVTek5UY3prYzlkJz8+DQo8eDp4bXBtZXRhIHhtbG5zOng9ImFkb2JlOm5zOm1ldGEvIj48cmRmOlJERiB4bWxuczpyZGY9Imh0dHA6Ly93d3cudzMub3JnLzE5OTkvMDIvMjItcmRmLXN5bnRheC1ucyMiPjxyZGY6RGVzY3JpcHRpb24gcmRmOmFib3V0PSJ1dWlkOmZhZjViZGQ1LWJhM2QtMTFkYS1hZDMxLWQzM2Q3NTE4MmYxYiIgeG1sbnM6ZGM9Imh0dHA6Ly9wdXJsLm9yZy9kYy9lbGVtZW50cy8xLjEvIi8+PHJkZjpEZXNjcmlwdGlvbiByZGY6YWJvdXQ9InV1aWQ6ZmFmNWJkZDUtYmEzZC0xMWRhLWFkMzEtZDMzZDc1MTgyZjFiIiB4bWxuczp4bXA9Imh0dHA6Ly9ucy5hZG9iZS5jb20veGFwLzEuMC8iPjx4bXA6Q3JlYXRlRGF0ZT4yMDIwLTEyLTA2VDE0OjIzOjU0LjQzMDwveG1wOkNyZWF0ZURhdGU+PC9yZGY6RGVzY3JpcHRpb24+PHJkZjpEZXNjcmlwdGlvbiByZGY6YWJvdXQ9InV1aWQ6ZmFmNWJkZDUtYmEzZC0xMWRhLWFkMzEtZDMzZDc1MTgyZjFiIiB4bWxuczpkYz0iaHR0cDovL3B1cmwub3JnL2RjL2VsZW1lbnRzLzEuMS8iPjxkYzpjcmVhdG9yPjxyZGY6U2VxIHhtbG5zOnJkZj0iaHR0cDovL3d3dy53My5vcmcvMTk5OS8wMi8yMi1yZGYtc3ludGF4LW5zIyI+PHJkZjpsaT5IZXJsYW1iYW5nIHlhbjwvcmRmOmxpPjwvcmRmOlNlcT4NCgkJCTwvZGM6Y3JlYXRvcj48L3JkZjpEZXNjcmlwdGlvbj48L3JkZjpSREY+PC94OnhtcG1ldGE+DQogICAgICAgICAgICAgICAgICAgICAgICAgICAgICAgICAgICAgICAgICAgICAgICAgICAgICAgICAgICAgICAgICAgICAgICAgICAgICAgICAgICAgICAgICAgICAgICAgICAgCiAgICAgICAgICAgICAgICAgICAgICAgICAgICAgICAgICAgICAgICAgICAgICAgICAgICAgICAgICAgICAgICAgICAgICAgICAgICAgICAgICAgICAgICAgICAgICAgICAgICAKICAgICAgICAgICAgICAgICAgICAgICAgICAgICAgICAgICAgICAgICAgICAgICAgICAgICAgICAgICAgICAgICAgICAgICAgICAgICAgICAgICAgICAgICAgICAgICAgICAgIAogICAgICAgICAgICAgICAgICAgICAgICAgICAgICAgICAgICAgICAgICAgICAgICAgICAgICAgICAgICAgICAgICAgICAgICAgICAgICAgICAgICAgICAgICAgICAgICAgICAgCiAgICAgICAgICAgICAgICAgICAgICAgICAgICAgICAgICAgICAgICAgICAgICAgICAgICAgICAgICAgICAgICAgICAgICAgICAgICAgICAgICAgICAgICAgICAgICAgICAgICAKICAgICAgICAgICAgICAgICAgICAgICAgICAgICAgICAgICAgICAgICAgICAgICAgICAgICAgICAgICAgICAgICAgICAgICAgICAgICAgICAgICAgICAgICAgICAgICAgICAgIAogICAgICAgICAgICAgICAgICAgICAgICAgICAgICAgICAgICAgICAgICAgICAgICAgICAgICAgICAgICAgICAgICAgICAgICAgICAgICAgICAgICAgICAgICAgICAgICAgICAgCiAgICAgICAgICAgICAgICAgICAgICAgICAgICAgICAgICAgICAgICAgICAgICAgICAgICAgICAgICAgICAgICAgICAgICAgICAgICAgICAgICAgICAgICAgICAgICAgICAgICAKICAgICAgICAgICAgICAgICAgICAgICAgICAgICAgICAgICAgICAgICAgICAgICAgICAgICAgICAgICAgICAgICAgICAgICAgICAgICAgICAgICAgICAgICAgICAgICAgICAgIAogICAgICAgICAgICAgICAgICAgICAgICAgICAgICAgICAgICAgICAgICAgICAgICAgICAgICAgICAgICAgICAgICAgICAgICAgICAgICAgICAgICAgICAgICAgICAgICAgICAgCiAgICAgICAgICAgICAgICAgICAgICAgICAgICAgICAgICAgICAgICAgICAgICAgICAgICAgICAgICAgICAgICAgICAgICAgICAgICAgICAgICAgICAgICAgICAgICAgICAgICAKICAgICAgICAgICAgICAgICAgICAgICAgICAgICAgICAgICAgICAgICAgICAgICAgICAgICAgICAgICAgICAgICAgICAgICAgICAgICAgICAgICAgICAgICAgICAgICAgICAgIAogICAgICAgICAgICAgICAgICAgICAgICAgICAgICAgICAgICAgICAgICAgICAgICAgICAgICAgICAgICAgICAgICAgICAgICAgICAgICAgICAgICAgICAgICAgICAgICAgICAgCiAgICAgICAgICAgICAgICAgICAgICAgICAgICAgICAgICAgICAgICAgICAgICAgICAgICAgICAgICAgICAgICAgICAgICAgICAgICAgICAgICAgICAgICAgICAgICAgICAgICAKICAgICAgICAgICAgICAgICAgICAgICAgICAgICAgICAgICAgICAgICAgICAgICAgICAgICAgICAgICAgICAgICAgICAgICAgICAgICAgICAgICAgICAgICAgICAgICAgICAgIAogICAgICAgICAgICAgICAgICAgICAgICAgICAgICAgICAgICAgICAgICAgICAgICAgICAgICAgICAgICAgICAgICAgICAgICAgICAgICAgICAgICAgICAgICAgICAgICAgICAgCiAgICAgICAgICAgICAgICAgICAgICAgICAgICAgICAgICAgICAgICAgICAgICAgICAgICAgICAgICAgICAgICAgICAgICAgICAgICAgICAgICAgICAgICAgICAgICAgICAgICAKICAgICAgICAgICAgICAgICAgICAgICAgICAgICAgICAgICAgICAgICAgICAgICAgICAgICAgICAgICAgICAgICAgICAgICAgICAgICAgICAgICAgICAgICAgICAgICAgICAgIAogICAgICAgICAgICAgICAgICAgICAgICAgICAgICAgICAgICAgICAgICAgICAgICAgICAgICAgICAgICAgICAgICAgICAgICAgICAgICAgICAgICAgICAgICAgICAgICAgICAgCiAgICAgICAgICAgICAgICAgICAgICAgICAgICAgICAgICAgICAgICAgICAgICAgICAgICAgICAgICAgICAgICAgICAgICAgICAgICAgICAgICAgICAgICAgICAgICAgICAgICAKICAgICAgICAgICAgICAgICAgICAgICAgICAgIDw/eHBhY2tldCBlbmQ9J3cnPz7/2wBDAAcFBQYFBAcGBQYIBwcIChELCgkJChUPEAwRGBUaGRgVGBcbHichGx0lHRcYIi4iJSgpKywrGiAvMy8qMicqKyr/2wBDAQcICAoJChQLCxQqHBgcKioqKioqKioqKioqKioqKioqKioqKioqKioqKioqKioqKioqKioqKioqKioqKioqKir/wAARCAIjA8QDASIAAhEBAxEB/8QAHwAAAQUBAQEBAQEAAAAAAAAAAAECAwQFBgcICQoL/8QAtRAAAgEDAwIEAwUFBAQAAAF9AQIDAAQRBRIhMUEGE1FhByJxFDKBkaEII0KxwRVS0fAkM2JyggkKFhcYGRolJicoKSo0NTY3ODk6Q0RFRkdISUpTVFVWV1hZWmNkZWZnaGlqc3R1dnd4eXqDhIWGh4iJipKTlJWWl5iZmqKjpKWmp6ipqrKztLW2t7i5usLDxMXGx8jJytLT1NXW19jZ2uHi4+Tl5ufo6erx8vP09fb3+Pn6/8QAHwEAAwEBAQEBAQEBAQAAAAAAAAECAwQFBgcICQoL/8QAtREAAgECBAQDBAcFBAQAAQJ3AAECAxEEBSExBhJBUQdhcRMiMoEIFEKRobHBCSMzUvAVYnLRChYkNOEl8RcYGRomJygpKjU2Nzg5OkNERUZHSElKU1RVVldYWVpjZGVmZ2hpanN0dXZ3eHl6goOEhYaHiImKkpOUlZaXmJmaoqOkpaanqKmqsrO0tba3uLm6wsPExcbHyMnK0tPU1dbX2Nna4uPk5ebn6Onq8vP09fb3+Pn6/9oADAMBAAIRAxEAPwDwW41y5iupY1SIhHKjIPY/Wo/+Eguv7kP/AHyf8ao3v/H/AHH/AF1b+dQ0Aan/AAkF1/ch/wC+T/jR/wAJBdf3If8Avk/41l0UAan/AAkF1/ch/wC+T/jR/wAJBdf3If8Avk/41l0UAan/AAkF1/ch/wC+T/jR/wAJBdf3If8Avk/41l0UAan/AAkF1/ch/wC+T/jR/wAJBdf3If8Avk/41l0UAan/AAkF1/ch/wC+T/jR/wAJBdf3If8Avk/41l0UAan/AAkF1/ch/wC+T/jR/wAJBdf3If8Avk/41l0UAan/AAkF1/ch/wC+T/jR/wAJBdf3If8Avk/41l0UAan/AAkF1/ch/wC+T/jR/wAJBdf3If8Avk/41l0UAan/AAkF1/ch/wC+T/jR/wAJBdf3If8Avk/41l0UAan/AAkF1/ch/wC+T/jR/wAJBdf3If8Avk/41l0UAan/AAkF1/ch/wC+T/jR/wAJBdf3If8Avk/41l0UAan/AAkF1/ch/wC+T/jR/wAJBdf3If8Avk/41l0UAan/AAkF1/ch/wC+T/jR/wAJBdf3If8Avk/41l0UAan/AAkF1/ch/wC+T/jR/wAJBdf3If8Avk/41l0UAan/AAkF1/ch/wC+T/jR/wAJBdf3If8Avk/41l0UAan/AAkF1/ch/wC+T/jR/wAJBdf3If8Avk/41l0UAan/AAkF1/ch/wC+T/jR/wAJBdf3If8Avk/41l0UAan/AAkF1/ch/wC+T/jR/wAJBdf3If8Avk/41l0UAan/AAkF1/ch/wC+T/jR/wAJBdf3If8Avk/41l0UAan/AAkF1/ch/wC+T/jR/wAJBdf3If8Avk/41l0UAan/AAkF1/ch/wC+T/jR/wAJBdf3If8Avk/41l0UAan/AAkF1/ch/wC+T/jR/wAJBdf3If8Avk/41l0UAan/AAkF1/ch/wC+T/jR/wAJBdf3If8Avk/41l0UAan/AAkF1/ch/wC+T/jR/wAJBdf3If8Avk/41l0UAan/AAkF1/ch/wC+T/jR/wAJBdf3If8Avk/41l0UAan/AAkF1/ch/wC+T/jR/wAJBdf3If8Avk/41l0UAan/AAkF1/ch/wC+T/jR/wAJBdf3If8Avk/41l0UAan/AAkF1/ch/wC+T/jR/wAJBdf3If8Avk/41l0UAan/AAkF1/ch/wC+T/jR/wAJBdf3If8Avk/41l0UAan/AAkF1/ch/wC+T/jR/wAJBdf3If8Avk/41l0UAan/AAkF1/ch/wC+T/jR/wAJBdf3If8Avk/41l0UAan/AAkF1/ch/wC+T/jR/wAJBdf3If8Avk/41l0UAan/AAkF1/ch/wC+T/jR/wAJBdf3If8Avk/41l0UAan/AAkF1/ch/wC+T/jR/wAJBdf3If8Avk/41l0UAan/AAkF1/ch/wC+T/jR/wAJBdf3If8Avk/41l0UAan/AAkF1/ch/wC+T/jR/wAJBdf3If8Avk/41l0UAan/AAkF1/ch/wC+T/jR/wAJBdf3If8Avk/41l0UAan/AAkF1/ch/wC+T/jR/wAJBdf3If8Avk/41l0UAan/AAkF1/ch/wC+T/jR/wAJBdf3If8Avk/41l0UAan/AAkF1/ch/wC+T/jR/wAJBdf3If8Avk/41l0UAan/AAkF1/ch/wC+T/jR/wAJBdf3If8Avk/41l0UAan/AAkF1/ch/wC+T/jR/wAJBdf3If8Avk/41l0UAan/AAkF1/ch/wC+T/jR/wAJBdf3If8Avk/41l0UAan/AAkF1/ch/wC+T/jR/wAJBdf3If8Avk/41l0UAan/AAkF1/ch/wC+T/jR/wAJBdf3If8Avk/41l0UAan/AAkF1/ch/wC+T/jR/wAJBdf3If8Avk/41l0UAan/AAkF1/ch/wC+T/jR/wAJBdf3If8Avk/41l0UAan/AAkF1/ch/wC+T/jR/wAJBdf3If8Avk/41l0UAan/AAkF1/ch/wC+T/jR/wAJBdf3If8Avk/41l0UAan/AAkF1/ch/wC+T/jR/wAJBdf3If8Avk/41l0UAan/AAkF1/ch/wC+T/jR/wAJBdf3If8Avk/41l0UAan/AAkF1/ch/wC+T/jR/wAJBdf3If8Avk/41l0UAan/AAkF1/ch/wC+T/jR/wAJBdf3If8Avk/41l0UAan/AAkF1/ch/wC+T/jR/wAJBdf3If8Avk/41l0UAan/AAkF1/ch/wC+T/jR/wAJBdf3If8Avk/41l0UAan/AAkF1/ch/wC+T/jR/wAJBdf3If8Avk/41l0UAan/AAkF1/ch/wC+T/jR/wAJBdf3If8Avk/41l0UAan/AAkF1/ch/wC+T/jR/wAJBdf3If8Avk/41l0UAan/AAkF1/ch/wC+T/jR/wAJBd/3If8Avk/41l0UAdup4opF+7RQBx97/wAf9x/11b+dQ1Ne/wDH/cf9dW/nUNABRRRQAUUUUAFFFFABRRRQAUUUUAFFFFABRRRQAUUUUAFFFFABRRRQAUUUUAFFFFABRRRQAUUUUAFFFFABRRRQAUUUUAFFFFABRRRQAUUUUAFFFFABRRRQAUUUUAFFFFABRRRQAUUUUAFFFFABRRRQAUUUUAFFFFABRRRQAUUUUAFFFFABRRRQAUUUUAFFFFABRRRQAUUUUAFFFFABRRRQAUUUUAFFFFABRRRQAUUUUAFFFFABRRRQAUUUUAFFFFABRRRQAUUUUAFFFFABRRRQAUUUUAFFFFABRRRQAUUUUAFFFFABRRRQAUUUUAdsv3aKF+7RQBx97/x/3H/XVv51DU17/wAf9x/11b+dQ0AFFFFABRRRQAUUUUAFFFFABRRRQAUUUUAFFFFABRRRQAUUUUAFFFFABRRRQAUUUUAFFFFABRRRQAUUUUAFFFFABRRRQAUUUUAFFFFABRRRQAUUUUAFFFFABRRRQAUUUUAFFFFABRRRQAUUUUAFFFFABRRRQAUUUUAFFFFABRRRQAUUUUAFFFFABRRRQAUUUUAFFFFABRRRQAUUUUAFFFFABRRRQAUUUUAFFFFABRRRQAUUUUAFFFFABRRRQAUUUUAFFFFABRRRQAUUUUAFFFFABRRRQAUUUUAFFFFABRRRQAUUUUAFFFFABRRRQB2y/dooX7tFAHH3v/H/AHH/AF1b+dQ1Ne/8f9x/11b+dQ0AFFFFABRRRQAUUUUAFFFFABRRRQAUUUUAFFFFABRRRQAUUUUAFFFFABRRRQAVJbCE3cIuiwgLr5hT7wXPOPfFR0UAez/Gv4M6P8OfDumat4fvb+6iubkwS/a3RgMoWUrtVf7reteO2tvJeXkNtCMyTSLGg9STgfzr6n+IDf8ACX/sk2Gqf6ya2tbS4Y+roRFIf1evn/4Wab/a3xX8NWhXcp1GKRh6qjbz+imgDvvjV8FNI+G/hfT9W0S91C6867+zTi7ZGAJRmBG1Rj7p65rxyxtJL/Ubazh/1lxKsSfViAP519jftBQQa18Gtc+zsJJdJuoHcD+Fspkf98S5r5k+EWmf2v8AF/wza7dwW+Scj1EWZD+iUAdh8bvhL4d+GWk6TJo99qNzd38zqVu5I2UIijJAVFOcsvep/hx8GtC8YfCXU/FOo32ow3tqbgRxwOgjPlxhlyChJ5PPIq7+1Zqv2nx5pGmK2Vs7DzSPRpHOR+SLXa/Az/k27Xf969/9EigD5Uoq3Y6RqWqbv7M0+6vNn3vs8DSbfrgGq80MtvM0VxG8UiHDI6lWU+4NADKKKsWVhealcC3060nu5iMiOCMuxH0HNAFeird/pOo6VIseqWF1ZO3RbmFoyfwYCqlAFu10rUL6F5rKwuriKM4d4YWdV4zyQOKqV9Wfs0wTQ/CPX1mieNjfzYDKQT+4jr5ZltLmFN81vLGucZdCBQBDQBkgdM9zRRQB9PeJ/wBnDwrpHwxvr61v7v8AtWwsXujePKDHKyIWIK4wFOCBjkZHJ7/MNdPd+OfGd54TTRbzWdRk0ZVCCF2OwqOilupUYGATjgVzFABRVmz0691BmWws7i6K/eEETPj64FRT281rM0N1DJDKv3kkUqw/A0AR0UUUAeg/BjwBpvxG8bXGj6zc3dvbxWL3Ia0ZVcsrooGWUjHzntXrF98B/hHpl7JZ6l47ns7qIgSQXGq2kbpkZGVKZHBBrkP2WP8Akq17/wBgiX/0bFXLfHb/AJLd4j/66xf+iUoA9H1z9mTT7/Q31L4c+JhqeATHFO8ciTEdlmTAB+ox6kV8+XVrPY3k1peQvBcQO0csUgwyMDggjsQRXqv7OPie80b4rWmlxzP9i1dHhnhz8pZUZkbHqCuM+jGn/tMaNBpfxda4tkCf2lYxXUgUYG/LRk/j5YP1NAC/A/4SaJ8TLXWZdcvNQtjYPCsQs3Rd28OTncrf3R0xXbSfBL4NQytHL8Q2SRGKsraxZgqR1BGzg1L+yT/yDfFH/Xa2/lJXzv4i/wCRo1T/AK/Jv/QzQB9A/wDClvgv/wBFF/8AKzZ//EV886vbW1nrl9bWE32i1huZI4ZtwbzEDEK2RwcgA5FU62/Benw6t4+0DTrpQ0F3qdvBIp7q0qqR+RoA9e+H/wCztBqHhuLxH8QdVfSLCWMTJbxssbLGejSSPkJnjjGcHkg8V0Vr8G/g34rd9P8AC3iqQ6gAdghvkkZvfYy/MP8Ad/Oov2sNau4bfw/okMjJaT+bcTIpwJGXaEz7DLfn7V832d3cafew3llM8FxA4kiljOGRgcgg+uaAOr+JPw21X4a+IFsNSdbm2nUvaXka4WZR14/hYZGR2yOoINTfCPwVYeP/AB/DoerT3MFs8EkrPasofKjI5YEfpXt3x/vrDxH8DtG1SWe2N/5ttcqiSAsPMjO9QM5xyPyFeafs1f8AJZrb/rzn/wDQaAOW+K3g+x8CfES+0DSp7ie1t0iZHuWUud0asclQB1PpWp8J/hBqPxNvZ5ftH9n6RaMFnuym4s3XYg4ycck9BkeoBuftGf8AJbtV/wCuNv8A+iVr17wrcyeFv2PpNR0YmO7eynlMqcMHeVk35HdQRg/7IoAy5PhF8ErK+/sO88Vuup52Nv1OMOr+h+XaD7HmvOvi38D7z4c26atpt22paJI4QysoElux6B8cEHswxzxgcZ8pJJJJOSepr6w+HV3J41/ZX1Sx1hjO1ra3VokkhycRpvjP/AcqB/uigD5h8OabFrPirStMuHdIr29ht3ZMblV3CkjPfBr0X44/CzRvhlPoqaHd31yuoLMZPtjo23YUxjaq/wB81w3gX/konhz/ALCtr/6NWvb/ANrf/j68Kf7l3/OKgDwTw9oGo+KfEFpo2iwGe9u32RpnAHcknsAAST6CvoSL4A/D7wbpcM/xH8VMLmUdBcLbxk9wikF2x65/AVjfsn6bDP4s13UZFDTWtnHFGSPu+Y5JI/74A/GvN/i/rt5r/wAWfEE17Izi2vZbOFSchI4nKKAO3TP1JoA9d1H9nfwh4q0OTUfhh4m86VAcRyzpPCzf3SygMh+ufpXztqWnXej6pc6dqUDW93ayNFNE/VGBwRXon7PuvXmj/GDS7a2kYW+pb7a5i3cONhKkj1DAH8/Wtf8Aag02Cx+LUVxAoVr7TYp5cDq4Z48/98otAC/BH4PaF8S9F1S91u91G3e0uFijWzdFBBXJJ3I1edeOvC0vgvxxqmgTFnFnORFI45kjPzIx9ypB+tfQv7J3/Ip6/wD9fyf+i6w/2pPDcVwuh+NNN2yQXMYtJpU6MMF4m98guM+y0AeSfC7wnZeOPiRpnh/VJp4LW7EpeS3KhxsidxgsCOqjtVv4v+CNP+H3j19E0i4ubi2FtHMHumUvls5GVAGOPStH9nr/AJLpoP0uf/SeStT9pr/ksUn/AF4Qf+zUAeQ1peHLKy1LxTpVjq1z9ksLm8ihubjeE8qNnAZtzcDAJOTwKzaKAPpL/hS3wX/6KL/5WbP/AOIrU1T9m/4a6HbpPrXirUtOhkbYkl3fW0Ss2M4BaMAnAPFfLNfVX7VP/JO9D/7CI/8ART0AcR43+Ffws0PwVqWpeHvHH2/UreMNb239qWsvmNuAxtRQx4J6Vw3wf8D6f8QfHi6Jq9xdW9t9mkmL2rKr5XGBlgRjn0rha9f/AGZP+SwL/wBg+b/2WgDvNQ+Anwk0m+ez1XxzcWV1HjfBc6paRuuRkZVkBGQQfxqnqf7Mug6vor33w98WG9ZQdgnkjnilYfw+ZGBt/I153+0N/wAlz13/AHbb/wBJ46h+Bniu88M/FbSIoJnFpqlwllcwg/LIJDtUkeoYg5+vqaAOE1PTbzRtUudO1O3e2u7WQxTROOUYdR/9eva/hJ8EfDHjr4ev4h8QanqNm8dxKj+RNEkaIgB3Hchx1OTnFR/tT6LBY/EDTtUgQI2o2WJsD7zxtt3H32lR/wABruvgp/ybNrn+7ff+iqAMb/hS3wX/AOii/wDlZs//AIiq2pfBz4O22lXc9r8QvMnihd40/te0bcwUkDATJ57CvnaigDX8JaRDr/jTRdHu3kjg1C/gtpHjIDKruFJGQRnB9K+itV/Z3+F+hSRprnjC+015QTGt5qNrCXA6kboxmvBPhr/yVXwr/wBhi0/9HLXr37Wn/If8N/8AXtN/6EtAF7/hS3wX/wCii/8AlZs//iK8y+Lfg3wb4QuNKXwP4i/ttblZTcn7ZDP5RUrt5jAxnLdfSvOqKACpbW1nvbyG1tImmuJ5FjijQZZ2JwAB6kmoq9O/Z506HUPjVpRuFDraxzXCqf7yxkKfwJB/CgD0XRf2dvCnhrw9HqnxS8QeRK4G+JLhIIYmP8G88u30x9D1pdc/Z18LeI/DkmrfC7XTcSqCY4nuFnhmI/g3jlG+uffHWuO/ab1u6v8A4q/2ZLI32XTbWNYo8/KGcb2bHqcgf8BFXf2WdYurb4iX2ko7G0vLFpHjzwHRl2tj6Mw/GgDxO4gltbmW3uY2imicpJG4wVYHBBHqDUdeifHmwh0/42+II7ZQqSSRTkD+88SM35sSfxrzugAooooAKKKKACiiigAooooAKKKKACiiigAooooAKKKKACiiigAooooAKKKKACiiigDtl+7RQv3aKAOPvf8Aj/uP+urfzqGpr3/j/uP+urfzqGgAooooAKKKKACiiigAooooAKKKKACiiigAooooAKKKKACiiigAooooAKKKKACiiigD6n+Dbf8ACWfsy63oB+eS3W8s417gunmKf++pP0rzH9mvTft3xmtZ9uRYWk9wfbK+X/7Ursv2TNW233iPRnb/AFkcN1GvptLKx/8AHk/KrfwH0NPDHj/4i3c6bYtEL2oPT5PMkY4/CIH8RQBt+HtS/wCE18O/GLSAfMIvrpoe/WIxxn84Aa8w/Zi0z7b8XDdFeLCwmmB9CxWP+Tmtv9lvWGm8feIbO5bcdQsvtLg9GZJAD/6NNdD+zZ4fGha945mufkGn3IsA7dtjSF/5LQB5D8dNV/tf40eIJFbKW8y2qj08tFQj/voNXvP7OFpDf/A+8tLrIguLy5ikwcHayKDz24NfKet6i+sa/qGpyZ33t1JcNn1di39a+n/gUxT9nDW2UkMr3pBHb9yKAOcl/aW07wxfJo/gvwnbDw/ZN5UeZjG0yg43AAfLnrzknqea6n4taPofxR+CQ8c6Pa4vba2+1wzbQJPLVsSxOR1C4f6FeOCc/JtfVXw2Jb9kHWgeQNO1MD2+WSgD5s8J+Hp/Ffi7TNCtWCSX1wsW8/wKfvN+Ayfwr6o8b+NPDv7P/hvTtE8L6JFNe3SFkjLbflXgyysBliT0HseQABXyJb3M9ncJPaTSQTRnKSROVZT7Eciu/wBF+FnxH+IUMWpLY3lxbsmIrzUrjaCvUbd53FeTyARQB7t8O/ipo3xrhvfCvi7QreO5MJlEW7fFMgOCVzyjrkd89wRivnLx34Zk+HfxLvdJjbzksbhZbZ5P44zh0zjvggH3Br2b4R/BDxl4L+Jum65rC2S2Vusyy+Tc7mO6JlHGOfmIri/2mwB8YXwOthAT7/eoA99+EnxK1H4heB9T1vUrK1tZrO5eFI7fdtYLGr5OSTnLGvnjx38fNd8feE5tB1DStOtoJpEdpIN+4bWyMZYjtXqn7Mv/ACSHxB/2EJv/AERHXyvQAUUUUAfVXiz/AJMttv8AsHWH/o+KvBfhV4Oj8d/EbTdFuiy2bFproqcHykG4gH3wFz2zmvevFn/Jltt/2DrD/wBHxV4j8GPFtp4M+KWm6lqj+XYyB7a4kx/q1cYDfQNtJ9s0Ae4/Eb4z2Hwl1KPwh4M8P2bPaRI0wPyRQ7gCFCryzFSCST3HWrXhnX/Dv7Rvg/UtM1/SIrHV7FQBIhDtFuB2yxtgHGQcqeOmc5rJ+NXwO1Hxjrcni7wZNDdz3cSGe0aQL5u1QqvG/wB05ULwSOmQTnFeBWmp+L/htrFzBbS6hoF+6hJkZDGzKDkcEcj0NAGHqFjNpmp3VhdACe1meGQA5wysQf1FV6lurqe+vJru7laa4nkaSWRjkuzHJJ9yTUVAHtX7LH/JVr3/ALBEv/o2KuW+O3/JbvEf/XWL/wBEpXU/ssf8lWvf+wRL/wCjYq5b47f8lu8R/wDXWL/0SlAEfwP/AOS1+G/+vhv/AEW9dn+1Z/yU3S/+wPH/AOjpa4z4H/8AJa/Df/Xw3/ot67P9qz/kpul/9geP/wBHS0AdT+yT/wAg3xR/12tv5SV88+IUf/hKNU+Vv+Pybt/tmvob9kn/AJBvij/rtbfykqXUP2rIbDU7qz/4RB5Ps8zxb/7RA3bWIzjyvagD5hII6jH1rpfhv/yVTwp/2GbT/wBHLWn8V/iKvxN8VW2sJph00QWS2vlGfzd2Hdt2dq/38Yx2rM+G/wDyVTwp/wBhm0/9HLQB7B+1p/yHPDX/AF7T/wDoS189V9C/taf8hzw1/wBe0/8A6EtfPVABXrX7NX/JZrb/AK85/wD0GvJa9a/Zq/5LNbf9ec//AKDQBW/aM/5Ldqv/AFxt/wD0Stejfs8eMNJ8Q+Crz4b+ISm5klFvG7YFxBJkug/2gSx9cHI6GvOf2jP+S3ar/wBcbf8A9ErXmVvcTWlzHcWsrwzRMHjkjYqyMOQQR0NAHe/FH4Raz8N9SaR0e80WV8W1+q8DPRJMfdb9D27gcZa63qtjZSWdlqd5bWsmd8ENw6I+Rg5UHByOK+iPhn8f7HxBZjwt8UUt3FwvkrfzIDDODxtmXoD/ALXT1x1PKfG34IDwbG3iTwqGl0KRx51uSWazLdCD3QnjJ5BIHOc0AeZeBf8Akonhz/sK2v8A6NWvb/2t/wDj68Kf7l3/ADirxDwL/wAlE8Of9hW1/wDRq17f+1v/AMfXhT/cu/5xUAR/slf8hTxR/wBcbb/0KSvGPiF/yU7xR/2GLv8A9HPXs/7JX/IU8Uf9cbb/ANCkrxj4hf8AJTvFH/YYu/8A0c9AGx8FP+S0eGv+vo/+gNXbftWf8lN0v/sDx/8Ao6WuJ+Cn/JaPDX/X0f8A0Bq7b9qz/kpul/8AYHj/APR0tAHa/snf8inr/wD1/J/6LpPALL8Vf2ctW8KTESajpe+3h3HnKnzLc+w42fRTS/snf8inr/8A1/J/6Lrzn9njxZ/wj3xaOnTybbTWg1qwJ4EoJaM/XOVH+/QBmfs+KyfHbQlcFWUXIIIwQfs8laX7TX/JYpP+vCD/ANmrs7Hwn/win7ZlksMey01IXF9b4HGHt5d4/Bw3HpiuM/aa/wCSxSf9eEH/ALNQB5DRRRQAV9VftU/8k70P/sIj/wBFPXyrX1V+1T/yTvQ/+wiP/RT0AfKtev8A7Mn/ACWBf+wfN/7LXkFev/syf8lgX/sHzf8AstAGX+0N/wAlz13/AHbb/wBJ46l+A3gbUfE3xI0zUxayDS9KnW6nuipCb0+ZEB6FiwXj0ya9h+I/x5svBPj2/wBAn8HQ6nJaiIm6a7VC+6NX6GJsY3Y69q2/iZ4/1XS/gjZ+KvA0cEMd6sJd2TcbWOVfvKOm4OVXkEZPSgDx39qDxFBqvxHtdLtZFkXSbQJKV/hlc7mX8F2fjmvQfgnz+zNrmPS+/wDRVfLFxcTXd1Lc3UrzTzOXklkYszsTkkk9ST3r60/Z71AaT8A73UTH5os7i6n8vdjfsQNjPbOKAPkny3/ut+VNIwcHivpX/hreH/oTZP8AwZD/AONV4Z4+8VDxv461LxEtn9iF8yMLfzPM2bUVPvYGc7c9O9AEnw1/5Kr4V/7DFp/6OWvX/wBrNWbXvDeAT/o03Qf7S15B8Nf+Sq+Ff+wxaf8Ao5a+sPiv8ZE+F1/p1s+iNqf26J5NwuvK2bSBj7jZ60AfFRRgMlSB9KSvc/H37RsfjbwLqPh5fDDWZvlRfPN8JNm11f7vljP3cde9eGUAFTWl7dWFwtxY3M1tMv3ZIZCjD8RzUNFAE95fXepXTXOoXU13cPgNLPIXdsDAyTz04r6j+Afw8Pw/8P33jXxewsJ7m1O1Jjt+zW3Dln9GYqpx1AA7kgeX/s4+E7LxN8TDcapEs0Gk25u0iYZDS7lVMjuBkt9VFan7RXxM1DWvFV14QsZGg0nTZAs6qcG5mABJb/ZUnAHqM+mADzPx/wCJv+Ex8f6xrwUrHeXBMSt1EagKgPvtVa52iigAooooAKKKKACiiigAooooAKKKKACiiigAooooAKKKKACiiigAooooAKKKKACiiigDtl+7RQv3aKAOPvf+P+4/66t/Ooamvf8Aj/uP+urfzqGgAooooAKKKKACiiigAooooAKKKKACiiigAooooAKKKKACiiigAooooAKKKKACiiigD1P9nPV/7L+M+nxM21NQgmtWP/Ad4H/fSLXvfjPSx4O8DfE/WgBH/bHMRHo9vHFn6+Y8lfJfg3V/7B8caJqpbatnfQyuf9kONw/LNfVn7TOpfYfg7LbA4N/fQwY9QCZP/adAHgn7Pmpf2b8a9HDNtS7Wa3f33RsV/wDHgtfRWv6ePAfw5+I+pjCNqNxc3cTg95okRf8Ax8mvkfwRqf8AY3j7QdRLbVttRgkc/wCyJBu/TNfVH7TWq/2f8IHtA2DqN7DAR6hcyH9YxQB8dV9V/Az/AJNu13/evf8A0SK+VK+q/gZ/ybdrv+9e/wDokUAfKlfVXw1/5ND1v/sHan/6BJXyrX1V8Nf+TQ9b/wCwdqf/AKBJQB4t8D/C1p4t+K+nWepRLNZ26vdzRMMiQIPlU+24rkdxkV6j8fvjB4g0DxX/AMIr4UvDpsdtAjXU8SjzHdxuChj90BSpyMHJPNeZ/AjxNZ+Fvi1p9zqcywWl0j2kkznCx7x8pJ7DcFBPbOa9f+NnwL1nxp4rHiTwrLaySXEKR3NtPJsJZRtDq3QjaACDjp3zwAcN8DfHvi3XPjFo9hrHiPU72zlWcyQT3LOjYgcjIJxwQD+FUv2m/wDksLf9g+H/ANmr074N/Bk/DvxFDrPi7ULM6xdI9vp9nC+7adpZzkgbm2K3A4Azyc8eY/tN/wDJYW/7B8P/ALNQB6T+zL/ySHxB/wBhCb/0RHXyvX03+yprljLoGueHJ5EF19oF2sTHmWNkCNgd8bBn/eFeb/E74Gat8O9Om1o6jZXmkm5EMIUus43ZK7l27eg5w1AHllFFFAH1V4s/5Mttv+wdYf8Ao+KvleOKSZtsSM7eijJr6o8Wf8mW23/YOsP/AEfFXjXwL8X2Xg34pWl5q0iw2V3E9nNOx4i34Ksfbcq5PYEntQBR8G/Frxj4AZbfStQaSzRudPvFMkQ9gDyn/ASK+ifDXiDwv+0V4LvdN1zS1tdSs1AdQQzwFs7ZYnxnGRyPbByDzyPxi+BGveJ/GM/ifwaba+h1FUklt2nVGVwoG5S3yspAB69Sa6P4Q/D9vg14d1nxL46vra1lmiUOiSblgjXJwT0Z2JAwM9BjOaAPljXNJn0HxBqGkXZBnsbmS3kIHBKMVJHtxVGtXxRrJ8R+LdW1kp5f9oXktwE/uh2JA/AHFZVAHtX7LH/JVr3/ALBEv/o2KuW+O3/JbvEf/XWL/wBEpXU/ssf8lWvf+wRL/wCjYq6v4lfs9+LPGPxG1bXtMvtHitL10aNbieVXAEaqcgRkdVPegDyr4FxPL8bfDgjUsRNIxwOgETkmuu/ardT8T9NUHJXR48j0/fTV6P8ADL4RWHwfW78WeM9as2uooCgkQlYbZT1IZsFmPAHA7gA5r54+KHjT/hPfiFqGtxqyWrEQ2iN1WJBhc+hPLEdixoA9r/ZJ/wCQb4o/67W38pK+d/EX/I0ap/1+Tf8AoZr6I/ZJ/wCQb4o/67W38pK5vVf2YfG19rN7dw6hoYjnuJJFDXEoIDMSM/uvegDwqul+G/8AyVTwp/2GbT/0ctei/wDDK/jn/oIaD/4Ey/8AxqvJ/wDS/C/in5WT7bpV7wynK+ZE/UeoytAHuf7Wn/Ic8Nf9e0//AKElfPVfX3jLw3pX7Q3w50zVvDWoQ2+o2pLRiU5ETMB5kMuOV5AOcHoCAQa8y8NfsveKLrW4h4nuLOx02NwZmhm8ySRc8hABgZ9TjGeh6UAc14u+CuoeEvh1Z+Lp9WtriC6SBvs6xsrr5q5AyeDir37NX/JZrb/rzn/9Brr/ANpnx1ps1nYeB9Dkjk+xyia88o5WEqpVIuO4DEkdsLXIfs1f8lmtv+vOf/0GgCt+0Z/yW7Vf+uNv/wCiVqVPgtG/wPPxAXXGMnkGb7CLXjiXZjfu/HpUX7Rn/JbtV/642/8A6JWvSP2fvFWkeKPh5ffDbX5VSUpMkCMwUzQS5LBCf4lZmP0II6GgD5mr60+CGoy+Mv2f9U0nXGM8VqbjT1eTn90YlZRn/Z3kD0AFebah+y74yh1s22nXWnXNgz/JeSTGPC5/iTBIPsM/WvR/E91pHwI+Br+GrW9W41rUIpEjxgPJLIMPNt7Ko4Gf7qj1oA+a/Av/ACUTw5/2FbX/ANGrXt/7W/8Ax9eFP9y7/nFXiHgX/konhz/sK2v/AKNWvb/2t/8Aj68Kf7l3/OKgCL9ko/8AE08Tj/pjb/8AoUleM/EMY+J/ikH/AKDF3/6Oeur+A3jy08DfEINq8gi03Uovss8p6QnIKOfYEYPoGJ7V6X8WP2ftR8UeJp/E3gi5tJk1Eiaa1lk2Zcjl0bGCG68kck9c8AHkPwUGfjR4ax/z9H/0Bq7X9qw/8XO0v/sDx/8Ao6au3+EnwSl+HWqSeMPHOoWcMlnC5hjSTKW+QQzu5AGdpIAHHPWvEPi942i8e/Ee91az3fYY1W2tNwwTEmfm/wCBEs2O2cUAe3fsnf8AIp6//wBfyf8AouvmVbuew1kXdpIYp7e482J16qytkH8xX01+yd/yKev/APX8n/ouvl+6/wCPyb/ro386APuHTre28fzeA/H1iEWS1SV5QD91Jbd0dPcrKFH/AH1Xzv8AtNf8lik/68IP/Zq9E/ZW8Wfa9A1PwtcyZksZPtdsCf8Alk/DgewbB/4HXnf7TX/JYpP+vCD/ANmoA8hooooAK+qv2qf+Sd6H/wBhEf8Aop6+Va+qv2qf+Sd6H/2ER/6KegD5Vr1/9mT/AJLAv/YPm/8AZa8gr1/9mT/ksC/9g+b/ANloAy/2hv8Akueu/wC7bf8ApPHXq/wNnh8f/AnW/BN84MlqJLdC3OxJQXjb8JA//fIryj9ob/kueu/7tt/6Tx1e/Zw8Tf2D8VobGZ9ttrELWrZPAk+8h+uV2/8AA6APK7q2msrya1ukMc8EjRyIeqspwR+Yr6m+Cn/Js2uf7t9/6Kryf9ojwv8A8I78Wbu5hTba6ugvY8DjeeJB9dwLf8CFew/AKxl1T9nvUdPtyqy3ct5Ahc4UMyBRnHbJoA+S6K9q/wCGV/HP/QQ0H/wJl/8AjVQ3v7MPjaxsLi7lv9DZIImlYLcS5IUZOMxdeKAOB+Gv/JVfCv8A2GLT/wBHLXr37Wn/ACH/AA3/ANe03/oS15D8Nf8AkqvhX/sMWn/o5a+mPjl8I9f+JWp6RcaDc6fCllDJHILyV0JLMCMbUb0oA+QaK9q/4ZX8c/8AQQ0H/wACZf8A41XEfEP4Xa58NJbCPX57GY36yNEbORnA2bc53Kv94UAcZRRRQB3vwo+Jx+F+tX1+NJGqC7txD5f2nydmGDZztbPTpiua8W6+fFXi/VNdNt9l/tC4afyN+/y8npuwM/XAr179nP4c+FvGdtrF/wCJbZdQmtJI4orVpGVUVgTvIUjOcYGeODXEfGrwno/gz4mXeleHWK2fkxzeQXLm3Zhkpk8+hGecMKAOAooooAKKKKACiiigAooooAKKKKACiiigAooooAKKKKACiiigAooooAKKKKACiiigAooooA7Zfu0UL92igDj73/j/ALj/AK6t/Ooamvf+P+4/66t/OoaACiiigAooooAKKKKACiiigAooooAKKKKACiiigAooooAKKKKACiiigAooooAKKKKACtfV/FviHxBaRWuua3qGoW8Lbo4rq5aRUOMZAJ644rIooAAcHI61saz4t8Q+I4Iodf1vUNSihbdGl1ctIFOMZAJ61j0UAFbGneLvEWk6TLpml65qFnYTbvMtoLlkjbcMNlQccjiseigArYtPF3iKw0OTRrLXNQg0yVXWSzjuWWJlf7wKg4wcnPrWPRQAV1ei/FDxt4esls9I8S38FsoASJpPMVB6KGztHsMVylFAG7ceN/FF3r0WtXGv6i+pwgiK6Ny2+IEYIU5+UEEjA9az9W1rU9evje63qFzqF0VCGa5lMjYHQZPaqVFAElvcz2lwk9pNJBNGcpJExVlPsRyK1tU8Z+Jtc09bDWvEGpahaKwcQ3V08i7h0OGJ55rFooAKKKKANibxd4iudAXQ7jXNQk0pVVBZPcsYgqkFRszjAIBH0rHoooA6HRPH/izw5b/Z9E8RahZwdoY522D6KeB+FVdd8V6/4mkV/EGs3uolDlFuJ2dU+ingfhWRRQAUUUUAX9H13VfD16bzQtRutOuWQxmW1laNipIJXI7ZA49q2/8AhaPjv/ocNa/8DpP8a5WigDS1fxJrfiB1bXdYvtSKcr9ruXl2/TcTis2iigDW0TxVr/htZl8P6zfaaJyDKLW4aMPjOM4POMn861P+Fo+O/wDocNa/8DpP8a5WigDqv+Fo+O/+hw1r/wADpP8AGuYnnlubiSe4kaWWVi8kjnLMxOSSe5JplFAGjoniLWPDd4brQNTutOnIwz20pTcPQ46j2NdDqHxd8fapaG2u/FWoGJhhhFIIiw9CUAJrjaKAAkkkk5J6k1d0rWNS0K/W+0W/uLC6VSomtpTG4B6jIqlRQBb1TVtQ1vUJL/WL24vruQAPPcSF3bAwMk88AAVWilkgmSWF2jkRgyOhwVI6EHsabRQB2sHxi+IVvZi2j8WaiYwMZdw7/wDfZBb9a5PUNRvdWvpLzVLue8upDl5riQu7fUnmq1FAElvcTWlzFcWsrwzQuHjkRsMjA5BBHQg1oa34n1zxI0LeINXvdSMAIiN3O0nl5xnGTxnA/KsuigArpdA+Ivi/wvbC20LxDfWluPuwCTdGv0VsgfgK5qigDf8AEPjrxR4rQJ4h129v4gciGSU+WD67Bhc++KwKKKANfRfFviHw5DLFoGt3+mxzMGkS1uGjDkcZIB61kElmJY5J5JPeiigC9pGt6poF99s0PUbnT7nYUM1tKY2KnqMjtwPypNW1nU9evje63f3N/dFQpmuZTI2B0GT2qlRQAUUUUAFbGseLvEXiG1ittd1zUNRghbfHHdXLSKrYxkAnriseigAq7pOtanoN8L3RNQudPugpQTW0pjbaeoyO1UqKALWp6pf61qMl/q95Pe3cuPMnuJC7tgADJPPAAH4VDbXM9ldxXVpNJBcQuJIpY2KsjA5DAjoQec1HRQBqa34m1zxI0LeINXvdSaAERG7naTZnGcZPGcD8qsaR428UaBY/Y9E8Qalp9tvL+TbXTxruPU4B68Vh0UAdV/wtHx3/ANDhrX/gdJ/jTZfiZ44nheGbxbrLxyKVdWvZCGBGCDzXL0UAS2t1cWN5Dd2U0kFxA6yRSxsVaNgchgR0IIzmul/4Wj47/wChw1r/AMDpP8a5WigDqv8AhaPjv/ocNa/8DpP8aydb8Ta54kaFvEGr3upNACIjdztJ5ecZxk8ZwPyrLooAKKKKALul61qmh3RudF1K706crtMtpO0TEemVIOKrXFxNd3ElxdTSTzSMWeSRizOT3JPJNR0UAFFFFABRRRQAUUUUAFFFFABRRRQAUUUUAFFFFABRRRQAUUUUAFFFFABRRRQAUUUUAFFFFAHbL92ihfu0UAcfe/8AH/cf9dW/nUNTXv8Ax/3H/XVv51DQAUUUUAFFFFABRRRQAUUUUAFFFFABRRRQAUUUUAFFFFABRRRQAUUUUAFFFFABRRRQAUUUUAFFFFABRRRQAUUUUAFFFFABRRRQAUUUUAFFFFABRRRQAUUUUAFFFFABRRRQAUUUUAFFFFABRRRQAUUUUAFFFFABRRRQAUUUUAFFFFABRRRQAUUUUAFFFFABRRRQAUUUUAFFFFABRRRQAUUUUAFFFFABRRRQAUUUUAFFFFABRRRQAUUUUAFFFFABRRRQAUUUUAFFFFABRRRQAUUUUAFFFFABRRRQAUUUUAFFFFABRRRQAUUUUAFFFFAHbL92ihfu0UAcfe/8f9x/11b+dQ1Ne/8AH/cf9dW/nUNABRRRQAUUUUAFFFFABRRRQAUUUUAFFFFABRRRQAUUUUAFFFFABRRRQAUUUUAFFFFABRRRQAUUUUAFFFFABRRRQAUUUUAFFFFABRRRQAUUUUAFFFFABRRRQAUUUUAFFFFABRRRQAUUUUAFFFFABRRRQAUUUUAFFFFABRRRQAUUUUAFFFFABRRRQAUUUUAFFFFABRRRQAUUUUAFFFFABRRRQAUUUUAFFFFABRRRQAUUUUAFFFFABRRRQAUUUUAFFFFABRRRQAUUUUAFFFFABRRRQAUUUUAFFFFABRRRQAUUUUAFFFFABRRRQAUUUUAdsv3aKF+7RQBx97/x/wBx/wBdW/nUNTXv/H/cf9dW/nUNABRRRQAUUUUAFFFFABRRRQAUUUUAFFFFABRRRQAUUUUAFFFFABRRRQAUUUUAFFFFABRRRQAUUUUAFFFFABRRRQAUUUUAFFFFABRRRQAUUUUAFFFFABRRRQAUUUUAFFFFABRRRQAUUUUAFFFFABRRRQAUUUUAFFFFABRRRQAUUUUAFFFFABRRRQAUUUUAFFFFABRRRQAUUUUAFFFFABRRRQAUUUUAFFFFABRRRQAUUUUAFFFFABRRRQAUUUUAFFFFABRRRQAUUUUAFFFFABRRRQAUUUUAFFFFABRRRQAUUUUAFFFFABRRRQAUUUUAdsv3aKF+7RQBx97/AMf9x/11b+dQ1Ne/8f8Acf8AXVv51DQAUUUUAFFFFABRRRQAUUUUAFFFFABRRRQAUUUUAFFFFABRRRQAUUUUAFFFFABRRRQAUUUUAFFFFABRRRQAUUUUAFFFFABRRRQAUUUUAFFFFABRRRQAUUUUAFFFFABRRRQAUUUUAFFFFABRRRQAUUUUAFFFFABRRRQAUUUUAFFFFABRRRQAUUUUAFFFdr4y+GWo+DfDGh67cXcF3a6vGrqIQQYCyBwrZ7kE/kaHorhu7HFUV2Ph34cah4i8B654riuobez0gElJAS05ABYLj0yv51x1D0dgWquFFFFABRRRQAUUVueH/C8/iHTdbvILiOFdHsvtkiuCTIu4LtGO/wA1HS4GHRRRQAUUUUAFFFbnhXwvP4qutQgtriOA2OnzXzGQE7liXJUY7mjpcOtjDooooAKKKsafbR3up21rPcx2kU0qxvcS52RAnBY47DrTWrsGxXorcfwpdnR9Y1e0nt7nTdKu1tXuFYjzi5YKyDGcELnnFYdIAooooAKKK3NW8Lz6T4V0LXJbiOSLWhOY4lB3R+U+w5+vWjpcDDorc03wxPqXg/W/EEdxGkOkPAskTA7pPNYqMduMVh0dbAFFFaGi6db6pqBt7vUrfTYxE7+fcA7SVUkLx3JGB9aAM+iuw0TwLa33gqXxNrfiG20a0Ny1papJbyTNcSqm4j5R8o5HJ4qBfBHn2vie60/V7W8tfD6Ru08SttuQ7hAUz05Peh6OzBa/18jlqKKKACiitBNOt28Oy6idSt1uEuVhWwIPmupXPmDttB4oAz6KKKACiiigAooooAKKKKACiiigAooooAKKKKAO2X7tFC/dooA4+9/4/wC4/wCurfzqGpr3/j/uP+urfzqGgAooooAKKKKAOgtvAPjG8tYrqz8J65PbzIJIpYtNmZJFIyGUhcEEHIIqT/hXHjf/AKE3xB/4K5//AImvtv4cf8ks8Kf9gWz/APRCV0lAHwB/wrjxv/0JviD/AMFc/wD8TR/wrjxv/wBCb4g/8Fc//wATX3/RQB8Af8K48b/9Cb4g/wDBXP8A/E0f8K48b/8AQm+IP/BXP/8AE19/0UAfAH/CuPG//Qm+IP8AwVz/APxNH/CuPG//AEJviD/wVz//ABNff9FAHwB/wrjxv/0JviD/AMFc/wD8TR/wrjxv/wBCb4g/8Fc//wATX3/RQB8Af8K48b/9Cb4g/wDBXP8A/E0f8K48b/8AQm+IP/BXP/8AE19/0UAfAH/CuPG//Qm+IP8AwVz/APxNH/CuPG//AEJviD/wVz//ABNff9FAHwB/wrjxv/0JviD/AMFc/wD8TR/wrjxv/wBCb4g/8Fc//wATX3/RQB8Af8K48b/9Cb4g/wDBXP8A/E0f8K48b/8AQm+IP/BXP/8AE19/0UAfAH/CuPG//Qm+IP8AwVz/APxNH/CuPG//AEJviD/wVz//ABNff9FAHwB/wrjxv/0JviD/AMFc/wD8TR/wrjxv/wBCb4g/8Fc//wATX3/RQB8Af8K48b/9Cb4g/wDBXP8A/E0f8K48b/8AQm+IP/BXP/8AE19/0UAfAH/CuPG//Qm+IP8AwVz/APxNH/CuPG//AEJviD/wVz//ABNff9FAHwB/wrjxv/0JviD/AMFc/wD8TR/wrjxv/wBCb4g/8Fc//wATX3/RQB8Af8K48b/9Cb4g/wDBXP8A/E0f8K48b/8AQm+IP/BXP/8AE19/0UAfAH/CuPG//Qm+IP8AwVz/APxNH/CuPG//AEJviD/wVz//ABNff9FAHwB/wrjxv/0JviD/AMFc/wD8TR/wrjxv/wBCb4g/8Fc//wATX3/RQB8Af8K48b/9Cb4g/wDBXP8A/E0f8K48b/8AQm+IP/BXP/8AE19/0UAfAH/CuPG//Qm+IP8AwVz/APxNH/CuPG//AEJviD/wVz//ABNff9FAHwB/wrjxv/0JviD/AMFc/wD8TR/wrjxv/wBCb4g/8Fc//wATX3/RQB8Af8K48b/9Cb4g/wDBXP8A/E0f8K48b/8AQm+IP/BXP/8AE19/0UAfAH/CuPG//Qm+IP8AwVz/APxNH/CuPG//AEJviD/wVz//ABNff9FAHwB/wrjxv/0JviD/AMFc/wD8TR/wrjxv/wBCb4g/8Fc//wATX3/RQB8Af8K48b/9Cb4g/wDBXP8A/E0f8K48b/8AQm+IP/BXP/8AE19/0UAfAH/CuPG//Qm+IP8AwVz/APxNH/CuPG//AEJviD/wVz//ABNff9FAHwB/wrjxv/0JviD/AMFc/wD8TR/wrjxv/wBCb4g/8Fc//wATX3/RQB8Af8K48b/9Cb4g/wDBXP8A/E0f8K48b/8AQm+IP/BXP/8AE19/0UAfAH/CuPG//Qm+IP8AwVz/APxNH/CuPG//AEJviD/wVz//ABNff9FAH506rouq6DdLa65pl5ptw6CRYry3aF2UkgMAwBxkEZ9jVKvbf2q/+Sp6b/2BYv8A0fPXiVABRRRQAV13wwm8KW/j6yk8exh9HAbeGVmQPj5S4Xkrn/OK5GimnZ3E1dWOr+Jc3ha48fX8ngSPZox2+WArKpbaNxUNyFznH+FcpRRUxVlYpu7uFfQnin/if+HpfCbfNMfCVhq1iv8A01gVt4Hu0Zb8q+e669fiXraeLtF8RRw2aXejWcVnCgjby5I0UrhxuychiDgj8Kp2ceV9/wBH+TsSrqXN5fqvzVz06yP9j+Bde8JJw2meEWubwf8ATzcSJIwPuq+Wv4UyH+yfBXgrwvFYeJ9I8P3Gpael/ePd6I97JeFyeC4jYBBjbtGD1PevLV+IOsf2h4lvJEtpZvEkLw3hdG+RWYN+7w3GMADOeKs6R8StR03Q7XSL/SdG120smLWa6taGU22TkhGDKcE84ORRe+vp+cnb8V9wJW0/rZa/g/vPSrO48Oafr3jnV/CdvaXVunh6K7SN7F0hiufMXJSKVQdu7DAYxzjpXJX+qXXiH4Garq+q+TLfSeIoFeaOBI+BbkdEAA6dhXPT/EnX7y81+6vmt7mbXrQWdwzxkCKIEFRGFIC42gDqMfnUHhjx1f8AhjTb3TFsdO1TTb5leay1KAyx71+64wQQwz1BqbXVvJf+lX/LQpOzv5/+22/PU9H8P2kP/FmPMt4z511c+ZlB84+0DGfWm6B4gfxt461nwfrOl6dHockV2LeCOyjjbT2iVmWRXADbgV5JJzk1h+HPiLd+IviN4JGv/wBm6fY6NffunhjFvHFGzg4PO0KuAB0465PNU/EnxT1Oe81u206x0a0kvpJYLjVLK0CXF1EWPBcHGGGMlQM056r15vxtb7hR0fpy/rc6XQH1jw94N0N4b7wv4Pt54jO8uoxrc3epqW4kKeU7BMcAcV0zaFocHxI+I9hLNDo+kz6DDLPLBCQkQbymdlQepJwPU15Nb/FDUk0jT7O90bQ9Sm0yIQ2V7fWRkmgQHKqPmCsB23KaTUvinrmq3+tXt5b2JuNb05NPu3WNxlE2/OBu4c7Rnt7CnJ6trz/Faf19wo9L+X4Nf8E6XxxZXifEbQvCmk6JBc6FC0Mmk2Vu+F1KJ8HzXlxks/OSfu8gep7fSll1jVNa0PxHrHhK6s3sboxaDpdosjWbIhK7ZViUKUI67jn6143afEfXLPStDtIfsxl0G5M+n3rRkzwg9Ys52mPPYj8cVr23xk1Ww1Ge90vw94csJbpXS7NvYspuQ4IIYlywGTnClRkCpkvdcfX8Vp/X3FR+JP0/Df8Ar7zavPFN34P+EHga40K2sYr+6W88y8ms45pNizn5BvUgA554zwOa5/4xWlpb+OILixtIbMahplreywwIEQSSRgsQo4GTzXNan4mvNV8N6NolxFAttowmFu8akO3mvvbcSSDz0wB+NL4m8T3vivULa81GKCOS3s4bNBApAKRrtUnJPOOv8qctXfz/AA1/4Ao6fd+N1/wT0TweNY0b4f2F5ZXPhvwpHdTyudW1YLNcX6qQNscZjchF6cDk11l7Y2Vr8R9SudPS2H9oeA5ruaS0gMMc0jRnMioQNu7AOMCvJtO+JF/Z+HLPRb7RtF1i3sC5sn1K0Mj2+45IUhgCM84YEVZu/i34gv8AV21O7t9Pe7fR30d3ELKGhfOW2hgA4zxgAe1E9U7ef/pLX52CGjV/L/0pP8jd1LXJ/h14G8JReGrWxEmsWRv7+6uLOOdrklyvlEupwigYwMda6/XLbTYvEeseKF0SzM+k+FLK7stPkhDQxSyYG8oeGCZ6H2rnPCJ1O78A6XBpl34S16GCSRms/EHlxy6Q5bkqXkG5G4boRntVHx58Srm1+K0ureG7+2v1i0+LT7mRog9vfAIBICnQoWz+XFOe7XW7+Wjt911+aFHa/Sy+eqv99mINVl+IPwr8T3/iW3tJNS0F7aW01CG1jgcrJJsaJtigMMcjjiuo8V+IbmP42aD4Xtbeyg0prnTHniS0i3TOfKbcz7d3oMZxgV5dr3xB1HW9D/sa20/S9F0xpRNLaaVbGJZpB0ZyWZmx2Gce1R6h471PUvHdp4sngtFv7R7d0jRGERMIULkFs87Rnn16U4tKafS6f3f1+u4STcWutn+Nv6/A9LvfEOp6b8OfiPb2M6xRQeJDBGghQhUkkl3jkd/07YqzeeKJ9C8S/DzR9NsdOW21HStOGoebZRSNdK/yFWZlJAA9MckmvM7L4jalap4him07S7628QTm4ure7gZ0jlJYh48MCpBc4yT2qpe+N9Sv9a0HVJoLVZ9Ct7e3tlVG2usJyhf5sknvgj8KmGjXN3jf0UbP8Qlqnbz+9u56lBqaap4t8deC5NM02HQNP0+/aztYrONTA8H3JBJjeWyMkknrVLQJNY8PeDNDkhvvC/g+3niM7y6jGtzd6kpbiQp5TsExwBxXntr481O08Ua1rscFobrWobmG4RkbYgn+/sG7IIzxkn3zV+3+KGpJpGn2d7o2h6lNpkQhsr2+sjJNAgOVUfMFYDtuU0o3SV97K/43/T+rFSs27bXdvw/4JP8AGrTLLSvirqUGmW8NvbvHBN5cEexAzxKzFV7Akk4969L8JaFpGrfDXwRPeNb3msWttqMmkaPc5Ed7OJSw3H0G37vG4kds14n4u8Wah4119tZ1hIFvHijikaBSok2KFDEEnkgc4wPYVLJ401VtK8PWUJitv+EeeSSynhDCTc8nmEsSSDgjjAH4046R5fP7t9RS1aZ1+n6jf6v8K/iRe6sxa9mu9PMoKbdrecw27R0A6Y7YrtNFOqaLqmgaXe3nhPwzYulvHNoMsC3d3d78ZMuImYM+e7DGRXler/EfU9Yg8QRPp+m2q+IJIJbz7NE6/PE24MuXIBYnLdc9sVoN8Ydae6ttQk0jQpNZt0RF1eSx3XJ2AAEktt3YGN23PvTi0t/L8FYUk23bzOy02bw/4b8Q+M9Js7+08L6mNZeOw1S700XUCQqW/cAlWEfrnHQVbsNKvV+LVld6xZaJIl5oF28d9o+1ra/KwuDNgAAPnGQAOledp8VdWN9rEl7pej6hZ6xdfbLjTry2aS3Wb++g37lP/AqZ/wALU10eIbfVY7bToltLKWxtbGKApb28UilWCqGBz8xOSTz1zUWfJbra3/krX5/57l3XNfpe/wD5Mn+X+Wx18HinWP8AhQvh+3+1KYptcaxdTBHzAqIQv3f16+9dOum6Rd+Nfi5Za1erpWlE23nzpHny0EqkhVHc4wPc14ini6/TwrY6AIrf7LY37ahG+1vMMhAGCc42/KOMA+9aF/8AEfV9RuPFE09tZK3icRi8CI4Eexgw8vLccjvuq5O8ub1/KP6pkRVkl5r82/ysdrr9jqUnxm0nwzaeGrO80rTyG0vS0kC29zBt3CZ5SPm3AbmY+hFdAnma94V8X2XiPX/C+tm10qa7tbPSLMZsXQjayyrEoAGcY3HP515hYfFLxBp0OgiBbNrjQd6Wl3JEWlaFwQYX+bDR4JwMZHY1ZT4s6jbWeo2ml6B4f0y11O2ktruGzs2TzQ4xu3Fy2Rk4AO3noamS91x33+/o/wCupUX7yfp/wf6+89A8NapZXmi6Bp/hPWPD+mTR2scd94e17TlQahKfvN9oZCW354wRjiuT1TTJNN+DviSC90+Oxu7fxUkTwL83k/un+QN3UfWsiy+K+q21pp6XmjaFql3psaxWd/f2RkuIVX7g3BgDt7bgcVkXnjfV9R8O6hpF+YbhNR1IalcXDqfNabaV6g4C8njFOerduv8A8kn+V/0FDRK/9aNf5fqc7RRRQAUUUUAFFFFABRRRQAUUUUAFFFFABRRRQB2y/dooX7tFAHH3v/H/AHH/AF1b+dQ1Ne/8f9x/11b+dQ0AFFFFABRRRQB9/wDw4/5JZ4U/7Atn/wCiErpK5v4cf8ks8Kf9gWz/APRCV0lABRRRQAUUUUAFFFFABRRRQAUUUUAFFFFABRRRQAUUUUAFFFFABRRRQAUUUUAFFFFABRRRQAUUUUAFFFFABRRRQAUUVW1Kae30y4mtFjaaONmQSkhSQO+OaADUb+30rTbm/vn8u2to2llcKTtVRknA5NcmnxZ8MSRq8a6w6MAVZdFuyCD3/wBXVjxLevqPwd1G9lVVe50Z5mVegLRZIH51teGv+RT0n/ryh/8AQBQBz/8AwtXw3/zz1n/wSXf/AMbo/wCFreG/+ees/wDgku//AI3XZ0UAcZ/wtXw3/wA89Z/8El3/APG6P+Fq+G/+ees/+CS7/wDjddnRQBxn/C1vDf8Azz1n/wAEl3/8bo/4Wr4b/wCees/+CS7/APjddnRQBxf/AAtbw3/zz1n/AMEl3/8AG6X/AIWr4b/556z/AOCS7/8AjddnRQBxn/C1fDf/ADz1n/wSXf8A8bo/4Wt4b/556z/4JLv/AON12dFAHGf8LV8N/wDPPWf/AASXf/xuj/havhv/AJ56z/4JLv8A+N12dFAHGf8AC1fDf/PPWf8AwSXf/wAbo/4Wt4b/AOees/8Agku//jddnRQBxn/C1vDf/PPWf/BJd/8Axuk/4Wt4b/556z/4JLv/AON12lFAGP4c8U6X4qtJ7nRpJnS3mMMqzW7wsjgA4KuAehHatiuL8A/8hjxl/wBh2T/0VHXaUAfJP7Vf/JU9N/7AsX/o+evEq9t/ar/5Knpv/YFi/wDR89eJUAFFFFABRRXXfDCbwpb+PrKTx7GH0cBt4ZWZA+PlLheSuf8AOKaV3YTdlc5Giur+Jc3ha48fX8ngSPZox2+WArKpbaNxUNyFznH+FcpUxd1cpqzsFdr4y+GWo+DfDGh67cXcF3a6vGrqIQQYCyBwrZ7kE/ka4qvoTxT/AMT/AMPS+E2+aY+ErDVrFf8AprArbwPdoy35U5aQuu/4Wbf4IUdZ2f8AWqS/Fnlnh34cah4i8B654riuobez0gElJAS05ABYLj0yv51x1e+2R/sfwLr3hJOG0zwi1zeD/p5uJEkYH3VfLX8KZD/ZPgrwV4XisPE+keH7jUtPS/vHu9Ee9kvC5PBcRsAgxt2jB6nvTlpLy0++7X6XFF3j/W2j/U8For3uzuPDmn69451fwnb2l1bp4eiu0jexdIYrnzFyUilUHbuwwGMc46VyV/ql14h+Bmq6vqvky30niKBXmjgSPgW5HRAAOnYVLdlf+visUtX/AF2ueY0V7v4Ps4DcfBwS20bCY35kBQfvBvbGfWsnw34gk8fX3iLw5rum6fHpcenXVzZJDZRxNprxDKFXUBscYO4nOactL+V/wFHW3y/E8erc8P8AhefxDput3kFxHCuj2X2yRXBJkXcF2jHf5q9M0CTWPD3gzQ5Ib7wv4Pt54jO8uoxrc3epKW4kKeU7BMcAcV0zaFocHxI+I9hLNDo+kz6DDLPLBCQkQbymdlQepJwPU02rNr1+9ISd7fL7rpfqfONFeweK7C8HxQ0DwrpHh+2vdCtzHNpNhFJtj1GJhu86SXHzFsHcTwMEe56mz83XLPxRpfiPXPCmqQx6TdXFtpWkWisbF41yrLKsSgbTgfeOalu0XL1/D+v8ykryS9Px/r/I+dqK9g1nxde+Dvh34DfQLawhu7rT5XuLqWzjmeRFnYBMupwvJzjBPHPFcx8Y9Ps9O+Jt8mm2sVpDPDBceTCu1EaSJWbaOwyScU3o7ebX3Cjqvlf8v8zhqKKKACivo678QGP476V4Ri03TBo19BbRX8DWUTG6LwAlmcruyOAMEAY+tcnaa03irwz490jULDT0sNHszcaZFBZxxm0KTBRtcDccg4JYkn8aJaX+f4b/APA/QI62+X47f8E8dor2Hxb4oufhvrGleHPDOn6aNNisLaa5E9jFMdSaRAztIzKWIOcAAjFa+s6FpfgO+8fa9oOn2zXenNZLYQ3ESzLYG5UM7BWBGRnAyOKHpd9Nfwdv6/EFrbu7M8jbwvOvgGPxUbiPyH1E2AgwdwYR792emMcVh17lZ3rfET4beGLbXobeFrrxelrdT28KwfaAYhliEAG7B25A7Ctm51fwoviy90HWPEmiN4ejkltToMHhucSQBcqCkqxbvMUjO7Jyc0Sum/66J/qCs0n/AFu1+h4hqPhefTvBuj+IpLiN4dVlnjjiUHchiIBJ7c5rDr0fxgkcfwU8GJC5eNb/AFII5GNw8xMHB6V5xSvqx2sl8/zYUUV6vYeIrnwr8BtKvtItLQahNrNzEt9NapM0KhEJC7wQCfXHQHHWn0b/AK3S/UXVL+trnlFFfQvh230++8V+FPFFzpVmlzq/h+/mv7RIVSKZ4ldfM2Dgbx1x6VieBdUTxHpPiTxj4ovtMtb7SIre1sbmfSlkhsxI7fP5MSfMR91SQcd6Ho2n03+9r80C1V1/Wif6nitbng7wxP4x8T2+i2txHbyzpI4kkBKjYjOen+7ivVrmHwp44Xw/aaj4gsta1l9bht3vbHSJbLzbZ/vRyHy1QsDjB64NXfBnji+uvjdceHW0vTodKt3vLeztobGONrIRxyAMrhQ2SFwck53H2oeifz/BJ/qH/A/Fv/I8f0fwxHrJ0iG31a1W81PURY/ZCG3wgkASN/skntzxWbrOmPouu32lyyLJJZXEluzqOGKMVJH5V6t4QijHgv4fSiNRI3jPaX28kfuuM1ofFC0t/DfhvV7vwbJBfrqmr3EGu6mE/e28m8stsoI+RME5YfeI9OKJ+7/XlH/P+tAjr/XnL/L+tTwyr5063HhxdS/tG3NybryPsGD5oTbu830254+te6aJqNnqlno2neDtU8O2yraRQ3XhbXdOWE3cpXDHzyhLs5OQQR2rg9YsDY/A2aK5s0tbuDxfLBJGOTEVt8FN3cAj1py0v5f5pfr/AMMJO9v66NnnFFFFIZuHwvOPAK+KvtEf2dtROn+Rg79wj37s9MYOKw69Z0DxNeeFv2e/temW9s93J4jeOO4uLdJvs/8Ao6ksquCu4gYyR0JrpdD0LRvGmseCfEmvWFnDPe2F/cX8UdvtiuntSAkjRoOc5ywUc7cYpte8+yt/6TcV/dXd/wCdjwGivbdU1zw5rvhXXrbXfFek65Itm82mR2Hh6a1ktJl5UK4iAEZ+6QxxyOaoeNPEtxofhDwXpVha2qW+o6DE1+VtY2luVLsu3eVLLgA42kHLUv8Agfjf/If9fl/meQ1q3fhy+svC+na9ceWLPUpZYrfD5YmPAYkdhlq9zvJ08U/brPwTf+G9U02W1dIvCl/p62V1akJ/yzbbueRSCc7uaw4/EWpz/DH4a2U1wr211q7wTRmFPnjimi2DOMjHqOT3zTiuZ8vp+LsJuyv6/grnidFe+W/iK51X9pi38PSW9lFpFjrE4gtYrSJQCEcElgu5snJOSeTXE/Dm3SQ+PjJEriLw9dkblztO9cEehqFK8ebyb+5XLcbS5fNL73Y5XxF4Xn8OWei3E9xHMur2C30YQEeWrMRtOe/y1Ba+HL688L3/AIgi8sWNhNFBKWf5i8mdoA79DXvUGkafL4R8NaxafZ9S8U2HhVZdL0i4UlSEdi02MYdlDEqncqTXGaH4v13/AIUP4tla93SHU4ELNChJEwfzByvf9O2KqWnMu3/yVkTHXlff/wCRuzyOivWfGdtGPjN4QiihQJJaaVlFUYbITPHfNbsl+PD/APwt7U7K1tWurPVoBatNbpIsDNPIu4KwIyAeOOuKHpf5/g0v1Bar7vxTZ4TRVrU9SudY1O41C/ZHubh98jJGqAn2VQAPwFVaAO2X7tFC/dooA4+9/wCP+4/66t/Ooamvf+P+4/66t/OoaACiiigAooooA+//AIcf8ks8Kf8AYFs//RCV0lc38OP+SWeFP+wLZ/8AohK6SgAooooAKKKKACiiigAoqNpkSeOJjhpASvvjr/OpKACijNFABRmis+UtYahLcvua2mVd5HPlMOM49CMfTFAE95cNHsigwZ5ThRjO0d2PsP8ACrNUEkWbWt0LCRVt8MwOduSCPzGfyFSR6gkkzAD92X2RsP8Alo3fHsPX60AW6KpI7S6xLHISFhjRo17HOcn36Yq4WAYKSMnoKAFooooAKKKKACiiigAooooAKKKKACiiigAooooAKKKKACorq2hvbWS2uo1lhlXa6N0YelS0UAcx4ysrbT/hfrlrZQrBBFpsypGgwFGw8CtTw1/yKek/9eUP/oAql4+/5J34g/7B0/8A6Aau+Gv+RT0n/ryh/wDQBQBp0UUUAFFFFABRRRQAUUUUAFFFFABRRRQAUUUUAFFFFAHF+Af+Qx4y/wCw7J/6KjrtK4vwD/yGPGX/AGHZP/RUddpQB8k/tV/8lT03/sCxf+j568Sr239qv/kqem/9gWL/ANHz14lQAUUUUAFFFFABRRRQAV16/EvW08XaL4ijhs0u9Gs4rOFBG3lyRopXDjdk5DEHBH4VyFFO7QrHUL8QdY/tDxLeSJbSzeJIXhvC6N8iswb93huMYAGc8VZ0j4lajpuh2ukX+k6NrtpZMWs11a0MptsnJCMGU4J5wciuOq/oWlSa74h0/SYZFikvrmO3WRxkKXYKCfbmiKekV6A2tW/U3p/iTr95ea/dXzW9zNr1oLO4Z4yBFECCojCkBcbQB1GPzqDwx46v/DGm3umLY6dqmm3zK81lqUBlj3r91xgghhnqDWNrOmvo2u32mSyLJJZXEkDOo4YoxUkflVKpi01df11Kaadn/XQ9Z8GfEi61/wCJ3g0+ITpmnWOjTTCF4kFvHEjqflOTtAGAB098nmuf1v4oare2up2Vpp+j6e2oFo72+sLMRz3iZyQ7ZIwep2gZrhqKb1Vv61EtHf0/A7W3+KGpJpGn2d7o2h6lNpkQhsr2+sjJNAgOVUfMFYDtuU0mpfFPXNVv9avby3sTca3pyafdusbjKJt+cDdw52jPb2FcXRQ9d/6vuC02Ow074m69pmnaHbWwtTNoM7S2F5JGWmjVhhoSd2DGcngjPoRV+D4valZNef2V4e8O6al/BJBdpaWTL56upByxcsMZyApAz2NcrrXhy+0G10u41DywuqWgvLcI+4+WWKjd6H5TxWVQ9bp+f+TBaWa/rqjY1jxPe63o+jabdxQJDo1u1vbtEpDMrOXJbJIJyewFHirxPe+LtdbVtSiginaKOIrbqVXCIEHBJOcAZ5rHooDb8goorV0bw5fa7Z6pdWXl+TpVqbu5Mj4wm4LwO5yRR5ga8vxF1eX4hWnjFreyGoWnlbIgj+SfLQIuRuz0HPPWqGm+Lr/S4tejt4bZhrtu1vc71Y7FLhyUwwwcjvmsKij/AIP47h/wPw2O30/4q6tZ6fYW97pOiavNpqCOxvNRsvNnt1HKqGDAEL2DA4qjpnxF1/Ttf1LVppYNSk1YFdQt7+ISw3QJzh046dsYx2qlZeF573wTqniRLiNYNOuYbd4SDucyZwQenG2q3h3QL3xR4is9F0sRm7vJNkfmNtUHBJJPpgGnq5ef+f8AmLRR8v8AL/I39d+J2ra3oFno0dhpelWVjeC8tU0y3aEwuARwdx7knJyc9+1X3+MmutLLex6XocOtTRGN9aisdt2cjBbdu2hiONwXNcBLGYZnjbBKMVOPam1O69StU/Q2dQ8UX2peFdL0C4jgFrpcs0sMiq3mOZSC24k4PTjAH41jUVuX/hefT/BmkeInuI3h1SaeJIgDuQxEAk9uc0/MXl/Xcw69U03xpD4f+BumWUcGj6rJJrFw1xpuoRibC7E2vtDBl5zhgR3Fed6Pp1vqU9xHdalb6esVtJMrzg4kZRkRjH8TdBWfR0a7/wCf/ADqn2/y/wCCdkPihr3/AAlY1547JpUsnsILUQlLe3gZCmxEUjGAxxz165rK8LeMNT8I3VzJpwt54LyLybuzvIhLBcJ/ddT157jBFYVFH9f194f1/X3HV658RNW1iws7C0tbDRLCyn+0xWmkwGFPO7SEkliw7Enit21+N+vWmotqcWi+Hv7UljMdzqH2Aia5BXB3sGAyeCSoXJAz6V5vW54Q8Lz+L9cbTLW4jt3FtNcb5ASMRoXI49cUdH/XTX8A6r+v61LWnePNT0zSdG0+3gtGi0fVP7Ut2dGLNL8vythuV+UcDB96fafEHVbW58RO1vZ3Fv4iDm9tJkcxbmYsHQBgQyknacnHvXMxIJJkRnEaswBdui89ataxYwaZrFzZ2l/DqMML7UuoAdko9RnnFD13/rZf5AvL+t3/AJnYW3xd1iFLKW50fQr/AFKwiWK21W7si9zGE4Q7twVivYspNc/e+MNT1DwtJoV55UsMuqPqklwynznmZNrZOcYPXpnPesKih67/ANdQ2CiiigDr/D3xH1Lw94Wfw6umaTqOmSXRupYNQtjKJHKhQD8wwBtBGMHOeccUy9+JPiK68U6frtvPDYT6YgjsYLOERwW0Y/gVORtOTnOc55rk6Kd9b/12C2ljtdT+KGp32kX2n2Gj6Joq6kNt9NpdmYpLlc5KsxY4UnqFwKxdZ8WahrSaKJ1hgbRbNLS1eAMrbUYsGYkn5snqMfSsSilsB6BL8Ytbkmlvo9J0KDWpojHJrMVjtu2yu0tu3bQxHG4LmsvTPiJqOm+F7TQzp+mXcFjeC8s57mBjNbPvVyEYMMBioyCDwTXJ0ULR3X9dQ3N2Txhqp8dyeLrd47XVHvDeAwr8iuWyQASeOcYJPFdBcfF3VZLTVLaz0PQNOj1e3kgvfsVkYzNv6uTvJyOcD7vJ4rgqKVly8vQd3fm6nUH4ha2upeHb+2MFtc+HbZLa0eJWG5FYn58k5zuIOMAjtVqD4k30A8QRDRdFkstekEtxZSW7mGGQZw8Q35UgsSOSB6VxtFN67+f4iWn4fgd5afF3W7W307fpmi3V/pkSQ2mqXFlvuY41+6u7djgcA4yOxzzWXeePtUvrbxNDLBZhfEtylzeFUbMbI5cCP5uBlj1zxXL0UPXcForIKKKKAO2X7tFC/dooA4+9/wCP+4/66t/Ooamvf+P+4/66t/OoaACiiigAooooA+//AIcf8ks8Kf8AYFs//RCV0lc38OP+SWeFP+wLZ/8AohK6SgAooooAKKKKACio5JUR0jfOZMgccVVCz2MjbA9xbtyFzl4z7Z6igCW8t3mWN4SFmhbem7oeMYPsQaWzuxdxtlDHJGxSRD/Cw/zmmtfxqpJjmBAyAYyM+1VLcSmy+123MzSGSWIjG7sV+oGMfSgC1qBMawSpyyTKAPUE4P6HP4VbqlbOt1IJpG+dfuxkEbPz70lgzzXF7M+QRKYlU9lUcfmST+NAEs94ltdRRTDYkoO2QnjcP4T+H8qsEjgEjnp71BbuL2wRp4xiRfmRhkfSs6BJbG9kaJHms1IjRSctCe+PVeg9sUAN0m3a5sZpY9sEN3M0n7vgsv3Rj0+VRVnTgHBuEi65WJeiogOAB9cZP/1qqaNu/sfT4pXaOCCzjeTsS2AcE/0q5ps8cWmx7iwXLeWCPmK5OOPpQBZ+y77kXEh2yBSg2HsTnn8qlVEjy3c9yeapjUfOXMQ8pexkBz/3zU8EaOFlMpmPYngD8KALFFFFABRRRQAUUUUAFFFFABRRRQAUUUUAFFFFABRRRQAUUUUAc/4+/wCSd+IP+wdP/wCgGrvhr/kU9J/68of/AEAVS8ff8k78Qf8AYOn/APQDV3w1/wAinpP/AF5Q/wDoAoA06KKKACiiigAooooAKKKKACiiigAooooAKKKKACiiigDi/AP/ACGPGX/Ydk/9FR12lcX4B/5DHjL/ALDsn/oqOu0oA+Sf2q/+Sp6b/wBgWL/0fPXiVe2/tV/8lT03/sCxf+j568SoAKKKKACiiigAooooAK9u8ZeNr3wz4q8P6XpWlab9jl0uxa8hlsIpDf74lBDMyk4xwACOcnrXiNezeN/ig2lavoyaRZeH9Waz0iz+zXs9ss8tpIIhuCsGxkNzhgcH0qrpJN91+TJs23bs/wA0XNY0fTfh1H471rw/ZW017Y6tDY2LXEKzLYJInmMyqwIzzsBIOMUzQLkeL9J8JeK9WtbaPWrTxZbae93bwJD9ribD/OqAKWUjGcdK830X4ga3o+oancyG31OPVznULXUYvOhujndll45BOQQQRVm9+JmsXWoaNNBaabYWei3K3VnptnbmO2WQMG3MN25iccktn0xSp+643/u/K1r/AH2f3jnre3n873t92n3HpVn4lm8VfFTxR4S1Ow006G6agEtksolaN4w7LKJAu/fuXJJPc1zM2sTfD34Y+Fbrwxb2cd/riz3F5qE1pHO7BJNixLvUhVA5IHU1x+meONS0rxne+JreC1a9vftHmRujGMecGDYAYHjccc/nU+hfELUNG0IaLdabpWt6bHKZoLbVbYyrA56lCGUjPcZwfSoimopdbK/yv/wPusVJ3k30u/0/r8T1rSbPSv8AhJLHxKdGso31bwdd395p6xBYGlTgsE/hD4zge9cf/b1x44+D3iq58QW9jJdaLPZvYzwWcUDQrI7KyDYo+XA6Guab4na/J4ivNYuPsk011p0mmCIwlYre3ddu2NFI24HTr75rH03xPeaX4X1jQreKBrXWDCZ3dSXXymLLtIOByecg/hTet/w/8Cb/ACBaW/rol/maPw3sJ9Q8eWMdro1trLR75Ta3cgjgwqk75GPG1epz1xjvXqdx5mufDzxfF4h8QeG/EFxYWS3VpHpNmAbJhIBkSrEgwQcYyf51434X8T6j4Q12PVdIMRmVGjeOePfHKjDDIy9wRXQv8VNRTSNT0rTtC0HTLDVLdoLmCys2Tdno+4uW3L2BJUZPFOWsbLs/v/q3mKOkrvuvuO48V6prXiXUPhrpklmmuC7023u309lSJbiUNIDucL8q7RyOmM8VsWfm65Z+KNL8R654U1SGPSbq4ttK0i0VjYvGuVZZViUDacD7xzXldt8VNcs7LQY7e101bvQCBZ6h9nP2jyxuHlMd21kw54xn3q1B8XtSsmvP7K8PeHdNS/gkgu0tLJl89XUg5YuWGM5AUgZ7Gieqkl15vx2/r7gjo436cv4b/wBfeL8QIY08C/D5o41VpNKlLFVwWPnt19aT42wJb/FK7iijWJVtbX5VXAB+zpniqOl/EzU9O8PWekT6Xo2qRaezNYzajZ+bJabjk7DkAjPOGBFY/izxTf8AjPxFNrWrrCt3MkaP5KlVOxAoOCTyQuT70S307t/eEdFr2t+X+R6d4G1jTo/Aem2Gia/pPhjW1lle8/trTVeLUgW+T9+yMFUD5ccd61NIv9e8KX/xMt/sllo0sWmrfR21kiSQI7NGA8ZIOVKnIHTnoK800j4j3+naDbaPf6PouuWlkzNaDVbQytbbjlgpVlOCecHIp9l8Utet/FGqa3eQ2Gpyarb/AGa7tb233QPFxtQIpGANoxg9qctW/NP8Vp+Py7Cjol6r8/8AI6jWvFF74e+DXg06VFZxXOqR3wu7l7SKSR0ExG0FlO0fMTxg8D0pvjO2jHxm8IRRQoEktNKyiqMNkJnjvmuB1nxVea3oWk6TPb2sNrpPn/ZxAjA4lfewOWPAPAxjj1robT4u63a2+nb9M0W6v9MiSG01S4st9zHGv3V3bscDgHGR2OeacWlLm/vX+Wv+YpJtNeTX4r/I9Q0/SNA1OX4jWPie/XTNI/4SqDzHVcbv3kgCDH3ckgZ7DJrH8Naxr1j+01YaVeWsGlRW0j2EVjbRr5UduELKFJGTu2q2/qf0rzPUvH+qapYeILS4gs1j1+/W/uiiMCkiliAmWOF+Y9cn3qwfibrh1Xw9qjRWZ1LQIxFBeGNjJOg+6svzYYAEjIAOD1qIact+lv8A0lK/4W9H99T1Urdb/m3/AF5nRavf3Gt/BfXNU1IpNev4niVphEqnaIGAHygADgVueHbSEt8GPMt4z51zc+ZlB84+0cZ9a4i2+KN/bXOqhdB0F9O1R0ln0p7RjarIgwHRd+5W9cN3oufivrt1q3h3UHtNMR/DsrPYxRW5jjALAhCqsPlGABjBx1JPNVDSSfmn9ysFT3k7ef4u5T8f+KL7XtfubO4S1hsrC6mjs7e3tY4hEm7AXKqC3Cj7xPf1rsz4sv8Awp8CPCUujx2q3k19ehbqe1jmaJQy5ChwQM5GTjPFeT3t099f3F3MFElxK0rBRwCxyce3NaV94mvL/wAJ6X4emigW00uWaWF0U+YxlILbjnBHHGAPxqIXULddCpNOd+mv5M9mFnZT+OJNRSwtYJNV8BSahcRwxBY/PaI7nCjgZxniq2mppXg34ceGJbLxLpXh6+1e3e7urm70Z72S5+cgIGEbhVUDBXg55rztPibrMd5Dci2sd8OhnQ1BjfBg2ldx+f7+D16e1M0T4jajpOgxaLe6XpGuafbyGS2g1a1Mv2dm+9sIZSATyRkj2q3a7t/SvJ2+5r7rErZX/rSK/NP8z07Tbjw1D438S6v4bgsr2EeEHvJY/sDxW5ugy5KRSqDsJCtjGOSK5/wjq3iPW9O1nxLKPD9ldGSG2/4SLVo4o47bAJ8qKIRlS7DqQpOK5Kb4m6/c6vq+o3X2WaXVdNbTHQxFUggOMLEqkBcY46jrnNV/Dnjy+8PaJdaM+naZq2l3MwuGtNSgaRElAwHUqykHHHWl/l+rf5P9Ng/z/Rfqv13PVtatbS+1T4XavNdabq1/d6u1vd6hYWnkR3QSaPGVKLuxkjO0ZpfDPiO613486jolwbOx0qxGpxW0cNrHGIF8t1JLKoZumTknnNecXvxW1u+OheZZaXGmgXv2uwjgtjEkfKny9qsBsyoP97r81ZmmeONS0rxlfeJbeC1a8vftHmRyIxjHnBg2AGB43HHJ/Gh7W/xfilb9QXTvp+Df6WO28dW8OgWvhbR/Cqwy+Fb0x3Saii/vNRmDAOZSRlSp4EfQcd+nM/GGNIfjB4kjiRURbwgKowB8o7Vm2PjbUbLwk/hxoLW6sRdpewG4Ri9tKvUxkMMBhwQQc+x5qj4m8QXXirxNfa5qEcMdzfS+bIkCkIDjHAJJxx6mk918/wAbflawLb7vwv8A53MuiiimAUUUUAFFFFABRRRQAUUUUAFFFFABRRRQAUUUUAFFFFAHbL92ihfu0UAcfe/8f9x/11b+dQ1Ne/8AH/cf9dW/nUNABRRRQAUUUUAff/w4/wCSWeFP+wLZ/wDohK6Sub+HH/JLPCn/AGBbP/0QldJQAUUUUAFNcsq5Vd3tTj044qPbKP41P1WgALJKNjZBPY8GmHcrBXYg/wALjofY0smxdvny43HjJxzUMroMBblCcghWOaAJBM8dwUmHysMqyj86oeItYi0DR59VcBhEUXazhFcswUAseByw57VdlmUwlpg0O3kMRwDUN1ZWmuWluJ28yOKZJ9qMCGZeQD6jPP4UAY+meONK1G2ga6Bt5Jn2Bf8AWIMuURt4GNrEfKTjNIfHOiwuPIee4864jhjWGFjv3ZAceq/K3I9KjPgfTNP2yRy3H2RAnmW7SDy22ElGPGcLnoDjgelTWXgbT7RLNo7u6le0kieGR2UnZGrKqdMbcO3vk5zQBHrfjG10LW5LKSCVkWza6eRWAUMAxCf7xCMfwq5/wl+jLHMktz5TRRsWyjYyCFZVOPmIZgpA7nFRa34U0XVJJf7Q3+ZcSxS4R8N+7BAA9iCwI77jVFfBOmPGRNfXY2yb7b5xm2PnCY7eOcuoPOeBigB2k+NdKvBFBOz2+6cwQxNG25trbNzDHy5cMAD6V1u/+6hP4YrmtK8IaXp+qpe2M00s0SeXJ5pVy53u+WJG4HMjdMZrpvn/ANmgBCHbrhR7daXy0/uilGcc8mloAOlFFFABRRRQAUUUUAFFFFABRRRQAUUUUAFFFFABRRRQAUUUUAc/4+/5J34g/wCwdP8A+gGrvhr/AJFPSf8Aryh/9AFUvH3/ACTvxB/2Dp//AEA1d8Nf8inpP/XlD/6AKANOiiigAooooAKKKKACiiigAooooAKKKKACiiigAooooA4vwD/yGPGX/Ydk/wDRUddpXF+Af+Qx4y/7Dsn/AKKjrtKAPkn9qv8A5Knpv/YFi/8AR89eJV7b+1X/AMlT03/sCxf+j568SoAKKKKACiiuu+GE3hS38fWUnj2MPo4DbwysyB8fKXC8lc/5xTSu7CbsrnI0V1fxLm8LXHj6/k8CR7NGO3ywFZVLbRuKhuQuc4/wrlKmLurlNWdgrsPGHw21bwdoGia1dPHc2GsW6TRyxA4iZlDeW2e+Dn3wfSuPr6A1jxFYJqmh+EPFEmPD+u+GbCN5D/y53G1vLnHpg4B9uvSqabjpvf8ARv8AQlP3tdrfqv8AM8cv/Cs9h4J0nxI9xG8GqTzQpCAdyGMgEk9Oc1hV7P4u8J6noXgPwV4bvtPN5exa5eQi1RtouQXTbtbsGBGD6Guv0KOfUvGFz4d8Ran4Q/s2eGeIeGdOtVme22xsQPNWIBWQjli/UHvipb0bX9aJ/wBfiUlsn/WrX6HzTRXrf/CSXPhH4J+FLzRbezTUbi+vUN5NaRzOiK65UbwQM5GTjPFdbd68tp8cNF8N2OkaTb6RrMdq+pWy2ERFy88YLksVJGM8BSAMe5qrXdl6fNq5N7K7839zsfO9FeueE7DUdG0vX7rRk0HRYk1RrWPxBrTq2wLn9xEjI+WxgkgdKg+MdvazaB4Q1lLiwvr6+t7hLrULC1+zx3RjkADbNq8jJGcDOPTFTfRNdbfirlW1a9fwdjytF3yKo43ECtnxf4am8H+LL3QrqeO4ls2UNLGCFbcgbjP+9WTB/wAfMX++P517trdpfP8AHPxrf6fp+lSNaW8R/tLWJFW204tFGBKQykM3YDBqrbfP8LE31+48HiQSTIjOI1ZgC7dF9zVvWLGDTNYubO0v4dRhhfal1ADslHqM84r2bxRFHq3wysNT1PVtH1/VbTxBDbf2hpln5IWNkJMRby0DjIBzir+tXkWgah8XNRt9Ps5p7O+svsouLdZEhYsw3BSMHGcgEYyBSem/9fD/APJDWv4fm1+h8+0V6Z40vm8T/CLQPEuqQW39sf2lcWUt1BbpCZo1RWXcEABIzjOK8zo6tf13Don/AF2JbS3N3ewWysFaaRYwT0BJxWj4q8PzeFfFWoaHczJPLYzGJpYwQrEdxmvUtf8AEUvgHxRoHhbQtN059JW0tJbqOWyjkbUHlAZnZypbOTgbSMYq9qFrqA+L3xA1LTrLSI2tpgo1jWnUQaczEYYKysGdsYHBxTe9v8X4WEtr+n43PCav6Jp1vqurxWd5qNvpkMgYtdXAOxMKSM455Ix9TXteuQQ6r4X8Jatf6lpOu6pF4nis5NR06z8lXjIVvLb5E34OOcY5+tTWXiG41X9pGTw9Jb2UekWN7eiC1is4lwywygsWC7mJOSck8mk9Px/BJ/qPpf8Ardr9D5/oor0z4XXkemeCfHepNZWt3NaWds8C3UIkRHM2A208HBIODxxzR0uHVI8zor2bVvHGowfCvw94qjtNMHiK5vLizk1M6dCXMMeCF27dgPzYztzgY7muiXw/oD/ELWvEN7Dp9l9l8N2upqstoZbeK4lVQ0xhQHcAcnAGMnNG2/T/ACv+X4/eG+3X/O35/gfO9aviTw5feFdYOmar5YuVijlYRtuADoHAz64YZr1DxJ4g0W98E3V7L4o0/XfEmm3UE+m3lloUlq0Y3gMkhMSoy4+YBu69+ldL4in/ALc+MupvrsMOp2/h3w8dTs7GWJdkk32eNsMAAWGTnBz09KOl+35WuC1dv6vdL9T51q3pVg+q6xZ6fE6xvdzpArt0UswXJ/OvTtF124+JPhXxXa+K7axlk0zTW1CxvYbOOB7Z0YDywUUZVgcYOelbWreJJfBPxV0fwboumaedDtns43geyjd7xnCMZjIV378tkEEYwKqK95J9bf1+BMn7ra6X/T/M8d8Q6NJ4d8S6jo08qzSWFy9u8iAhWKsRkZ+lZ1fQxsdK0q68e+KbjUrHStSPiWSxgv77T2vFtV5clY1VsM3TcRgAe9cN8TLvw7q3hfSdQs9WtNV19Z3hu7yx0uWzjuIsZVmDIql1PHHOCPSsot8qb8vxS/zNZJczS8/w/wCGPMq0NZ0630y6iitNSt9RSSCOVpLcHCMwyUOe69DWfX0MotLHxrqtzJp9rdJbeAIrgQTRBo3cJGQWHfnr61o9I3/rZv8AQzWsrf1ul+p881oa3p1vpWpta2epW+pxBEYXFuDsJZQSvPcE4P0r0O91qfxr8FdY1PX4LOXUNJ1O2S1uoLSOB1jkDBo/kUArx0rL+NUUcPxLmSGNY1+xWh2ouB/qEqXo7f1tca1+5/g7HAUVueC7CbUvGulWltpS6xJJcLiweTYs+OSrN2XA5PpmvbbPzdcs/FGl+I9c8KapDHpN1cW2laRaKxsXjXKssqxKBtOB945py0jf1/AI6yt6fifO1bnjDwvP4O8SS6PdXEdxJHFFIZIwQCHRXA59A2K73Xdfm+Hfh3wnp/h2x08xalpUeoahLc2Uc5vXkZsxszqTtAGMDFdP4hgvbj4zeI9T03StKU2+lWrC+1iRVttLLQx4chlIZuyjBpve3a/4AtfuT+9r/M8ARd8iqONxArZ8X+GpvB/iy90K6njuJbNlDSxghW3IG4z/AL1eo+No01X4Qw6rqWr6Pr2q2etx2w1HTLTyQqNGWMRby0D8gHIFaeuWuoD4xeOtS06y0dGtkt1GsazIog05mjTDBWVgztjA4OKXW3r+Sa/MXbz/AM2v0PBrWA3V3DApCmV1QE9snFaXivw9N4U8V6hoVzOk8tjKYmljBCscZyM/WvWPGUUWpfD3w/rN7qek63q0OvizfU9MtPIVk2BvLJ2JvwcHOMc/Wt298VT6n+0hd+D7qw019BvLt7a5tWsYi0xMeTI0hXfvzyDnjAoe6S31/KLX5jvZNvbT82n+R851reGPDOpeLtdi0nRoleeQF2eRtqRIBlnduygdTWddxCG9niT7scjKPoDivRfhVlvC/wAQIrP/AJCD6ExiC/eMYceaB+GKE1yuXk3+FxyTUuXzS/GxFb/C3TdXmk07wx450nV9cRWI09IZYlmKjJWKV1CueDjpmuS8OeGb7xJ4stPD9sBDdXE3lMZQQIsZ3M3soBJ+lVtCttUvNfsrbw/539pyzKtr5D7H3k8YbIx9cjFeo/Dbw/c6ZpXi/XtY1Ky0nUVD6Pa3WqXBVFuZM+cd4DEsEB5GeWp7a+X9fmkLfT+v66nnXi/wvdeDvEs+kXksdwY1SSO4izsmjdQyuuexBrrr74U6Xo/2WPXPHuk6fdXNrHdC3lt52ZVkXcMlVIrW+Inh9b34UaBrMOr6ZrN5oP8AxK7640yYyp5RJMBYlVII5Xp3FbXj1/h3J4q0K38a2+urcSaPZCS6sZ4xFGhjGCUKluO+D9BS8vO34N/5B1v5X/FL/M8/1D4aDR9V09NV8S6XFo+pwPNZ6zF5ksEm04K4C7g2TyMcVqXPwl0ez0Wy1e5+Iejx2F8zpbTm1uMSFDhgBtzwT3pvxlkuNMv9K8KwabHYaHpUDSaY0c5nF0kp3GbzCBndjpjjkVF4p/5IL4F/6+9Q/wDQ1pX91td/1Hb3kv62ucBfQRWuoXEFvcpdRRSMiTxghZQDgMAecHrzUFFFMR2y/dooX7tFAHH3v/H/AHH/AF1b+dQ1Ne/8f9x/11b+dQ0AFFFFABRRRQB9/wDw4/5JZ4U/7Atn/wCiErpK5v4cf8ks8Kf9gWz/APRCV0lABRRRQAUUUUANdVZcOoYehFNbyoELlQoHUhf8KkooApm5kumVLQMq9XldMAD0APU1HJZWNmpldT5jN99SQ7t6cfyrQqsLRnvFnuJd/lk+UijAXPc+poAhtLBWiZruFWeRidr/ADbV7D8qSDTpNOh8vTZf3YJIhm5UewPUD9B6VoUUAZujuLmOa5mQrdea0cqtz5ZU42j2xg++c1pYqhp0cqX2ptICEkuQY8jqPKQfzBq/QBFJaQSvvkhRm9SOaiexUMHtna3cd06H6joatUUAQxC5DYnMTD1QEfpzU1FFABRRRQAUUUUAFFFFABRRRQAUUUUAFFFFABRRRQAUUUUAFFFcZ4tttQPibSYbC9kgt9Xb7JdqHIKqmZNyY+6xCspP+0PSgDT8ff8AJO/EH/YOn/8AQDV3w1/yKek/9eUP/oAqj49GPhzr4HQadN/6AaveGv8AkU9J/wCvKH/0AUAadFFFABRRRQAUUUUAFFFFABRRRQAUUUUAFFFFABRRRQBxfgH/AJDHjL/sOyf+io67SuL8A/8AIY8Zf9h2T/0VHXaUAfJP7Vf/ACVPTf8AsCxf+j568Sr239qv/kqem/8AYFi/9Hz14lQAUUUUAFFFFABRRRQAVs+JfFF74pnsJdQigjawsYrGLyFYAxxghSck/NzzjA9qxq2bjw5JaeD7XXrucRfbrhorS225aZEHzyZ7KGIUepz6UdP69P1Dr/Xr+htaj8VfE2qad4ctrmaES+G332V2qHziRjG8kkNjaB0HvmtK2+NGr2Gttq+m+H/DllfTMxupoLFg1zuzuDEuSAScnZtyagj+GdnpllaS+N/Flh4cub2JZoLJ7eW4nCN91pFjH7sH3OaaPhNqo8dWPh1r20aPUrZ7qy1KFi8FxEqM+5T1/hxjsaJdb+f/AAfy1XkC20/rt+ZzuoeKbzUvC2m6BNDbpaabNNNC0atvJlILBiSQQMDHA/GtCf4hatP4603xW9vZi+05YFijCP5TeUoVdw3Z5A5wR+FcrRQtHcHrv/XU7DTfiTqNlp17p15pWkatYXd4199l1C3Z0hmbqyFWVhxxgk1W8VePtU8YaZpljqltYRRaX5gtvskHlbEcj5NoO3aNoxgZ9Sa5iilZbDu73FRijqw6qcjNduPivrbeJNa1a5sdLuk1xES/0+eBntpQgAU7d24EYznd1NY1l4W/tTUNAsNL1O1ubzWXEZiGR9kcvtAkOPx47Vf8U+D9F0BL1dP8X2eq3NlKsMlulrJEzPuYOF3cMF28kcHIxTei18/0v+hK1/r7ibUfihquoeHf7CXTNIs9NS7jvIbeztTGIZEz0w2TuzyW3HpgioNV+I2r6uviZbm3slHiWaGa88tHHlmI5Xy8scDnnOfwrkqKP6/L/JD/AK/r7zZn8T3tx4MtPDLxQCytbyS8SQKfMLuoUgnOMYHp+NY1a3hvw5feKtX/ALO0vy/OEMk5MrbVCIpZj+QqA6dbjw4NS/tGA3JuvINhg+aE27vN9NuePrQ97/12Dy/rudTpvxX1nT7DT4Z9N0bUrnTECWF/f2Xm3Fso5VVbIBA7bgcdqSP4q6z/AG1rt9d6fpV9Br8iyX2n3Vuz27MpyrAbtwI7fNXEUUPV3YdLHb3vxU1i80qy00abpFtZafqEeoWkFramNYXT+EYblTkk7ssfWs+y8fapY/ESfxlFBZnUZpppmiZG8kGVWVsDdnGGOOfzrmKKP6+/T9A6W/r+tQrY0nxNeaNoOtaTaxQPBrMUcVw0iksoR942kEAHPqDWPRQBsXXie9vPB+n+HJYoBZ2FxLcROqnzGaQDIJzjHAxgCtkfFDxBH4nt9cgFpFPFYR6c8AhLQ3ECKF2yIxO7IHPv0xXHou+RVHG4gVs+MPDU3g/xZe6FdTx3EtoVDSxghW3KG4z/AL1H6/5W/Jh/X43/ADNLXfiHqGs6C2iWumaTommySiae20q2MQncfdLlmYnHYZx7Vau/ivr9zrWlazFb6daapp0Xkm9t7ch7tNoTbMCSrjaMdB1NWLD4aWL+EdJ17XPGGnaNHqokNvDcW8rsfLfa3KKR6fnVLxL8PJdE8OReIdK1rT9e0d5/sz3NiWBhkxkK6MAVyOn/AOqh+7v/AF0/4ALX+vn/AMETWPiTqOpaHc6RYaVo+h2d4yteJpNoYTc4OQHJZjgHnAwParunfF7W7CLT2m0zRdQv9NRY7TU72y8y5iRfurv3AHHQEgkdjXBUULQHqdjafE7WrXWtbvZLXTry312Yz32m3VuZLaRyxYEKW3Agnghs+9UfFHjfUfFNtZ2c9vZafp1iG+zafp0HlQxlvvNjJJY+pJrnKKVlaw7u9wrsZvibrM19eXTW1iHu9FGiSARvgQAKNw+f7/yjnp7Vx1FPpb+u36i63/rv+hs2fie9svCGo+HIooDZ6jPFcSuynzFaPO0Kc4x8xzkGk8VeJ73xdrratqUUEU7RRxFbdSq4RAg4JJzgDPNY9aGm6db31rqEtxqUFk9rB5sUcoOblsgbFx35zz6UPv8A1t/kC0/ru/8AMXw/r1/4Y1+01nR5RFeWj742Zdw6YII7ggkH6110Hxe1Kya8/srw94d01L+CSC7S0smXz1dSDli5YYzkBSBnsa4Cih6qzBaO52Oj/EzVNL0S00u60zR9YhsGLWL6nZ+c9pk5IQ5HGecNke1W5Pi9r9z4i1XVr6z0u8XWIIoL6xuLdmt5hGAEJXdkMMZyGHJNcHXR+GfDmj63bzyat4rsdCeNwqR3UErmQY6jYp/Wnq9Rbf18y9q3xL1PVvC7+Hv7M0my0v7Sl1FBZWpiELrnlTu5znktuPTkVZPxa1qXW9bv73T9JvYNc8o3un3Nuz27GNQEYDfuBGOu6rfir4XaZ4Sa6t9Q8c6W2oQQCZbJbabfJldygHbjJBHU9686pX1/r+ug7aL+v63Oy1b4m6rq3h+30V9O0m10+1vVvbaG0tjEIWUEbRhuQckndlie9Vx8QdVX4lnxwLez/tM3BuPK2P5O4rtxjduxj/arlaKOt/66f5IN1b+v61HzStPcSSuAGkYsQOmSc1o+HPEWp+Fddg1fRLjyLuAnBI3KyngqwPBBHBFS+GfDsnie+uLC0uFjvltnmtoWXP2lkG4xg54YqGI9SMd6xjx1oXu6IH72rPRB8Xp7MzXXh/wn4e0TVZkZW1GytWEkeRgmMMxVCfUCuY1LxdqGp+E9N8PSxwR2WnzSzho1bfPLIeXkJY5I6DAHFYVFKw7m7oPi6/8AD+ja1pVvDbXFnrVuILmK4VmC4OVdcMMMD0JyPameKfFV74u1K3vdSit4pLe0itFFurBSka7VJyTzjr/KsWim9d/6/q4lp/X9dkdDqnjTUdZ8H6X4e1KG1mi0pm+yXZRvtCI3WPduwU6YGMjA5qC/8U3uo+EdJ8OzxW62mlSTSQOisJGMpBbcScHpxgD8axaKNw2sFFFFAHbL92ihfu0UAcfe/wDH/cf9dW/nUNTXv/H/AHH/AF1b+dQ0AFFFFABRRRQB9/8Aw4/5JZ4U/wCwLZ/+iErpK5v4cf8AJLPCn/YFs/8A0QldJQAUUUUAFFFFABRRRQAUUUUAFFFFABRRRQAUUUUAFFFFABRRRQAUUUUAFFFFABRRRQAUUUUAFFFFABRRRQAUUUUAFGAeooooA5/x9/yTvxB/2Dp//QDV3w1/yKek/wDXlD/6AKpePv8AknfiD/sHT/8AoBq74a/5FPSf+vKH/wBAFAGnRRRQAUUUUAFFFFABRRRQAUUUUAFFFFABRRRQAUUUUAcX4B/5DHjL/sOyf+io67SuL8A/8hjxl/2HZP8A0VHXaUAfJP7Vf/JU9N/7AsX/AKPnrxKvbf2q/wDkqem/9gWL/wBHz14lQAUUUUAFFFFABRRRQAV6h8RPs1h418GadNgabYaVp4I/hKt88jfiWOa8vrt/F1/D4n8EeHdZSVPt+mwDSL6EsN+EyYZMdSCpKk+q+9Upctn2af5r9UK1213TX5P9CT42Lcr8ZPEBu9xLTq0RPQxlF2Y9tuK3vhJp2v2vj7wrd6wLgaddWl6dN86bcuwQyBti5O0Z9hnrWHa/FW4k0y0s/E3hvRfEbWMYitrrUIW85EHRGdWG5R6Gqx+KviB/HFr4nkSza4s4GtrW0EJW2t4ihTYiKQQAGPfr1zWaXLHlXn+TX3/8EpvmfM/6/wCAdL4HTWNK+H8V/p83h3wyl1eP/wATvVysk10qgAxxRmNztU9SBye9dJrsnhnSfiV4c1rVo7SaLUPDvny6haaaWgW5O5VuzblRkDAOMehxXmGk/EW+03w1BoV7pGj6zZWsry2i6nbNI1szctsKsvBPODkVdn+MHiW41vTtUkTTxPY2b2BRbUCK4t2JJjkjztK84AULwB9auTu9P60a/Pt67krRa/1qn+Xf02Or8ZQXuoeGrLVL+60DxjpdrqcXm6ppUSwXaRt/ywkjVVwG5xnJz3rd1eVvFVnrNv4Q1Pw3rumPaymDw7c6etleWAUZzENgLOgB53c15ZqfxK1S806Ow0rT9L8P2qXKXbR6RbGLzJU+4zFmYnb2Gce1Xbr4vaxP9ruINH0Ky1S8iaK41a1sdlzIGGHO7cVBYdSFB5qWrxaXn+S/X5/O5S+JP+t2dz4dvZ9K1r4Ptp5SFry3aC4IjUmRGuTkHI9hz1rO1u/ufEHgfx5catJHLPHr9rbRzGJVKRh5AB8oH/164OD4g6rBceF5kt7Mt4YGLMFGxJ+83/vPm55PbbxVeTxpqMuha1pTQ2og1q9S9uGCNuR1LEBDuwB8x6gn3qpNP72//Jk/yuTHT7l/6S1+dj0jxX4ru/BfxGPgzQNA0+70O0EVsdKawjkfUC0aksz7S5di3BB9OKj8PRa1oPg+C4s/+Ef8EJcXk7Ne6yBLdXSq2PLWNonYKn3TwMmuXtvi/rsEdtLJp2jXWq2kIht9ZuLLfdxKBhcNnaSB0JUmqtn8TdTi0O20vVdK0fXI7R5JLWbVLVpZIC7bmwQwyC3OGBpbev8AX9dg7f10PYrWcaN8abeXRHtY01bwob26e1tRHHPKIZCJFRlyuSAcYHvXG+HLOPxl4C0VddZXfVPHKx3UwRUZ1aAbhwBjPtXKy/FzxFP4v03xJPDp739hZmywbciO4iIYESIGx0cj5do6VmX3jvULrRzplpZ2OmWw1X+1ohYxuhgm2BAEyxwoAyB1z3pxspXf9e/f8vyFJNqy/r3bfmekaP4rm1/4vP4H1DRtN/4Rqe8l09dMjsI0Nui7lDq4XeHGMls+tUTrEvgn4M2c+iQ2bX48QXdtFfT2sczxxqq52hwQCcDnHTOOtc9L8Ytdd5ruHTdEttYuIjHLrUFjtu3BGGO7O0MR1YKDXM3Hie9ufBtp4akjg+x2t5JeJIFbzC7qFIJzjHHpn3qNVG3Wy176r9L/AHl6OV+nbto/819x1PxaWG6fwvrS2tvbXer6JFc3gt4hGkku5lL7RwCcDOK0vh/Fq+neBJtS05/D/h8T3uwa/rJV3kCrzDFGY3PHUkDnp2rhNe8T3viGz0i2vYoETSbJbKAxKQWQMTlsk5PJ6YHtWnonxCvtI8NjQbrStJ1nTo5zcQRanbtJ5DkYJQqykZ7g5FWtOa3d2+//ACJevLfy/L/M9kisNNn+LHw/1Jxp+oSalpV095c2lr5EV4yRyjfsKrgkd8Dp9K4rSPEdx458F+NLLXLLTjb6Zp32zTlt7KKE2bLIoCoyqDjBwck5rBf4weIJNa0TVJLTSzcaJDNBahbYxoY5AV2lVYDCg4Xbj3zXN6J4ovdBsdZtbOKB01i0NpcGVWJVCwbK4Iwcgdc/SpaumvJ/fdtfp6FdU/T8N/66no3iPxDN8PE8M6H4f0/TnsLjSra9vhPZRynUXlyW3MylsdhtIxXO/G9t3xl15tu3LxHb6fuU4qvpfxR1fTtIsbG403R9VOmjGn3Oo2fmzWgzkBGyAQDyAwIFYPirxLe+MPE95ruqJDHd3hVpFgUqgIULwCSeg9actZX9fxtZfIUdI28l/XzPUb6fwhD8GvAI8ZWer3IZLzyTps8ce0ef824Opz2x0qD4iR2OieBdH0XwVZlPCeuzre/2rLcGWW4lUbfLcbQIyndRnOOvWvONV8VXur+GdF0O5it1tdFWUW7xqwd/Mbc28kkHnpgCp7PxpqNr4HvfCckNrdabdTrcJ9oRi9tKP44iGG0kcHII/M02023539Vf+n6iWiXp9x7frV14d8H+LY/DUXiXQ7DR7MRQ3GiT+Hpbh7oFVLF5RESztnIKtxkVyd7Lp3gPwTqniDwNHDLNfeIJbG2vbq0Dva2yJvCKsq/KxzySM4FczbfGDW4Vs5rrStD1DU7GNY7bVbyx8y6jC/d+bcAxXsWUmtfwHqGr6toWtGHU9D1e8vb0TXWheIdqpcEjP2hJGdfnBJBAI4/AUrN3/rqv0v6X7XGrK39dH/Xn6nU2d6mv6h8IdSudNtLaa8vrn7SsFusaTMJVBfaBjnGTjjJNUvDGoQ+L/iBr7+Il02LTfDFrd3On2zaephgKuFUuka7pVUfNg5yaoePvHcuj6h4JFlNo93q/hxZJ5o7BQbOF2cFIV2EAhVUA4P45rznR/GGraD4qk8QaXLHDdyvI0iFN0ciuTuRlOcqc9DRdN6f3vx2/r7gs0tfL9b/1956T4k1fw7r3gHWE1fxTp3iDVbfy5dNnstBltJITuw0bOIlXYRnAboRXRWF9a659i0/wVqPh37MbRIZPB+t6etvJJJ5eGxMUy7lvmDBhXk+s/EjUdU0GfRrHStH0KxupFkuo9JtTD9pKnK7yWYkA8gDA9q0IvjDrSSW95NpGhXGsW0SxxazNY7rpdowrbt20sB0JUmjSzX9bf1+Ya6W/rY6fwXqFlpvg9dJstZ07wh4jjvpvtUur6as0V6oIATzmVggTBBHvmppdJuLLUviR/amk6bYSyeH1uIk04h7dgzx4liPYNyeMdTXB6X8StTstHGl6ppmk6/aJO9xCur2xlMLucuVZWUjceSCSM025+Jeu3l1rdxdLaSNrNiunyr5RVYIVIKrEqkBcbQBnNKV2vOzX4W/Masn5Xv8Ajf8AL/I7Txd4oufhvrGleHPDFhpy6bFYW01ys9jFMdSeRAztIzKSQc4ABGK3LjT9M8Fav8T30rTLV4rSzsrm1trmISpbySMrY2ng7WbgHjgZrzjT/irq1np9hb3uk6Jq82moI7G81Gy82e3UcqoYMAQp6BgcVmDx5rTweI0u3iu5fEYQXs86kv8AK+8FcEAcjHQjHAxTlu2vP8dvu/DoKOiV/L8N3/W99TqvE+py+LfgpZeItZhtX1e21t7H7XDbJC0kJhDhWCAA4PTivMl+8PrWv/wk94fBI8L+VB9hF/8Ab/M2nzPM2bMZzjbj2znvWODg5pqym2ttPyV/xuH2Uv63f6HqXxfAPxyiBGQY7HIP/XKOux1CePxX+0VN4N1K3s4vDtneyXH2OK0RfNeOJnO5lXe25skjPI4xXjfiPxjqHijxWviC/hto7tREAkCsI/3ahV4LE9FGeaW+8baxeePJfF8Mkdlqslx9pDWykKj+wYnj2JNJdL+f42t9wraP0S+5O56tc674Z1zS9ZsfEPi3R9WtmtJWsbWx8OTW8ljKoyhjdYgQoPBDHGOtSRf2T4K8FeF4tP8AFGk+HrjUtPW/vJLvRHvZLwuTwXEbAIuNu0YPX1rz7UPitq13p9/b2OkaHpE2poY72802y8qe4Q/eUsWIAbvtAzVfSPiVqOm6Fa6Rf6To2u2dkxazXVrQzG2yckIwZTgnnByKF/l+v+a37Df+f6f1p3NvW7vRLD44aLqXgp1+zyT2k7LDbSQRrMWAcIkighD1HGMNiuZ+JFhBpfxO8RWdoAsEWoTBFHRQWJx+GcVs+G9el8TfE4eLPGN3G0OmAX8/RARFjy4Y1922KAO2T61xmsanPrWt3uqXZzPeTvPJ/vMxJ/nSt8K9fxtb8mPv8vwvf8ynRRRTEFFFFABRRRQAUUUUAdsv3aKF+7RQBx97/wAf9x/11b+dQ1Ne/wDH/cf9dW/nUNABRRRQAUUUUAff/wAOP+SWeFP+wLZ/+iErpK5v4cf8ks8Kf9gWz/8ARCV0lABRRRQAUUUUAFFFFABRRRQAUUUUAFFFFABRRRQAUUUUAFFFFABRRRQAUUUUAFFFFABRRRQAUUUUAFFFFABRRRQAUUUUAc/4+/5J34g/7B0//oBq74a/5FPSf+vKH/0AVS8ff8k78Qf9g6f/ANANXfDX/Ip6T/15Q/8AoAoA06KKKACiiigAooooAKKKKACiiigAooooAKKKKACiiigDi/AP/IY8Zf8AYdk/9FR12lcX4B/5DHjL/sOyf+io67SgD5J/ar/5Knpv/YFi/wDR89eJV7b+1X/yVPTf+wLF/wCj568SoAKKKKACiiuu+GE3hS38fWUnj2MPo4DbwysyB8fKXC8lc/5xTSu7CbsrnI0V1fxLm8LXHj6/k8CR7NGO3ywFZVLbRuKhuQuc4/wrlKmLurlNWdgrpPEPgq/0HVtJ05GF/c6rZQXcEduhLHzc7Ux3PFc3X03Pr3hTRNc8L2169xaa/qvhq2tIdY+XZpYaMhHUEcszEgnsO/Wrtpfz+/R6fgTfW3l+qPB/GHhFvBt5b6fe6lbXOpmMPd2ttlvsbHojP0LeoHSucr0vwX4DcfHaHw142iLtbyyy3CSEsLnYjSA56srYB9SDXVXWueGNc0rWbHxB4s0fVbdrSVrC1sPDk1vJZSqMoUdYgQoPBDEjHU1F/d5vmVb3uX5Hk3iPwvP4btdFnuLiOYavp6X0YQEeWrMRtOe/y1h19B6Xoml6xr3gyXW1hkttN8E/bhHcRtJGzoz43ovLKM7io64rF1zWfDmveC9cg1vxXpevXsUHnaY1j4fltZLaQH7m8RKPLYcYY+nNOXut/P7k2v0FHVL5fe0n+p5l4n8Lz+F30tbi4jn/ALS06HUE8sEbFkBIU57jFUrTTre40XUL2XUbeCa1MYitHB8y53Ng7e3y9TmvXfGfj/U/C48G2Wl2OnmJvD9i9ybmyjma7UqR5bM6khBzwuOSaXxZoOm6FpHxWs9MtUht4bjSnhjxnyfMYOyD0ALEfhTkrOXq/wAJJfqK+i72X5Hl3izwvP4T1K2s7m4juGuLKG8DRggBZV3Ac9xmsOvfPE/je/0fx94S0extNONncabpqXqz2UUrXauigqzMpOApwACO5rPs9GuvD/iHxtJ4dtdC0i2tdWa1g1zWXUx2YDE+TEjI+WI7gEgCh6Sfa7/B2/VAtYrvZfir/oeJ0V9Dz2lpf+Ivhbq89zpmrX13qctvd6hY2nkR3QR1xlSi7sZIztGaxdI8RP4s1zxl4Y1LTtNGjW2nX01nbRWUSG1eHJR1cLuLepJOaluyv6/hZ/qUtWvl+La/Q8SooopiCiiigAooooAKK9wv/FVz4Yt/hxZ6RZ6en2/S7Y3sktlHK9whlK+WSykhcZ6YPP0rQj1CG7+LHijwGulaZD4bitr1Y7OOyjBR44y4kEmN+7cM9cDoOgol7t/Lm/8AJdwjrbzt/wCTHz/Wr4f8OX3iW6urfTfL3WtpLeSmR9oEca7m+p9BXsGmppXg34ceGJbLxLpXh6+1e3e7urm70Z72S5+cgIGEbhVUDBXg55q9oWtabY/ELXZ/BFzCttd+FJb268ixaCL7WiN80aSoCE/iwPlO7vinLTm8r/ek/wDIUdbedvxa/wAz58or1eXX7vwh8MdF8Q6PFaHW/El5dy3upTWkUroI3AEaBlKqDnccCunsdG0fWJdF8bXmjWX26Tw5falPp6whYLm4t2CpIYxxhs7iBwdtJ6Xb6b/c3+g1rt12++x47o3hefWfDevaxFcRxx6LFFJJGwO6QSPsAH0PNYdexaT4z1Lxb8J/Hqa1DaPPDb2pS7gtI4GCG4H7s7FAIHUZ5HNdTrE2geCNYsfD1r4m0PTNPtreD7Vpt14fkunviyBmaSURNu3Z42txwO1O2oX0+/8AT/M+dKK3fG8Gj23jfVYvDLO2lC4Jtd8boVQ87drgMMEkcjtWFUxd1cbVnYKKKKYgooooAvnTrceHF1L+0bc3JuvI+wYPmhNu7zfTbnj61Qr1PwxBE3wo8Pu0SF28bxIWKjJXyV4z6e1dfbeIW1n47ax4IudN0weHZ5ryBrNbGIHcqO3m+Zt379y5znjPHanLR/10Sf6ii7q7/rVr9Dw2XTrePw9BqK6lbvcSztE1iAfMjUAEOe2DnH4Vn16BqsMafs/6JII1Eh166Uvt5IEacZrz+k/ia9PyTH0T9fzaCiiigAooooAKK6PwBYT6l470u3ttHi1p/N3/AGGeTy45AoJO9uyjGT7CvX08zXvCvi+y8R6/4X1s2ulTXdrZ6RZjNi6EbWWVYlAAzjG45/OiWkb+r+4FrK3p+J8/Iu+RUHBYgVs+MPDU/g/xZe6FdTx3EtmVDSxghW3KG4z/AL1ei+IvEMvw8Xwzoegadpz2FxpVte3wnso5m1B5eW3OylsdhtIxW5rlrfS/HPxpqGn6bpTNa28R/tDWJFW20wtHGBIQykM3YDB5ptWdv8X4WEtr97fieE2lubu9gtlIVppFjBPbJxWl4q8PzeFPFWoaFczJPLYzGJpYwQrEdxmvXvEkaar8N9O1XUtX0fXtVs/EUFsNR0y08kKjKWMRby0D8gHIFTanbalF8TviDqem22i2hivEiGu606+VYk87URlYM7DjoSPxpPe3r/7bb8x9Pu/OS/Q8O0yxbU9Xs7CNwj3U6QqzdFLMBk/nVjxFosnhzxLqOjTypNLYXD27yICFYqcZGa9k8TQwX2keA9an1DTNX1Q699lm1PTrTyFmUMhCn5E3bT/Ft/rV9PE83iH4+az4Nv7DTW0G5nvIZLX7FFuLKjt5vmbd+/cuc570np+P4JP9QXfpp+bX6Hz1RSsNrkehxSUw2O2X7tFC/dooA4+9/wCP+4/66t/Ooamvf+P+4/66t/OoaACiiigAooooA+//AIcf8ks8Kf8AYFs//RCV0lc38OP+SWeFP+wLZ/8AohK6SgAooooAKKKKACiiigAooooAKKKKACiiigAooooAKKKKACiiigAooooAKKKKACiiigAooooAKKKKACiiigAooooAKKKKAOf8ff8AJO/EH/YOn/8AQDV3w1/yKek/9eUP/oAql4+/5J34g/7B0/8A6Aau+Gv+RT0n/ryh/wDQBQBp0UUUAFFFFABRRRQAUUUUAFFFFABRRRQAUUUUAFFFFAHF+Af+Qx4y/wCw7J/6KjrtK4vwD/yGPGX/AGHZP/RUddpQB8k/tV/8lT03/sCxf+j568Sr239qv/kqem/9gWL/ANHz14lQAUUUUAFFFFABRRRQAVteJvFN74rubCbUYreJrGxisYhArAGOMEKTkn5uecYHtWLW54s8Lz+E9StbO5uI7hrmyhvA0YIAWRdwXnuKHt8/x1/4ILf+vL/gGlffEvX76TQbpzbxanoKCO21ONGFxIg+6shLFWA6fd6E5zk1b1D4rard6ff29jpGh6RNqaGO9vNNsvKmuEP3lLFiAG77QM1w1FD13/q+/wB4LTY6xfiRr8GqaDqFk8Fpc6FZLY27RRkiSIFsiQMSGzuIPQe1Tat8TNR1HQ7vSbDSNF0O2viDef2VaGJrkA5CsSzfLnnAwK42ih67gtNj0CP4xauLfTIrrQ/D962k20dvYy3ViZHtwgwGBLcngHnIyMgCsF/HOsT6X4hs7x4ro+IZopr24mUmTdG5ddpBAHJ5GDx0xXO0UPV3f9dQ2VjodW8Z6jrPiPTdauobVLnTobeGJY0YIwhAC7gWJycc4I/CteP4q6s02sf2hpej6naavem/msb23d4Y5z/GmHDKccfePFcPRR/X36h/X3Hdy/FzXZptBkNjpMa6Bdm6sIobYxpHnH7varAbPlz/AHs5yTWHo/jLUNF1vVNUtYbZ59Ut7i3mWRWKqs33ioDAgjtkn8awKKP+D+O4bf12CiiigAooooAKKKKAN/UfGOoanJoLzw2ynQbaO2ttisN6o5YF8tycntirkPxD1aDx5qHixLezN/qCzrLGUfyl81SrbRuz0PGSfxrlKKHr+P47/eH/AAPw2Ou0T4jajpOgxaLe6XpGuafbyNLbQatamX7Ozfe2EMpAJ5IyR7VJB8UvEEfjaTxNOLO6uJLZrNrWaD/Rvs5Xb5IQEYTHYH+tcbRRu7gdjp3xJv8AT7W8sZNG0W+0q5umuk0y8tWkgtpD3i+YMgxxjd0qOb4meJZfF1p4hjuIbe5sohBbW8EKrbww4I8oR9NhBOQeua5KnwQvcXEcMQy8jBFGcZJOBTSbat/XT/gA7WdzttQ+KupXnhrU9BtND0HS7DVAv2lNPs2iLMrhg2d554xjoATgCnWPxa1i2tbFb3SdD1W706NY7PUNQsvMuIFX7oDBgG29twOK5bxDoV34Z8QXmjal5f2uzk8uXym3Luxng9+tZyruYL6nFKOvw9f6QPTRlnU9SvNY1S51HU52uLu6kMs0r9WYnJNVa2/GPhmfwd4rvNCuriO4ltCgaWMEK25A3Gf96sSkrW0G731CiiimIKKKKAOgsPGeo6d4dstGghtWt7PVl1aNnRi5mVQoUkNjbgdMZ96sWfj7VLH4iTeM4oLM6jNNNM0TI3kgyqytgbs4wxx8351y9FD13/rp+iDZW/r+tTZufFF7deDbXw1JFALO1vJLxJFVvMLuoUgnOMYHp+NY1FdZaeBhqMmpjTdas7tNN0Y6rLJGrY4C7ov94FselHd/1ov8kHl/Wr/zZydFFbnh/wALz+INN1u8guI4V0ey+2SK4JMi7guBjv8ANR5gYdFFFAGr4a8R6j4T8QW2s6O6JdW5OBIm5WBBDKw7ggkV06fFnUbaz1G00vQPD+mWup20ltdw2dmyeaHGN24uWyMnAB289DXB0UPVWYLR3R2ml/FHVtO0mxsbjTdH1Q6aMWF1qNn5s1oM5ARsjIB5AYECpP8AhbGuSeJda1e7stLu111ES/sLi3ZraXYAFO3duBGM5DdTXOeH/Dl94lurq303y91raS3kpkfaBHGu5vqfQVlUPfX+r/8ADAttDtb/AOKOq33h8aImmaPZ6bHeR3kNvaWpjEMiZ6YbJ3Z5Lbj0wRUg+LGsSajrlxf6bpGoW2uTrc3Vhd27vAJF4DIN4ZSP96uGoo/r8v8AJfcH9fn/AJs7TUvihrGp6fpdjJYaVb2uk34vrOK2tjEsRGP3eA3KEjJz8xJPzVSs/H2qWXxEm8ZxQWZ1GaaaZomRvJDSKytgbs4wxx81cxRR/X9fcHS39f1qBO5iT3OaKKKAO2X7tFC/dooA4+9/4/7j/rq386hqa9/4/wC4/wCurfzqGgAooooAKKKKAPv/AOHH/JLPCn/YFs//AEQldJXN/Dj/AJJZ4U/7Atn/AOiErpKACiiigAooooAKKKKACiiigAooooAKKKKACiiigAooooAKKKKACiiigAooooAKKKKACiiigAooooAKKKKACiiigAooooA5/wAff8k78Qf9g6f/ANANXfDX/Ip6T/15Q/8AoAql4+/5J34g/wCwdP8A+gGrvhr/AJFPSf8Aryh/9AFAGnRRRQAUUUUAFFFFABRRRQAUUUUAFFFFABRRRQAUUUUAcX4B/wCQx4y/7Dsn/oqOu0ri/AP/ACGPGX/Ydk/9FR12lAHyT+1X/wAlT03/ALAsX/o+evEq9t/ar/5Knpv/AGBYv/R89eJUAFFFFABRRRQAUUUUAFfSniXT7Sx0uXxJoRt9S8W2XhyxdLOZN32G28oK9wqkYdx/46Oa+a67BfibrsfjLTvEsKWkV5YWkdmsSo3lTRImza6lsncOvI9sU3rHl8/0f9eglpK/l+q/yO58GRadofwpj8Sya7YaNrGq6nLC2p32mvfMqIAfLQBHCkkliSORWxor+F9W+LHg290+ez1W8ntb1dVktdOktILlkifY4R0UbiCQdvde1eV6R8RNQ0eG/sl0vSbzSb64Ny2lXlu0lvFJ2aMbtykDj73TrmrP/C1teHivTdcS30+P+yoHt7KwigKWsCOpVgqKwP8AETnOc4pN31/r4bfn/mFtGv63/wAjsdB8a3Gs/D3xdqOp6Vo88uhG2m0lf7OiVbNnkMeAAvzAAggNnkAnNNu0uPGWkfDvWZ9DtdY1q9vbq3nhjjS2W9SJ1KiTaAAAM5OOma8z03xPe6V4d1rRreKBrfWViW4Z1YuvlvvXaQQBz1yDWjpnxF1zR7LQLfTfs8B0C4muLWURksxlxvD5OCMDGABwTTVr39BvbTz/AC0/E9fs/N1yz8UaX4j1zwpqkMek3VxbaVpForGxeNcqyyrEoG04H3jmucv/ABXdeEvBHw8/sS0sI7i8s3N1cTWccryoJ2Ajy4OF5OcYJ454rmIPi9qVk15/ZXh7w7pqX8EkF2lpZMvnq6kHLFywxnICkDPY1zep+K77VtN0OxuIrdYtDhaG2MasGcFy/wA+ScnJ7Y4pR0kr+V/lzX/NA9nbz/Hl/wAme2/2hA3x41LwDDpOlweGpknSSySyj+ZzbmTzN+Nwbd0wcAYAAxXInxLd+Evgl4VudFtbSO/ub29Q38trHM6Irr8g3ggZyM8ZwtcmvxI1dfiTL42FtZf2lIWJi8t/J+aIxnjdu6H+91rqU8cQ6H8F/DNjFa6LrDNeXj3On6hEJvKO5Sj7QwZDy2DkAgnrSSaj52X5/wBflsN6y+/8mdRa6fYXOrrrken21pc614Gu7y6toYgsYmAK+Yq9F3YzxXAeFYEf4J+OpmiVmWfTwjlckZlbODWanxN8Rr41TxP5tubpIfsy25gH2cQbdvkiPpsx2/HOam1P4nalqHhm/wDD9vpGi6Xpl80byQafamLa6Nu3A7iSTgA7s8DjFN9fP8Peb/LQF0T/AK0S/NHp+inVNF1TQNLvbzwn4ZsXS3jm0GWBbu7u9+MmXETMGfPdhjIrOlktvBnh/wCJM+kadZmSw8QxQ2P2i3WVbbLSAFVYEHAzjII6HtXGN8Ydae6ttQk0jQpNZt0RF1eSx3XJ2AAEktt3YGN23PvWVq3xC1TWLPX7We1soo9evo7668pHBSRM4CZY4B3HOc/UUTu72/rWL/JP9BR0Sv5fk1+bX6noInXxIvwt8R6la2v9qXmsta3c0NukX2hY549pdVABIBI6Vd03xC3iP4m+J/Bt9pumDQBFqCw2kdjEpieJXZZBIF378rkknvXltn471Oy0/wAO2cUFoY/D1617alkbLuzqxD/NyuVHTB96bpnjnUtK8ZX3iW3gtWvb37R5kboxjHnBg2AGB43HHJ/GiWqaX9772lb8bhHSze+n4N/pY7Ww8Pf8LJ8E+DzZoq32n6h/Yt+6KAfIb95HIfYKHGfatO01G51nxR4t13w5ZaFYWNq8VlZa1q7IILCNPlUIjIwZ3C5zgkZ96xvA2pXHgH4c+INcfU7JW1uzFpYWUdwrzGXcVMpQcpsUvyf7wrkfDPjm+8NaXe6WLHTtU02+ZZJrLUoTJHvX7rjaykN9DTfxP+tXa/6v52EvhX9aL+kvkd18U4YL74Z+Htan1DTNX1Q309rNqenWnkLMoUEKfkTdtP8AFt/rXkFdX4j+IeqeJvDdroV3Zaba2Fncm4to7K28rycrtKAA429+QWz3rlKnq/66L9Sui/rqFeifEaBFsvAHkxKpk8P25bauNzeY/X1Ned12mn/FDVrHQ7DTptM0bUG0xStheXtn5s9oCcgIc4IB5G4HFWmlbyaf5/5k63fpb8v8j1PWp7fRfFnxYvk06zneytrF7eK4gV40clAG2ng4Jzjocc1zR8Q3utfD3w/4tu0tF16y8SfYVvYbSKNnhMQbayqoU4J444rjNT+Jes6tceJZrq3sg/iSOGO8Ko42CIqVKfNwTtGc5/CsuPxXfw+D4/DkaQLax6j/AGisu0+aJdgTGc424GcYznvSp+7a/S34PX8Akrppdb/+k2X4ns2u39xq/wAUvifDqBSdLDQbuO2BiUeWoKHsOTknk81wOgQIfgP4knaJS41iyVZCvI4bIB/Kq8/xb1ubxcPEaado8F7JbNbXix2p8u/RvvecpY7icDpjpVbVviZqWqeGbjw/FpWj6bpc88dx9nsLUxBHTPIO4k5zzuz0GMUoe6l8l90r3+ZTd5N+bf3xtY9h+J9nbaJJ4t8R+FXg1DxFvgi1FmTL6VbPEoDRqRgs2Bl/4QeMcmvmwnJyeTXaL8UtcHjy+8VGCxa41CE293ZtG5tp4ygQoy7skYAP3utcbIweRmVFQMSQi5wvsM81KVvu+7+t/vD7Nv6/r/gDa9O+HGoLo3wv8c6qlna3N1atYm2N1CsqxO0jrv2sCCRnIzxkCvMa2NO8TXmmeF9Y0KCKBrXVzCZ3dSXXymLLtIOByecg/hV/ZaX9aoXVHp+v+OdR0/4eeEvE9pZ6Wmv6kbmG71H+zoS8kcMgCrtK7RndyQATgc10T+HfD1l8QPGuvypp+nf2dp9ncWxns2nt7aW4Rd0vkqDnBzgYIBbNeHah4mvNS8L6RoM8UC2uktM0DopDsZWDNuJODyOMAfjW3/wtPXx4vuPECJZCW6tUs7q0MJe3uIVQJtdGJyCFB69emKOrt5/j/X6h0V/61/y/yOy8Raj4d13wrDLd+IrDX/EFrqUH2e7stFlsy0TNh45D5aoQOozzwa6o68t98ftb8HXOk6W/h1luPNsvsUYMjrCZPMMmN+7cOueB06V49rHxH1LVNNt9NtdO0rR9NguRdGz0y2MUc0o6M+WLNj60kfxG1eL4iXXjJbey/tG683fEUfyR5iFDgbs9Dxz1qX/n+KSX4r9Q/wCB+b/r8Dp/7dn8afB7xVPrdrYeZo1xZvp7W1nHCbdZHZWQFFGVwOhzXWX0UcOt+I1hjWMH4dRsQq4yTHHk14vp3ia80zwvrGhQRQNa6u0Jnd1JdfKYsu0g4HJ5yD+FbM/xN1m4u724e2sQ95oq6JIBG+BAABuHz/f+Uc9PanLZpdf/AJFr82C+JP8Ar4k/0Z32iy6x4d8O+H1+3eFvCFrJbLNLBfQrdXepBj/rXQROwVhwFyOP01PLsvCXxE+Kp0zTrQ29rpAlitHiBhDMYm+5027mzt6dq80T4q6r9hsI7rSNDvb3TYFgtNTurLzLiJF+4Mlth29iymoNQ+J2s6lqniDULi2sRP4gs1s7wpG4AVdvzL8/DHYM5yOvFEtW2v7347f106BHZJ+X4PX+vvN7WtWm8Y/BKbW9chtJNU0/Wo7WK7htY4XMLxFih2KAQCMjivMK2IvE95D4LuPDCxQGyuL1L15Cp8wOqlQAc4xg+mfesej7Ta8vyX6h9lJ+f5v9Ar2jQJNY8PeDNDkhvvC/g+3niM7y6jGtzd6kpbiQp5TsExwBxXi9drb/ABQ1JNI0+zvdG0PUptMiENle31kZJoEByqj5grAdtymqTsv6/r9BW1PV4Zj4X+Nnja18PCGztpfD0l75UMChBKLdXDKpHyjczHb055Fec+MZWvfg34Q1C4CNdXV/qLzyqgUuxkU84A9TxVA/FfXn8dP4rmttOmvprP7HcxSQMYbmPYEO9d3UgDOCB7CmWPxOvrPTZ9Nl0LQb3Tnu3u7ezu7MyR2bt18r5shfYkiotp8vyb/T8ik/6/7dt+Z6lYRW1l420+Wawt51h+HgnaCWIFHZYyfmHfOK5LwfrPiPxFHrXiGaLQIbmGOG2XXtVihhhsPmJ2pGIyrOw4ztJAFc7dfFjX73XJNWuobB7qXR20dyIWVTCwILYDAB+e3y/wCzWb4Z8c33hrS73SxY6dqmmXzLJNZalAZI96/dcbWUhh7GqbvJv1/9Kb/JiWkUvT8kvzR6h4ot7fUdG8CaxdX2l6zqTa99kn1LT7TyEnQMhCkbE346Z245+tXbbxC2s/HbWPBFzpumDw7PNeQNZrYxA7lR283zNu/fuXOc8Z47V5jqXxQ1jU9P0uxksNKt7XSb8X1nFbWxiWIjH7vAblCRk5+Ykn5qp2fj7VLH4iTeM4oLM6jNNNM0TI3kgyqytgbs4wxx8351L1uumv4pfqmC0Xnp+b/zRzDDDEehpKCdzEnuaKY3udsv3aKF+7RQI4+9/wCP+4/66t/Ooamvf+P+4/66t/OoaACiiigAooooA+//AIcf8ks8Kf8AYFs//RCV0lc38OP+SWeFP+wLZ/8AohK6SgAooooAKKKKACiiigAooooAKKKKACiiigAooooAKKKKACiiigAooooAKKKKACiiigAooooAKKKKACiiigAooooAKKKKAOYXVrXxUbzQ7yzljtLyGeNZRIMyoreW/TleTxVCL4W6ZDCkUOt+I0jRQqqurSAKBwAK6Sx0DT9Ov5ry1iZZZS2d0hZU3Hc20E4XJ5OK0qAOL/4Vjp//AEHvEn/g3lo/4Vjp/wD0HvEn/g3lrtKKAOL/AOFY6f8A9B7xJ/4N5aP+FY6f/wBB7xJ/4N5a7SigDi/+FY6f/wBB7xJ/4N5aP+FY6f8A9B7xJ/4N5a7SigDi/wDhWOn/APQe8Sf+DeWj/hWOn/8AQe8Sf+DeWu0rj/FHiXUdG8UabpVs0BXWcRQSOP8Aj1dWG9m9QythenzADvQBH/wrHT/+g94k/wDBvLR/wrHT/wDoPeJP/BvLXaCigDi/+FY6f/0HvEn/AIN5aP8AhWOn/wDQe8Sf+DeWu0ooA4v/AIVjp/8A0HvEn/g3lo/4Vjp//Qe8Sf8Ag3lrtKKAOL/4Vjp//Qe8Sf8Ag3lo/wCFY6f/ANB7xJ/4N5a7SigDn/Ceg6P4egvrXRbuW7aS5Ml089z58glKj7xPIOAODXQVh6Jp17Za1rNxc29vDb3kySQ+TIWPEaocjaMZ2579a3KAPkn9qv8A5Knpv/YFi/8AR89eJV7b+1X/AMlT03/sCxf+j568SoAKKKKACiiigAooooAK3PFnhefwnqVrZ3NxHcNc2UN4GjBACyLuC89xWHX0p4l0+0sdLl8SaEbfUvFtl4csXSzmTd9htvKCvcKpGHcf+OjmiWkebz/RgtZcvl+qPmuivafBkWnaH8KY/Esmu2Gjaxqupywtqd9pr3zKiAHy0ARwpJJYkjkVr6PJ4Y1X4r+Dr7TZrPV72a1vV1R7XTZLSC5ZIn2OEdFG4gkHb3XtTas7f1tcV9L/ANb2Pn+ivWvD3iCb4haV4q0nxDYaetrZaTPf2DW9lHCbB4iCqoygHaQdpBJzVLx9bxr4p8CJDCo83Q9NJCqPnJJ/M0JXaXe343/yBuyb7X/C3+Zw+jeHL7XbPVLqy8vydKtTd3JkfGE3BeB3OSKyq+hm1zUNC8YfF6LSpUt47a3a4iUQoQkm+Nc8g9j06e1ed/ENFbwT4AmCKJJtMlaRlUDe3ntycVCd1Frrb8eb/Iq2sk+l/wALf5nntFfQGrXuhaH8XPES6k8OkXT6XZpYapLpwuobGUxR5LR4IBYcbscc1keIdE1rV9d8I3cum+H/ABas128KX+kOsK6iRhvKnCqoQqoOTjpnJq+qJvpfy/S54tRX0TZ+brln4o0vxHrnhTVIY9Juri20rSLRWNi8a5VllWJQNpwPvHNcneeKbvwf8IPA1xoVtYxX90t55l5NZxzSbFnPyDepABzzxngc1N/0/G/+RVn+f4f8OeRUV3vxitLS38cQXFjaQ2Y1DTLW9lhgQIgkkjBYhRwMnmuCo8n/AFYXZoKK9H+DckFveeK7u6s7e9W18O3Myw3CB0ZlaMjI7jNb3/Cb6hcfBv8A4Si5s9Ll1+11n7Ba3506ENBE0W8gIF2E5GASDgE4qnp9yf3uwLX8V9yueNUV9BWeh6N4j8c6Br2t2lkjyeEjrF2n2b9zNcIWXe8SD5h0YqBzt6Vja5rPhzXvBeuQa34r0vXr2KDztMax8Py2sltID9zeIlHlsOMMfTmlL3b91f8ABtfowWtvl+KT/U8Wor3nxB4vuvD/AI+8KaLpdhpiWV5YacL9JLGKRrvzEVSHZlJA28AAjue9Y2q6RZaX4b+LdnZW8ccNnqtrHAoX/VJ9ocYHoMcUS0v8/wAGl+oR1S+X4q/6HlOmWiahq1pZzXUVnHcTLG1xMcJECcFmPoOppuoWyWWpXNrFcR3SQTPGs8RykoUkBl9jjI+teteFLWI+Cfhy8kCEy+LmVmKD51zHwfUdag8V28K/DXxi6QoGTxs6Bgoyq7ZOPp7US93+v8P/AMkKPvP+v73+R5JRXoHjWBIvhP8AD1xEqPJBelmC4Lfv+M+tef0dWuw+lzZ8I+HJvF3iyw0K1njt5b2QossgJVcKTzj6VkzxGC4kiJyY2Kkjvg4rt/gpz8ZvDn/Xy3/otq6X4gWFt4e8H6bY+DpYLrQ9XuXXUdZRP3k9yjkGJsjKIo5Vf4hzzTs9LddPyBPV36f8E8gor6Q1q58OeEPFsfhqPxJodjo1mIobnRZ/D0tw9yCqli8oiJZ2zkFW44rwXxVBplr4u1SHQHeTTEunFq0iMjeXn5QQwDDA45Gam6voO2mpk1uHwvOPAK+KvtEf2dtROn+Rg79wj37s9MYOKw690+F+h6Br3wls7XxTepBbf8JQfJgclRdzG3UJEWAO1STyfT61Vrxfy/NIm9mvn+TPC6K9s8KQtrPjvxdrHjiGxsLvw7ZN5FtNZmS2sWDhFPkoCWVByODnIJ9ao+MNV8Pa58O9Qa/8S6f4g121nhexubLRJbN1Uth45G8pUK4ORnnI4qb6J99fvdiratPpp+B5DRXu/jDxnd6N8WLDw/Y6Rpp0uZLKO8tZLCJ/t3mRpksxUt0OBgjGPrWR4z0Kx0H4ceLNP05FMNn4wEMLYyyp5LYXPXjp+FOWiv8A1ul+oo62/rdN/oeXaHo134h16y0jTQjXV7MsMQdtq7icDJ7Cq17avY39xaTFTJBK0TFTwSpwcflXuXg64m0ub4OvZhYXvJbuGZvLUmRGuBwcj079axLu/uNb8FfFC+1MpPdR31lGsnlKpVRO6gDAGOAB70S0/H8Gl+oR1/D8b/5HkVFesaSumWvwu8E3ms6cbyzHiSc3MUce55ogqZXH8Q68d63fFLXPiTwnr8ui6x4Z8VaXDCbmO2SyWyvdLjVs70QIpIUcHJOaJaX/AK6J/r+AR1t/XVr9DwqivedGfVtAt/D1pNe+FfCdm9vCZtMuoFu7u/3n/WSKImYFweBuGKb5Fh4U134tvp+l2ckeneQ1pBPCHjiYzDBCnjAJyB04HaiXuu3r+H9f52COq+78TwiivTvE+pSeLfgpY+ItZgtW1e21t7H7XBbRwtJCYQ4VggAOD04rzGjZtP8ArS/6h0T/AK3sFFaPh/V30HxHp+qxIsjWdwk2xhkOAclT7EZH4167e6DZeDvEXjLxjbxxtp32JZdF3KCrSXo+QqP9hTJ+VD0V/X/gL5gtXb0/4P3HiNFe86NJq2gW/h61nvfCvhSzeCFptMuoFu7u/wB5/wBZIoiZgXB4G4YpvkWHhTXfi2+n6XZyR6d5DWkE8IeOJjMMEKeMAnIHTgdqJe67ev4f1/nYI6r7vxPCKK9r0+KL4l+EPC154nitTfP4pXS5buC3SBpbdow+xtgAPPAOOK0fB/jS61T41yeGbrRtLGjQzXMFpZpYRKbPy0faysF3ZwuDknOTQ9NPX8En+qDpf+t2v0PA6KdJ/rX/AN402gb0djtl+7RQv3aKBHH3v/H/AHH/AF1b+dQ1Ne/8f9x/11b+dQ0AFFFFABRRRQB9/wDw4/5JZ4U/7Atn/wCiErpK5v4cf8ks8Kf9gWz/APRCV0lABRRRQAUUUUAFFFFABRRRQAUUUUAFFFFABRRRQAUUUUAFFFFABRRRQAUUUUAFFFFABRRRQAUUUUAFFFFABRRRQAUUUUAFFFFABRRRQAUUUUAFFFFABWbe+H9M1Ca4lvLYSyXEaRuzMchUbcuP7uGOeO9aVFAABgYooooAKKKKACiiigAooooAKKKKAPkn9qv/AJKnpv8A2BYv/R89eJV7b+1X/wAlT03/ALAsX/o+evEqACiiigAooooAKKKKACuwX4m67H4y07xLClpFeWFpHZrEqN5U0SJs2upbJ3DryPbFcfVrSrB9V1iz0+N1je7nSBXYcKWYLk/nTV20l/X9XE7JXZ0ekfETUNHhv7JdL0m80m+uDctpV5btJbxSdmjG7cpA4+9065rq/AXxCudY+L+gX+u3Gn6VYabb3EVrDCq29taqYXwFBOBlsckkk4riNX8LR6Ld+ILS81e1W70a6FskG1t12d5VinoFxk57Gs7W9Ot9K1NrWz1K31OIIjC4twQpLKCV55yCcH6VKaauv60/yG07tP8ArU6PV/iZqupaRe6bbado+lJqBH2+fTbPyZbzBzh2yeM8kKFBqWy+K2sWml6dayaZo15c6XGIrHUbuy8y5tkByqq2ccdsqSO1cPRTWmwPU7S1+KGsW/i/WvEElhpl0+uRtHfWVzAz28ikg427t3VR/FRY/E/UrPRbfTJtH0PUIrKR5LB72y817Le24iMlsbc8gMGrm0063bw7LqJ1K3W5S5WFbAg+Y6lcmQdtoPFZ9G2nYN9e/wDwx3L/ABa8QT+JdR1i8t9Nu/7Ut4re+sri3L29wsagKWUtndxnII5Jxio5firry6hpNxpMGnaNDpEzT2tnp9tshDsMMzBiSxI4OT09KxrjwvPb+BLLxO1xGYLu9ks1hAO5WRQxYnpjmsOjZ27f8P8AqG6/r0/Sx38Hxe1Kya8/srw94d01L+CSC7S0smXz1dSDli5YYzkBSBnsa5jU/E15qvhvRtEuIoFttGEwt3jUh28197biSQeemAPxrHopW/r+vUdzZ8TeJ73xXqFteajFBHJb2cNmggUgFI12qTknnHX+VY1FFMRseHvE154bXVFsYoJBqlhJYTecpO2NyCSuCMN8o65HtQvia8XwS/hcRQfYnvhfmTafM8wJsxnONuD6Zz3rHooev9ed/wAwWn9fL8jq4/iPr1vqWg39k8FpcaFZCxtmijJEkQLZEgYkNncQeg9qn1b4majqOh3ek2GkaLodtfEG8/sq0MTXIByFYlm+XPOBgVxtFD13BabHQ6r401HWPEmm61cw2q3OmxW8UKRowRhCAE3AsSScc4I/CtCz+JusWniDXdTks9Nu49fcvf6fdQGS2lO7cPl3bhgng7s1leKPC8/heXTEuLiOc6jp0OoIYwRsWQEhTnuMVh0dX8/+CHT7v+Aes+EvGGreNfE3h3TbmLQ9K0nQdRXUv3ZW0jgjDJvUbmwRxnHLEkkk1hSfEW50jxB4nhsrTTdY0bVtSluTa6jAZYmPmMUkGCpBwexrn/FvhefwlqtvY3NxHcNPZw3YaMEACRAwHPcZrDoe/wB/36f5IFtf0/X/ADOl8V+O9T8YWWmWmpW9jBDpayJbJZweUqo5B27QcYGABgD3yea5qiigDW8L+Irvwn4mstc06OGW5snLxpOpKEkEcgEHv61bsPGmo2Ph3WNDaG1utP1ZxLJFcIx8iUHIkjIYbW7c5BHUGueoo8g21O+tfjBrcK2k11pWh6hqdjGsdtqt5Y+ZdRhfu/NuAYr2LKTXEXt7c6jfz3t9M09zcSNLLK5yXYnJJ/GoKKHq7hsrBWyPFF8PBaeGVSFbNNQ/tASgN5ok2bMZzjbgemc96y7WA3V5DbqQplkVAT2ycVpeK/D03hPxXqGhXM6XEtjKYmljBCscZyM/Wjb5/pb/AIAfp+t/+Cb0nxW8Qv4mt9eCWK6glmLK6fySy6hGBg+erEhyQACQB0HpVbXfiHqGs6C2iWumaTommySiae20q2MQncdC5ZmJx2Gce1cnRR/X6/mC0/r5HtHxB+Ksum+NlOh2nh/UntLS3Flqj2yzzWx8lchHDbSQxP3gcHNcDoPxD1XRLfUra4tbDWrTVJRPdW2qwmZHlBJEnDAhuTyDXK1q614cvtBtNKuL/wAsLqtoLy3CNkiMsVG70PynijzfX/h/69AWyS6fpp/Xqb2o/FLXtRv/AA/eGGwtpPD0rSWK21v5aKCwYIVzjaNoAAA465PNSQ/FLUrfXdUv4dF0NbbV41S+0v7IxtJypyHKF8hs5OQw5NcRW5rnhefQ9C0LU5riOVNatnuI0UEGMK5TB/KjZf11/wCGDr/XQ2r/AOK2v3dvpUNrDp+mJo94buxFhb+UIGIA2gZIK8E8gkknJOaNS+KWpXun6hbWWi6FpEupxmK9u9OsjHNOhOWUksQAx6hQM1xNFG4Hdn4t6w6Wc1xpOh3GqWUSQwatPZb7lAgwpyW2EjsSuapaj8SNX1O48TzTWtijeJliW8EcbgJsYMDHljgkjnOevGK5Gih6u7/q+4LTb+rbGwfE94fBI8L+VB9hF+b/AMzafN8zZsxnONuPbOe9Y9FFHW4dLE1nbPe30FrE0aPPIsatI4VQScZJPAHvXo/xJ1uax8D+GPAz6jbX8+lxtNfSWsokRXLN5cW8cNsQn/vqvMqKHqrAtHc7s/FvWHSzmuNJ0O41SyiSGDVp7LfcoEGFOS2wkdiVzVLUfiRq+p3Hieaa1sUbxMsS3gjjcBNjBgY8scEkc5z14xWb4n8Lz+GG0tbi4jn/ALS06HUE2AjYsgJCnPcYrDoerd/P/ggtEreX/AOk0nxTdLodj4ZkuIrDT11dNQN+kbNNA+0JuGGAIAGcYByOte26dr954d8RXfiPxBdeC2sEgl3axppiN5q2UIRQiuxVmbaWwq9OTXzdRRLVNf1tb+vxuC0f9d7/ANfgKx3MT6nNJRRQB2y/dooX7tFAHH3v/H/cf9dW/nUNTXv/AB/3H/XVv51DQAUUUUAFFFFAH3/8OP8AklnhT/sC2f8A6ISukrm/hx/ySzwp/wBgWz/9EJXSUAFFFFABRRRQAUUUUAFFFFABRRRQAUUUUAFFFFABRRRQAUUUUAFFFFABRRRQAUUUUAFFFFABRRRQAUUUUAFFFFABRRRQAUUUUAFFFFABRRRQAUUUUAFFFFABRRRQAUUUUAFFFFABRRRQAUUUUAfJP7Vf/JU9N/7AsX/o+evEq9t/ar/5Knpv/YFi/wDR89eJUAFFFFABRRRQAUUUUAKoywHTJr3LV/Ek3gn4qaP4N0XTNPOh2z2cbwPZRu94zhGMxkK79+WyCCMYFeGV3unfF7XLGLT2m0zRdQv9NRY7TU72y8y5iRfuqG3AHHQEgkdjVxaTXqTJXT9DqfEcUbab8ZJGRS6axbbWI5XN0+cHtXQTi0sPiv4xuH0+1uY7Xwes6280QMbMIoCMr3GevrXkF74+1S+t/E8M0FmF8TXMdzeFUbMbJIXAj+bgZY9c8VaufibrN1rerapJbWIn1bS/7KnVY32rFtVdyjfkNhBySR14rKKahbrb/wBtt+Zo2nUcul//AG5P8kdba30vxG+F93N4lSzN5Y61ZW9vew2kUDxxTEqyfIoBUYzg1vW3iubTvj3a+CrbRtNHh201JLKKwNjGSNpAE3mbd+/PzZzzXj2neJ7uy8LX/hxFhWy1G5hnmmKMZUMecbfmA7nqPxFe66Rq15pviux1/VNV8GX2lWio8nicCNb+5iVf9X5e8sJCPkPy7vetVZS5ul/0X6p/fpqZO7jbrb9X/wAD7jjZLeH/AIV/rzeUm5fG8aA7RkLh+Pp7V1c3iR7v9ou68FPpumDw9dXclvcWf2GI+aTGSZC+3fu3cg544Arx658c3radqGmW8Fv9ju9Y/tbc6t5gkGcLkNjbg8jGfenL8QtVX4lnxwLez/tM3BuPK2P5O4rtxjduxj/arKO0U9uv/gMV+jNJ/atv0++T/VHrHgPw74f1f4baLaeILmICHxDdrY2MxKpfT+WuyN3AO1SRye/A71yHhubxFrfxI13UdR0fS31CwtpBI2p7YbPSCDtDlCCpCdAuDk889a4q58Yajc+GbXQykEUFrfyahHNGGEolcAHndjAwMcZ963T8W9cfxBdatPYaTNJf2S2eowS27NFfqvR5V3ff4HKlelVre/l/7alf79PusDtsu/8A7c3b7v8AgnaeK0GsfB2/vtY1rRfEWqadqdukd7pln5Xkq4IMZfy0Dg4zwDj8q29W8USxftEx+EItO0saFd3MNvd2rWETfafMjXc7OV3Z54wQBgcV5RqPxN1PUPC134di0rR7DSrmWOYW9lamPynQ53KdxJJ6EsW4Axiqtz8QNVuviRH42kt7MalHPHOIlRvJ3IoAGN27HyjPzU425lfa/wCiX6MmV+XTe36mHrdtHZa/qFrAMRQXUkaAnoFYgfyqlU99dyahqNzeTBVkuJWlcIMAFiSce3NQVEE1FJ7lyacm0FFFFUSFeqTaxP8AD/4X+Fbnw3b2S3muC4uL69ntI52kCSbFh+dSAoHUD1ryuus0H4h6jomhDRrjTdK1rTo5TNBb6ra+cLdz1ZCCCM9xnB9KfS39en9dhdbnqGsrdaz8SNB1Gw8P6XKY/CMF0Y79xFZ6f8rYlYMCNqE8Kfb0qr4iB1r4N+IrjXNd0LxHqOl3Fq9vc6XZ+WbUO5Up5giQMCOwzjH0rip/jD4jufE39tXFvpssj6cNMuLVrY/Z7mAEna6bvf8AhI6cYqte/E/UrrwxqPh630fRdP0rUNhe3srVo9jqwYOG3Fi3AHzFhjoBUy1Tt/XvX/L+rFR0av5fkkej6pZ3k3xOju7DTNMums/C1pIbvVpFW2sCYlAncMCGI7Ag8n2qn4rQax8Hb++1jWtF8Rapp2p26R3umWfleSrggxl/LQODjPAOPyriI/ixria1LfyWmmzx3GnRabc2U0DPBcQxgBdyls7uM5BHNRaj8TdT1Dwtd+HYtK0ew0q5ljmFvZWpj8p0OdyncSSehLFuAMYq7rmv53/8mv8AkTHRL0/9tt+Z7Bc699o/aLl8Fvpmmnw/dL5d3aGyjJuGNvvLs+N27OMYIwAK4a316Xxl8NfG0OrWdgsWjpbz6atvZxxG0zNsKqyqCRt45JJrlP8AhZOsH4l/8Jx9msf7T3bvK8t/J/1fl9N27p/tdaytL8U3uk6LremW0Vu0OtxpHcNIrFkCPvGzBAHPqDxWdvds+34lLR/d/wAH7/xMWiiiqEFFFFAFzSP+Q5Y/9fEf/oQr3fWvGN1qH7Qtz4QutJ06bQrzURZ3Nm1lGWm3gAzGTG/fzuBzwAK8Atp2tbqK4jALxOHUN0JBzXoV78bPEF7qN1qn9laFBrFwGVdUhsSLmFSMYRixAwOASC2O9O60vra+n3f5E2etutv1Ov0PSdG8F+A7rUrbXtP0bULnW7myTVL3TGvWWKE4EaAIwQn7xJHIq5or+GNW+LHgy90+ez1W9ntb1dVlttOktILkpE+xwjoo3EEgle69q8m8OePtT8PaZdaW9pp+r6ZdSiaSx1SAzReaOPMGCGVscZB5q9/wtbXh4r03XEt9Pj/sqB7eysIoClrAjqVYKisD/ETnOc4zS1/D/wBtt+f+e5T1v8/zv+R02j+JLjxx4L8aWWt2enfZ9M04XunLb2UUJs2WRQFRlUHGDg5JzXUz6/qOr+NvhJZ6lOk9vc2lrdTRtCgDyl3XPA9O3T2rxPRPFF7oNjrNrZxQOmsWhtLgyqxKoWDZXBGDkDrn6VqSfEfV5NI0KzFtp6XOgujWOpJARcoqElYy27aVyem3tVJpOL7NN/K9/wA19wndqS73t87f5P7zpPANsknjzxurwqyx6PqZAK5CkdD7V3eh6Npd94D8G3/+j6h4js9EuZdH0e4B2XEizMxc9mKjkJxkj2rzWT4yaxu1BrTRPD9jJqlvLBfS2tkUe4EikFmbfnPJPGBnkg1gyeO9YK+HPs5htZfDiFLKaFWDHLl8vkkHk44AGKiKtFR7JK//AIFr+KKk7ty73dv/AAHT8DF1O/u9T1S4vdSkaS6nkLyswx8307fTtVWtPxFrb+I/EF3q81na2ct3J5kkNmjLGGPUgMxIyeTz1NZlEdge4UUUUxBXq9h4iufCvwG0q+0i1tV1CfWbmJb6a2SVoVCISF3ggE8c46A+teUV6ppvjSDQPgbpllHb6PqskmsXDXGm6hGJcLsTa+0MGXnOCCO4p/Zfy/NC+0vn+TOmsNC0fxHrnhXxRqek2hubzQ7zULvT4ogkV3NbkhGKDj5+CQODtrA8OeI7r4laZ4n0vxXa2E0dppM+oWVxBZRwNZSRYIVWRQdhzgg57Vxt18RvEVx4us/EUVzHaXdgixWcVtEEht4gCBGqdNuCQQc5yc1a1T4m6nf6Pe6bYaTouhw6hgXr6VZ+U9yM52sxY4XPOFwKmWqdvPTtduz+V19xUdGr+X4Wuvz9b6nfeKfHOpeG7rwJY6Vb2Ajm0GwN009nHK1yp48tmdSQoGeBjqTS6lpWm+DNV+JWv6Ppto93pF9Bb6dHNCskdmJjlpAhBGR0XIwK8p1rxZfa9d6TcXkVuj6TZw2cAiVgGSL7pbJOT64wPYVrL8UNdXxdq+vGGwkOtDbf2EsBe1nXjClGJPGMg5yPWqlq213l+LTX4XXlclaJL/D+C1/rqdlpl3/wnHg3T/EOvWtr/bGmeI7O0W9htkhN1FIclHCAKxXGc46VvW3iJ9Z+O2r+CLnTdMHh2ea8gazWxiB3Kjt5u/bv37lznPfjtXlep/EjVdQ/syGCy03TNP0y6W7g06wtzFAZQQd7DcWY8YyW6dMVDZ+PtUsfiJN4zigszqM000zRMjeSGlVlbA3Zxhjj5vzqXr6a/kl+abGtF56fm3+qOYYbXI9DikoJ3MSe5zRTG9ztl+7RQv3aKBHH3v8Ax/3H/XVv51DU17/x/wBx/wBdW/nUNABRRRQAUUUUAff/AMOP+SWeFP8AsC2f/ohK6Sub+HH/ACSzwp/2BbP/ANEJXSUAFFFFABRRRQAUUUUAFFFFABRRRQAUUUUAFFFFABRRRQAUUUUAFFFFABRRRQAUUUUAFFFFABRRRQAUUUUAFFFFABRRRQAUUUUAFFFFABRRRQAUUUUAFFFFABRRRQAUUUUAFFFFABRRRQAUUUUAfJP7Vf8AyVPTf+wLF/6PnrxKvbf2q/8Akqem/wDYFi/9Hz14lQAUUUUAFFFFABRRRQAVueLPC8/hPUrWzubiO4a5sobwNGCAFkXcF57isOvpTxLp9pY6XL4k0I2+peLbLw5YulnMm77DbeUFe4VSMO4/8dHNEtI83n+jBay5fL9UfNdFe0+DItO0P4Ux+JZNdsNG1jVdTlhbU77TXvmVEAPloAjhSSSxJHIrX0eTwxqvxX8HX2mzWer3s1rerqj2umyWkFyyRPscI6KNxBIO3uvam1Z2/ra4r6X/AK3sfP8ARXrXh7xBN8QtK8VaT4hsNPW1stJnv7BreyjhNg8RBVUZQDtIO0gk5rJ+I0CLZeAPJiVTJ4fty21cbm8x+vqaErtLvb8b/wCQ+/lf8Lf5nIaN4cvtds9UurLy/J0q1N3cmR8YTcF4Hc5IrKr6Pv8AW7/QfGnxXi0mRLZLbTYrmJFhQhJMQrnBB7E8dPavMfGyq3wo8AXGxRLNHfmR1UAsfP74qb7NdUvxv/kNdb9/0X+Z59RXvd/d6FofxMLawI9PkbwxZpaai+ni6jsZzGv7x4sEHuM4OCayvFej6zrMnhi6ktvD/jCOXUvsyajpBWF7wnDC3nVVUIcAnOOBnmqt71vO342Jvpfyv+FzxmivpDSll1jVNa0PxHrHhK6s3sboxaDpdosjWbIhK7ZViUKUI67jn61xI8S3PhL4IeFLzRbayTUbi9vU+2zWkczoiuuVXeCBnIycZ4qbr8n97sVZ7ev4K55LRXf/ABfhtjr2i6lbWkFpJq2h2t9cx28YRDM6ncwUcDOK4Cn1afS6+4XRPv8AqFFFFABRRRQAUUUUAFFFFABRRRQAUUUUAFFFFABRRRQAUUUUAFFFFABRRRQAUUUUAFFFFABRRRQAUUUUAFFFFABRRRQAUUUUAdsv3aKF+7RQBx97/wAf9x/11b+dQ1Ne/wDH/cf9dW/nUNABRRRQAUUUUAff/wAOP+SWeFP+wLZ/+iErpK5v4cf8ks8Kf9gWz/8ARCV0lABRRRQAUUUUAFFFFABRRRQAUUUUAFFFFABRRRQAUUUUAFFFFABRRRQAUUUUAFFFFABRRRQAUUUUAFFFFABRRRQAUUUUAFFFFABRRRQAUUUUAFFFFABRRRQAUUUUAFFFFABRRRQAUUUUAFFFFAHyT+1X/wAlT03/ALAsX/o+evEq9t/ar/5Knpv/AGBYv/R89eJUAFFFFABRRRQAUUUUAFdgvxN12Pxlp3iWFLSK8sLSOzWJUbypokTZtdS2TuHXke2K4+uk8Q+Cr/QdW0nTkYX9zqtlBdwR26EsfNztTHc8U9fx/Gz/AEuLT8Pw0/4BZ0j4iaho8N/ZLpek3mk31wbltKvLdpLeKTs0Y3blIHH3unXNdX4C+IVzrHxf0C/1240/SrDTbe4itYYVW3trVTC+AoJwMtjkkknFcV4w8It4NvLfT73Ura51Mxh7u1tst9jY9EZ+hb1A6VzlJPt/Wlhtd+p2er/EzVdS0i902207R9KTUCPt8+m2fky3mDnDtk8Z5IUKDS6f8UNWsdDsNOm0zRtQbTFK2F5e2fmz2gJyAhzggHkbgcVj+IvC8/hyz0W4nuI5l1ewW+jCAjy1ZiNpz3+WsOjbT+tAeuv9anbxfFbWl8Yav4huLHS7uTWYBb3tncwM9vKgCj7u7d/AD97rUWmfEvUNP0NNIn0fRNSs7ed57NNQszL9jZzlhH8w4zzhtwrjaKAO5k+LniK48TT61dRafcPdWKWN5azW+63uo0GBvQnrkZyCOemOlQ3PxR1tptMOkWum6HBpd19st7XTLby4zNjG9gxYscccnocVxlFG239dfzD+v0/I9DtvjJqthqM97pfh7w5YS3Sul2bexZTchwQQxLlgMnOFKjIFcpfeJry/8J6X4emigW00uWaWF0U+YxlILbjnBHHGAPxrHopWQ7nVS+Pry61jSdQ1DSdJvv7K05NOitrq3aSGSNFKqzqW5b5s5BAyBxXKk5YnGM9hRRT63F0sFFFFABRRRQAUUUUAFFFFABRRW43hedfAMfio3EfkPqJsBBg7gwj37s9MY4o6XDrYw6KK3LnwvPbeBbHxO1xG0F7eS2iwgHcpRQSSemDmjpcOtjDoorcv/C8+n+DNI8RPcRvDqk08SRAHchiIBJ7c5oDrYw6KKKACiiuij8MWDXGnxy+JdNjS8sGu3kySLdwGxC+OjnAH4ijpcPI52ity/wDC8+n+C9I8RvcRvDqk08SQgHchiIBJ7c5rDoDpcKKKKACiitWw8OX2peHdV1q38sWek+ULgs2GzI21Qo78g/lQBlUUUUAFFFFABRRRQAUUUUAFFFFABRRRQB2y/dooX7tFAHH3v/H/AHH/AF1b+dQ1Ne/8f9x/11b+dQ0AFFFFABRRRQB9/wDw4/5JZ4U/7Atn/wCiErpK5v4cf8ks8Kf9gWz/APRCV0lABRUEl7DHdLbsW8wjPCkgD1J7VIs8T42So2RkYYUAPoqIXVuc4njOBk4ccCl+0Q5x50eeP4hQBJRUQuYWkdBKu6M4YZ6d6SO8tpVDJPGQRkfMOlAE1FVzfWypuMq4+vPXH86lSaOT7kit16NnpQA+iohcwHGJo+TgfMOTSG7twu7zkI56MOcUATUVELqAxq/nIFYZBLYzRHcwyDKSKfl3EZ5AoAloqM3EKjLSoAPVhTZLy3iH7yZByFxu75x/WgCaiovtMBGRNHj13Cg3MAzmaPgZPzDp60AS0UwzRqVDSKN33ct1+lNN1bgAmePB6fOOaAJaKAQygqcg8gjvRQAUUUUAFFFFABRRRQAUUUUAFFFFABRRRQAUUUUAFFFFABRRRQAUUUUAFFFFABRRRQAUUUUAFFFFABRRRQAUUUUAFFFFAHyT+1X/AMlT03/sCxf+j568Sr239qv/AJKnpv8A2BYv/R89eJUAFFFFABXXfDCbwpb+PrKTx7GH0cBt4ZWZA+PlLheSuf8AOK5GimnZ3E1dWOr+Jc3ha48fX8ngSPZox2+WArKpbaNxUNyFznH+FcpRRUxVlYpu7uFfTc+veFNE1zwvbXr3Fpr+q+Gra0h1j5dmlhoyEdQRyzMSCew79a+ZK2vE3im98V3NhNqMVvE1jYxWMQgVgDHGCFJyT83POMD2qr+7bz/CzX6k21v5fqv8jsfBfgNx8dofDXjaIu1vLLLcJISwudiNIDnqytgH1INdVda54Y1zStZsfEHizR9Vt2tJWsLWw8OTW8llKoyhR1iBCg8EMSMdTXnF98S9fvpNBunNvFqegoI7bU40YXEiD7qyEsVYDp93oTnOTVvUPitqt3p9/b2OkaHpE2poY72802y8qa4Q/eUsWIAbvtAzUyXu8vqv+D/W3QpP3ub0/wCCv636nq0GkafL4R8NaxafZ9S8U2HhVZdL0i4UlSEdi02MYdlDEqncqTXmzTSah8BNW1C9xNeS+Jo2kmZRuOYGJ57DPasE/ELW11Lw7f2xgtrnw7bJbWjxKw3IrE/PknOdxBxgEdquWfxO1CzudY/4kui3Gn6xOLi40ue2Z7ZZR0dBv3KeT/FTlq5ef/yV/wAV/VtlHRLy/wDkbfh/Xn6J4Ns4Gufg4JraNhMdQMgZB+8G9sZ9awPDmu654r8YX9wNK0OaHSLWf7LJfRRW9ppSFgFkbCYfbgABsnPNYL/F3X31nw/qRs9LWTw+ZfsUUduY4gr/AMBVWHygcDGPfNYvhnxrqPha+v5rSCzu4NRiMN5Z3kRkhnQnOCMg8HoQQad7u/8Ai/Hb+vuFay+78Nz0vxgg1j4Mahf6vrWi+IdU07UoEjvdLs/K8lXDZjLiNA4OM8A4/KtbXfFk+mfG3R/DNlp2lrpV59hhvoXsInN35saBi7MpbgMAACBx9a8v1P4l6lqXhS88Nx6Vo9hpV1LHMLeytTH5Toc7lO4kk9CXLcAYxVLUPHep6l46tPFc8Fot9aPbvHGiMIiYQoXILZ52jPPr0ojbm12uvutZhK/LpvZ/fe5318Ivh14P1nWPDVrajUbjxLcaZHdT26Tm0giBIRA4IBb1x0FWNXaXxZpfwxu4vDVneXt9NdmawgRbeO8ZZVyWwMKDtJPbrWd4M1XVNe03X57W78O3tzqOoG5ufDmtKscEm7LefE7yLhgSVwDnGMk1P4/8e3ejXng1dKvtMfWvD8Uzz/2WitaQNI3EC4+UhUG04z165pR93l5vL/0nX8f6uVL3r8vn+en9fdodRZ+brln4o0vxHrnhTVIY9Juri20rSLRWNi8a5VllWJQNpwPvHNctrPi698HfDvwG+gW1hDd3WnyvcXUtnHM8iLOwCZdTheTnGCeOeK56D4valZNef2V4e8O6al/BJBdpaWTL56upByxcsMZyApAz2NcxrHie91vR9G027igSHRrdre3aJSGZWcuS2SQTk9gKWuny/Dm/zQafn/7b/kz2u4t9N0Dxx8Q7yz0ixaOPw/BfR2kkIaFJX8ps7OmNxzjp26VyV/4gu/EfwfTxNqsVm+taRr8UNveQ2kcLGMxl9jBFAIDAY4rmr74m6zf3utXU1tYq+tadHp1wEjfCRoFAKfPw3yDk5HXisi38S3qeDpvCyR2/2K5vkvGlYHzBIqlAM5wFwfT8aeu0fK3/AIFf8hLz+f8A4Cl+Z65LpGnWvxAu/iRHbRf2J/Yo1uGIqPL+1SDy1ix0z52Tj2rO8Oza3pPgnS72K98NeEkvHluJNQ1RFnutTBb7wj8p2CDoAMZ61l+MdUuPDPwj0jwHPqdneXj3cl5dCznWZYIs/u4i68HLFnx24rBs/iZqEGg2Gl3+jaJqy6apSyuNRszLLbqTnaCGAYA9mBo0TajstvTf/Jedg1sm/wCun+b+Zf8Ajbp9jp/xFzpsMEUd3YW1y/2aLyo2d4wWZU/hBPOPevPa3vF/jDUvG+sRaprS24u47aO3Z4EKCQJnDMMkbjnnGB6AVg0krX+f5jbvb5BXt+iy6x4d8O+H1+3eFvCFrJbLNLBfQrdXepBj/rXQROwVhwFyOP08QruE+Kuq/YbCO60jQ72902BYLTU7qy8y4iRfuDJbYdvYspq00l8/6/rYhq7PQ/EGl6b4N1z4keINE02zN5pk9pDYRyW6vHaeeAXkWNgVzngZGBmsm81m/wDGvwd0RrrSoLu/k8VCB47aJbf7c3k8Z2AAMQQpYDsK5B/itr0ni7Udflt9PlfVYUhv7KWAvbXSqoA3IzE5+UHIIwc4xT9R+LOuXmm6bY2VjpWk2+l3639mmnWxj8mQDHdjkZJJzkk98cVMdEk/L8Gr/lcp73Xn+KZ67oUc+peMLnw74i1Pwh/Zs8M8Q8M6darM9ttjYgeasQCshHLF+oPfFcDYWMuofCXwZZ22nf2pJL4muFWy37PP+VPkLdge57Csy2+NGr2Gttq+m+H/AA5ZX0zMbqaCxYNc7s7gxLkgEnJ2bcmsKw+IOtaXpek2WnC3txpOoPqFtMqEuJHABBySCuB0x680R318vwlf8u4PbTz/ABTR7RpSy6xqmtaH4j1jwldWb2N0YtB0u0WRrNkQldsqxKFKEddxz9a40+LL/wAKfAjwlLo8dqt5NfXoW6ntY5miUMuQocEDORk4zxWJbfGTVbDUZ73S/D3hywluldLs29iym5DgghiXLAZOcKVGQK5S+8TXl/4T0vw9NFAtppcs0sLop8xjKQW3HOCOOMAfjU6/gvzuPS69X+Vjp/i9BbHXNE1O3tILSXVtEtb65S3jCIZnB3MFHAziuArY8ReJrzxMdNN/FBH/AGbYRWEPkqRujjzgtknLc84wPaseq0Tdtrv7r6C6K/ZfkFe/6JaW7eJfBIMERD+Cp3YFB8zeXNyff3rwW1t3u7uG2h2+ZM4jXe4Vck4GSeAPc16r4v8AFc3gvW/DEelTaffX+l+Gxp12Fk86KN5A4ZdyMAWCt2OM0S+C3e//AKTL/NBH479v/konUeBdB0TXPhd4OGsSwTXsN1qDaZpdwSsd/ccFUdh0XK8juSBXJeEbjxFq2veJ9du7HSIdQgVY5dU1nZHb6S5fGFjKsC3G1Rg4xXDy+L9Tfw5o2jx+VBFo1xLc2s8QYSh3YMSTnHBUYwB+NdA/xc1ibVNUu7rSdFuYtYSMahZTWzmC4kj+7KV35D+pUge1N73X9bf19wlpG39bv+vvOm+JEUWpfCLTdZvdT0nW9Wh1d7N9T0y08hWTyt3lk7E34ODnGOfrXjldbr3xG1PxB4VTw7Pp+l2mmw3QureKytjF5DbSpC4bkHJJLZOe9clU9W/62X6ldEv63YV6r4D8SarpfwR8bpY3Kxrby2ZiBhRtvmSMr9Qc5AHXp2xXlVdH4X8a3vhax1SxhsNP1Gy1SNEubbUITIhKElWGGBBBJxzTfwtd/wDMXVM9I1rVJotN+HvhiyS0tLXXdJtotQn+yxtJKjylMb2UlcDJGCOTXSX+p+FtN8bXHh2/8RaHH4dt5mtJPDy+HJmkVR8vEoiLGXvvDHmvCtb8VX+vQ6OlykMP9j2aWds0AZWKKxYMxJPzZPUY+ldOPjLrwmF+dL0NtbEXljWzY/6Z93bu3btu7HG7bmnJ3bfm/ub0+79RJWSXkvv6/wBeR1/hqx0Lwt8OZNbsNfsNIu77WJ7WHVL/AEp7xxBH91ETY2wsPmJIB7dq5H4qXHh7UI9D1DRL21vtSmhlTU7iy0+SzhmZWGyQI6KNxBIbbxle1Y3h/wCIGqaDp93p01rYaxpt5L58tlqsBmjMv/PQYIZW9weaqeKvGOpeLri1a/S2trayi8m0srKHyoLdM5IVeep6kkk1L6fL8rfn/nuUuvz/ADMGiiimI9aHiW58JfBDwpeaLbWSajcXt6n22a0jmdEV1yq7wQM5GTjPFdBI2lz/ABK0uxurO0tIPG/hmFLoRRKiJdSqdsiqOFO9V6eprx2+8TXl/wCE9L8PTRQLaaXLNLC6KfMYykFtxzgjjjAH41u2N3rHxE8S6NCtzpmmTaPYw28NxLOLdEihPDlnY5cZzx1xwKqyk7Pv+Fmn/XzJ1jHT+nzXX9fI3jos3hrwDpGgSaZ9r1vxJrG+W0+67wQP5axbuq75N3PtXoehRz6l4wufDviLU/CH9mzwzxDwzp1qsz222NiB5qxAKyEcsX6g98V5T8SfH8+s/FuTxBol1hNNlRNPmRRjEZzvA6YZtzf8CqW2+NGr2Gttq+m+H/DllfTMxupoLFg1zuzuDEuSAScnZtyazu5Q163/ACSX/B/Au3LLTp/nd/19552wwxHoaSldt8jNgLuOcDoKSqB7nbL92ihfu0UCOPvf+P8AuP8Arq386hqa9/4/7j/rq386hoAKKKKACiiigD7/APhx/wAks8Kf9gWz/wDRCV0lc38OP+SWeFP+wLZ/+iErpKAKlxpsFzcPNKMs0Xlg/wB0c8j86itNHhtXkcMXeRNpYqBge2OlaFFAGSPD9sijy2KkYwdo7BR+P3R+dIfDlqVT53yrbifXjGP0rXooAzrjR0nnklEzIZPvAKORgAj9BUJ8O25yDI2wnJXaPp19MHpWvRQBkSeHYHnEnnSABtwUAYHOcVZs9LSzRkjlYq27ggcZx09OlXqKAMeLw7bxhsyuxJyCQOOVP/stD+HIGdSszoAQdoAxwAP/AGWtiigDIj0IDdmXaPNDqoUMMDoOfclvqamttGhtAvlOcqu0kqPmHyjB/Bf1rRooAyI/DtvEmElkzkMCwDc4I6H1B/ShvD1uI1WKRlwckkAlvmDDn8K16KAMWPw3D9nCTyFn8sJuVQMdOmPpTv8AhHLcZ2ysAV2kYHPIOf0rYooAzm0dH8vfO7BE2cqMlePy6daiXw9bBgzsXYEHlR2IPT/gIrWooAjt4Rb28cKcrGoUZ9AKkoooAKKKKACiiigAooooAKKKKACiiigAooooAKKKKACiiigAooooAKKKKACiiigAooooAKKKKACiiigAooooAKKKKACiiigD5J/ar/5Knpv/AGBYv/R89eJV7b+1X/yVPTf+wLF/6PnrxKgAooooAKKKKACiiigArc8WeF5/CWp21lc3Edw1xZQ3gaMEALIu4DnuKw6908beP9S0Dxb4d0qx07T5LR9KsPtcdxYxytfBo1G1mZScAcAKRzmqtdJLdtL8GK9m79m/xR4XRXt6eG5fDHjfxuPDNpotla2VzHFDrWtSL5Wm7/m8tFZW3Oc7ehIA960dStrbUl+HWr3d9petai/iIWlxqOn2fkpOgdCFYbE346Z245+tTH3redvx/wCHCXu38r/gfP8ARXvGm+IW8R/E3xP4NvtN0waAItQWG0jsYlMTxK7LIJAu/flckk965nTtEb4ifDPQbewjX+1NH1VdNmZVGWt7g5jdvUKwYfSlH3krdbP73b8ypWi3fpf8Fc8tq1pli2p6vZ2EbhHup0hVm6KWYDJ/OvZY7qTUfHPie98MWGiw2Gi28WnWer6uyLb6cqHYHCsrB3cq2OCeat65FFqXhfwlrN7qek63q0PieKzfU9MtPIVkwreWTsTfg4OcY5+tXCzafR2+5uxMrpPvr96VzxfxHosvhzxNqOjTypNLYXDwPIgIVipxkZrNr3/4p2lv4d0vxNqvg+SC/u7/AFea212/2fvbAMdyQoCPlU5wXHUjFeAVlBtrXy/I0kknp5hRRXpnwuvI9M8E+O9Saytbua0s7Z4FuoRIiOZsBtp4OCQcHjjmr6XI6pHmdFezat441GD4V+HvFUdppg8RXN5cWcmpnToS5hjwQu3bsB+bGducDHc1f1DSW/4WtcanouhaOWk8PwahNNflYrLT5ZI1zcMpBU89Fx1OaNn/AF2v+X9dQ3/rzt+Z4VW54w8Lz+D/ABE+kXVxHcSLDFN5kYIGJEDgc+m7FeoeMEGsfBjUL/V9a0XxDqmnalAkd7pdn5Xkq4bMZcRoHBxngHH5V1PjyxtdKTXvEvhtrfUfFMGn2YnikTLaZatCqmVFIwznHLfwhqT0Tfb/ACuNatLuv1sfNVFeveETrWk+AbG+tLrw54WW8uJZG1fVws1xqCg4wkZjdginjgck1kfG6xsrXxhptzp6Ww/tDR7a7mktIDDHNIwOZFQgbd2AcYFOXu/l+FxR1/rzsecUUUUAFFe7+MPGd3o3xYsPD9jpGmnS5kso7y1ksIn+3eZGmSzFS3Q4GCMY+tT2Phrw/wCC7bxlqltqdjpdxa68dMsr6+sGvRaR7d+FQK2GOdu4j+E+tD016a/g0v1Qlrb5fim/0PAaK96tp/DWt+MvAl5BqllrOt/2wIL26s9KktIrmLqpdWRULg8cdQR6VS0jxE/izXPGXhjUtO00aNbadfTWdtFZRIbV4clHVwu4t6kk5pPRX9fwSf6lLV29PxbX6HiVFeralrk/w68DeEovDVrYiTWLI39/dXFnHO1yS5XyiXU4RQMYGOtdPrNnLc/E9NQ0fw/pEaw+GLa43aiyx2ellkGJWDAhtucAEH9Kp6fe19yf+RKd/uv97X+Z4FRXt/itBrHwdvr/AFjWtF8Q6pp2qW6R3ul2fleSrg5jLiNA4OM8A4/KukuddE/7RUvgt9L0w+H7pfLu7U2UZNwxt95dnxv3ZxjBGABS62/rZP8AUb0V/wCt7HzZW54s8Lz+EtTtrK5uI7hriyhvA0YIAWRdwHPcV3tvr0vjL4aeNotWstPWLR0t59NW3s44jaZm2FVZQCRt45JJrb8beP8AUtA8W+HdKsdO0+S0fSrD7XHcWMcrXwaNRtZmUnAHACkc5ppc1kurX4p/5A/dbv0v+Fv8zxu0063udFv72TUbeCe1MYitHB8y53Ng7e3y9TmrnjDwvP4O8SSaPdXEdxJHFFKZIwQCHQOBz6BsV6X4i8P6d4f0X4s6fpsSC3tL7TxbgjJiDSlioPtnH4Vp67Z3k3xw1m7sdM027az0a3kN3q0ira2BNvGBO4YEMR2BB5PtSTur/wBfDcNpNf1ukeC0V7f4rQax8Hb6/wBY1rRfEOqadqlukd7pdn5Xkq4OYy4jQODjPAOPyrb1XxRJF+0TH4Pi03SxoV3cw293atYRMbjzI13Ozld2eeMEAYHFNJt8q3/4Cf6ibsubp/wbHzrRV3WraOy17ULWAYiguZI0BPQBiB/KqVTGXMk0VJcraNnwj4cm8XeLLDQrWeO3lvZCiyyAlVwpPOPpWTPEYLiSInJjYqSO+Diu3+CnPxm8Of8AXy3/AKLaul+IFhbeHvB+m2Pg6WC60PV7l11HWUT95Pco5BibIyiKOVX+Ic81Vnpbrp+Qk9Xfp/wTyCivpDWrnw54Q8Wx+Go/Emh2OjWYihudFn8PS3D3IKqWLyiIlnbOQVbjiuXGpWHhL4ceKb7wlbQXMcfiZYdOuru03tbRmIkMFkXhsDb8w7561N1a/T/gpfqCTdl/Wzf6Hi9Fe66Etv4j1T4Z+KtQs7WLVL7VpLO8MMCxrdrGw2yFFAXPOCQOa5vwFbRyeOvHCvCrLHo+psAVBCkdD7UPTfz/AASf43Ba7eX4tr8LHB6h4cvtM8PaTrN15YtdW802wVssRGwViR25PH0rKr3i38Q6lfeH/hBZXc6SW15flZ4zCmHEV0qoOnGBxx175rD8HWscnx48UxtAjRxx6qdhQELhZMcdu1OWjf8A29/5KEdbfL8WzyOivZ/A2sadH4D02w0TX9J8Ma2ssr3n9taarxakC3yfv2RgqgfLjjvS2Wh63pXjnxbdjw/4c0ieCONhf3cymx0zzMFXiDKwYuPujHGenam9HYS1R4vRXvOuwQ6p4V8J6vf6lpOu6pF4njs5NR06z8lXjIDeW3yJvwcc4xz9as23iFtZ+O2seCLnTdMHh2ea8gazWxiB3Kjt5vmbd+/cuc54zx2qXp+P4JP9Rrv6fm1+h8+0UrDDEehpKYHbL92ihfu0UAcfe/8AH/cf9dW/nUNTXv8Ax/3H/XVv51DQAUUUUAFFFFAH3/8ADj/klnhT/sC2f/ohK6SvzcooA/SOivzcooA/SOivzcooA/SOivzcooA/SOivzcooA/SOivzcooA/SOivzcooA/SOivzcooA/SOivzcooA/SOivzcooA/SOivzcooA/SOivzcooA/SOivzcooA/SOivzcooA/SOivzcooA/SOivzcooA/SOivzcooA/SOivzcooA/SOivzcooA/SOivzcooA/SOivzcooA/SOivzcooA/SOivzcooA/SOivzcooA/SOivzcooA/SOivzcooA/SOivzcooA/SOivzcooA9t/ar/wCSp6b/ANgWL/0fPXiVFFABRRRQAUUUUAFFFFABXoh+NGtSSWc1xonh+4utPgjgsbqexLyWoRQoKktyeN3zZAJJAFed0UdLAdbo/wAR9X0yPVYb63sdcttWmFxd2+qwmVHlBJEg2spDc9jVu5+K+tXMGjwfYNJgg0XUV1Cxht7UxpEwx+7wrDKEjJz8xJPzVh6X4Xn1Twjrmvx3EaQ6OYBJEwO6TzWKjH0xWHRs/S3/AAA3/r7zpNM8c6lpXjK+8S28Fq17e/aPMjdGMY84MGwAwPG445P411/w21G48B+Edd8VSanZIl/YPZ2Vks6tPJcbwFcx9VCYZsn1HrXllFKytZdrfL+mG7u+9zpPDHje/wDC9rqFlHaWGpafqQX7VZajCZIpCpyrcEEEEnkGtK9+Kmr3uk2WmDTtItrLT9Qj1C0gtbUxLC6fwjDcqckndlj61xNFVd/15Csddb/EjV4Ne8Qam9tYzp4hWRb+yljcwPvOcgBgwKnlTuyK5GiipSSKu2FbGk+JrzRtB1rSbWKB4NZijiuGkUllCPvG0ggA59Qax6KYjYuvE97eeD9P8OSxQCzsLiW4idVPmM0gGQTnGOBjAFb8XxX1yPWHvpLTTZ4ptNi0y4spoGeC4hjAC7lLZ3cZyCOa4iij+vwt+Qf1+N/zOy1P4l6lqXhS88Nx6Vo9hpV1LHMLeytTH5Toc7lO4kk9CXLcAYxSr8UddTx2PFSRWS3bWy2stt5bGCeIRiPY6lskEAZ56+lZHiLwvP4cs9FuJ7iOZdXsFvowgI8tWYjac9/lrDo6v+vL/gB/X6/8E7S1+Jt7DotvpV5oOg6la2ckj2K31o0htA7biiHeMrns26svxh401PxvfWd5raWwubW1W1ElvH5fmKpJBYZwD82PlAHtXP0UbgFFFFAHtHxB+Ksum+NlOh2nh/UntLS3Flqj2yzzWx8lchHDbSQxP3gcHNefaB4/1jQZNRDLa6pbaq2++s9Ti86K4fOQ7DIIYEk5BBrmKKOrYdEvT8DtZ/inrUmtaJfW9npllb6FN59lptrbmO2R85JKhtxJ7ktmsnR/GWoaLreqapaw2zz6pb3FvMsisVVZvvFQGBBHbJP40zxZ4Xn8J6la2dzcR3DXNlDeBowQAsi7gvPcVB/wjl8PCH/CSHyxYG9+wj5vnMmzeePQDHPvR3v5r79H/kC6W8vw1X+Z6b4ROp3fgHS4NMu/CWvQwSSM1n4g8uOXSHLclS8g3I3DdCM9qg8cfFKa0+JN/c6LLYa1Zy6bDpt6LiDfbX2xRuIUEcb84II9uK8koolq/wCu1gWi/rvc7LUvibqeoeF7vw7HpWj2GlXEscwt7K1MflOhzuU7iST0JYtwBjFRn4k6wfiX/wAJx9msf7T3bvK8t/J/1fl9N27p/tda5GigOlja0zxTe6Tout6XbxW7Qa3HHHcNIrFkCPvGzBAHPqDxXVH40a1JJZzXGieH7i60+COCxup7EvJahFCgqS3J43fNkAkkAV53RQHW/wDX9aG+njTVf7H1/T7ho7keIJopr24mBMpeNy4KkEAZJOcg+2K2B8V9cPia/wBZltNNnGpWkdneWM0DPbzxoqqoKlt2flByGHNcRRR/X4W/IOtzstS+Jup6h4Xu/DselaPYaVcSxzC3srUx+U6HO5TuJJPQli3AGMVWufiBqt18SI/G0lvZjUo545xEqN5O5FCgY3bsYUfxVS13wvPoOi6FqU1xHKmtWrXMaICDGA5TB9+Kw6E7O/Vf8N+gbryZPfXcl/qFxeTBVkuJWlcIOAWJJx7c1BRRSSSVkNtt3ZreF/EV34T8TWWuadHDLc2Tl40nUlCSCOQCD39at2HjTUbHw7rGhtDa3Wn6s4lkiuEY+RKDkSRkMNrducgjqDXPUU/IW2p31r8YNbhW0mutK0PUNTsY1jttVvLHzLqML935twDFexZSa2NA8dvpnwi1ye7fTdU1HUNeSS5stSVZftKNESzlMhsbgDuGMHvXlNFD1v5/5p/jYFpby/ya/C51Gq/EHW9U1rS9RjNtp39jkHTrWxhEcNrht3yrz1PJJJJ71syfGPWCdRa00Pw/YyapbywX0trZFHuBIpBZm35zyTgYGeSDXn1FHS39a7h1v/Wh1UPxB1SHwlp+gi1sGGl3H2iwv2hP2m1beHIR92MFhyCDW3/wunW0vrm9ttE8P215exSRXtzBYlZLoOpUl239cnd8uASASDXnVFD13BabHYaR8R7/AE7QbbR7/R9F1y0smZrQaraGVrbccsFKspwTzg5FTQfFfX/7S1e51ODT9Wh1gRi7sr633QHy/wDV7VUqV2jgYNcTRRuGx2178VNXvdJstMGnaRbWWn6hHqFpBa2piWF0/hGG5U5JO7LH1qjZ+PtUsfiJN4zigszqM000zRMjeSDKrK2BuzjDHHzfnXL0Uf1+n6B0t/X9agTuYk9zRRRQB2y/dooX7tFAHH3v/H/cf9dW/nUNTXv/AB/3H/XVv51DQAUUUUAFFFFABRRRQAUUUUAFFFFABRRRQAUUUUAFFFFABRRRQAUUUUAFFFFABRRRQAUUUUAFFFFABRRRQAUUUUAFFFFABRRRQAUUUUAFFFFABRRRQAUUUUAFFFFABRRRQAUUUUAFFFFABRRRQAUUUUAFFFFABRRRQAUUUUAFFFFABRRRQAUUUUAFfQeinVNF1TQNLvbzwn4ZsXS3jm0GWBbu7u9+MmXETMGfPdhjIr58zjpXft8Ydae6ttQk0jQpNZt0RF1eSx3XJ2AAEktt3YGN23PvVxaVr9yWm9ux3/h/w/4dE3xT0bWL0aPoMOrWqPIik+XGtxJhF9M8Lnt17Vh6ja6xcfHC20I+GNPuLTRwwsNKaQR2gtwpZZncj5xjDsx69PauH1D4hapqMXiaOW1so18TTxXF55aP8jIxYeXljgEk5zn8KuWfxW8QWT6JKkVjLc6PbvaR3E0Jd7i3bjyZcthkAOBwCPWs43SV+lvytf5P8L9S5Wblbr/n/X4Hotzv134d+L4fEXiDw34gnsbIXVrHpFmFNkwkAyJViQYIOMZP86yfEfjK98HaB4ETQrTT4pLnRIZbuaWyile4XewEZLqcLwemCc9a5N/ipqKaRqeladoWg6ZYapbtBcwWVmybs9H3Fy25ewJKjJ4rn9c8UXuv2+jw3kUCLpFktlAYlYFkViQWyTk5Y9MD2ql8S7XV/lzX/NC6O/n+n+TNv4v6XZaP8V9bs9Mt47a2WVHSGMYVN8asQB2GSeK7K/8AFd14S8EfDz+xLSwjuLyzc3VxNZxyvKgnYCPLg4Xk5xgnjnivMfFXiW88X+JrrXNSjgiubrbvS3Uqg2qFGAST0Ud6fqfiu+1bTdDsbiK3WLQ4WhtjGrBnBcv8+ScnJ7Y4pU/dUU+jV/SzFLVt+X46Htv9oQN8eNS8Aw6TpcHhqZJ0kskso/mc25k8zfjcG3dMHAGAAMVkaFDpXhH4WeH7+18RaZ4e1LWWnlnvbzSHvpJVR9gjUiNwijuOCSa88X4kauvxJl8bC2sv7SkLExeW/k/NEYzxu3dD/e603QviHqOjaH/Yt1p2la1pizGeK11W2MqwOerIQysue4zj2pR0iu9l+b/r8BvV+X9f1+J6jo3/AAit38YtPvtGW01CO40G5l1GOKxktreWZYn3MiOq4DAA8cZzWRpPja81X4V+I9b1LTtIn1DRbu2Gly/2bCosxKWUhVCgMABwGB5wecCuL/4Wjr7eLv8AhIZUs3nSyexhtvJKwW8LIU2IikYADHHPXrmsWx8T3mn+E9V8PwxQNaapLDLM7qTIpiJK7TnAHPOQfwoe3y/9ub/L/If9fgl+Z6ldW83iub4ba22gWWsavqKXQu7faltFdiGQhWk2gKAByTjkDFbCeZr3hXxfZeI9f8L62bXSpru1s9IsxmxdCNrLKsSgAZxjcc/nXlWm/ErXdIj8Orp4tYj4fE62zeUW81Zmy6yAnDA5I4A49+avp8WdRtrPUbTS9A8P6Za6nbSW13DZ2bJ5ocY3bi5bIycAHbz0NOVmml5/jsKPxJvy/A9Tg0jT5fCPhrWLT7PqXimw8KrLpekXCkqQjsWmxjDsoYlU7lSa4bwLLrreG9W1+FtD0ue6vgj+JNcZGIbG5oYoyj/Mc5JA6cfTkT8QtbXUvDt/bGC2ufDtsltaPErDcisT8+Sc53EHGAR2rQj+Kd+IdQtbnQNBu9Ovbw339n3Fq7Q28xGGaP5wy59NxHtTfxNrrf8A9Kv+K/FdhLZJ+X5W/B/1c9LvrOyu/HXwq1VpdO1K71G4eO8vrK08iK88uUKGKFV5GSM7RnHpisnSPET+LNc8ZeGNS07TRo1tp19NZ20VlEhtXhyUdXC7i3qSTmuLufizrt3qHh68ls9LV/Ds7S2KRWxjQAkERlVYDaNoxjB9SaxdH8Zahout6pqlrDbPPqlvcW8yyKxVVm+8VAYEEdsk/jUvWLX+L8dv66FLRp/4fwbuTfDvWIdC+IWjX14iParcrHcK4BUxv8j5B9mJ/CvW9K8G2eheFfE3hK9tkbUtcnvxp7suW22YDR4/3ju/Kvn/AKV3F98WvEeoeLNB8Q3AtPtmhwpDbqsbBJAM5Ljdkls84Iz7VTtKPL3uv69GvxJV0+b5/d/nf8DtYNOms/EugeH9O0XTb6bw/oDXN3JqTrHb2lxMPMaaUkEME3INpqTxGp1r4N+IbnXNd0LxFqOl3Fq1vc6VZiM2odypTzBGgYEdhnGPpXnlp8StctfGWq+IylncTawsiXtpcQl7eaNzzGVJztGBjnPHWpr74nald+GNR8PW+j6Lp+lahsL29latHsdWDBw24sW4A+YsMdAKmV5R9fzvf+v8io2i/wCu1v6/zPYPEun2ljpcviTQjb6l4tsvDli6WcybvsNt5QV7hVIw7j/x0c1wb+KNYP7Naxtebll16S0fdEhLRGHeRkjOdxJz1965dfibrsfjLTvEsKWkV5YWkdmsSo3lTRImza6lsncOvI9sVDD4+u4vDWq6B/ZGkyadqNy10kUkDn7HKy7d0J35XA4Gd3Sqlq5ef/yV/wAV+NxQ05fL/wCRt+DO68TWsX/DTmiQRwJ5TXGmZjCDaQY4s8fnXm/jP9z8QNe8oBAmp3G0KMYxK2MV0lt8ZNdt5NPum0vQ59U09I4otVmst1yUTgKW3Y6cZADYPUda4nVdRl1fWLzUrlUWa8neeRYwQoZmLEDJJxk+tJ7q3S/42t+QL4dey/BM9qTRrDxF4z8N/ECeCMaQ2lNqWqIqgKJ7QbXXHT5mEfHfdWd4bvdcPhabxBby+HPDLapqU0za3qwR5bkZ5ihjMbkKpPOByaz9Q1K48GfA9/C8+p2Vzea5ei5EFpcLMbe22qTuZful2Vfl/wBk1zWk/EW+03w3BoV7pGj6zZWsry2i6nbNI1szctsKsvBPODkU3u0v6u7v9F8hL4U3/SSaX+fzPXBp2mN8dPBN4sVjdrqehvcXcltbeTDdv5UwMgjIG3cAOwrkNI8Rz+OfBXjSy1yy077PpmnC805bexihNmyyKoVGVQcYODknNc/L8XfEE/ibR9enttNe90i1ktIMQMiPGwYYZVYD5Q5A27RwOtc7onii90Gx1m0s4oHj1i0NpcGVWJVCwbK4Iwcgdc/Speqa8n+ba/T0K6p/4fwtf+up6b4k8Qy+AvEmi+E9E0zTpdHW0tXuoprKOVtRaVQzszspbvgbSMYrjvjDFHD8YPEUcMaxot1hUUYA+Ve1eh6DNqcmneHrm31XwbqtjZwRY1nVRFHeaUoOWiKtJklOdpKt2IxXlnxG1y18SfEjXNX09i9rdXbNCxGNyjgHHuBmnP4//AvzVv6+4Ufh+78nf+vvPRo7CfUF+Fsdro1trLR6RPKbW7kEcGFlc75GPG1epz1xjvWhc79d+Hfi+HxF4g8N+IJ7GyF1ax6RZhTZMJAMiVYkGCDjGT/OvNbD4na7ps2hSWaWa/2JaSWUStEWWeKRiXWUE4bOSOMVYf4qaimkanpWnaFoOmWGqW7QXMFlZsm7PR9xctuXsCSoyeKJ6qVuvN+LbX6eYR0cb9Lfha/6nb3/AIqufDFv8OLPSLPT0+36XbG9klso5XuEMpXyyWUkLjPTB5+laEeoQ3fxY8UeA10rTIfDcVterHZx2UYKPHGXEgkxv3bhnrgdB0FePaj4x1DU5NBeeG2U6DbR21tsVhvVHLAvluTk9sVch+IerQePNQ8WJb2Zv9QWdZYyj+UvmqVbaN2eh4yT+NE/ev58/wCPw/10COlv+3fw3O38MHWNC8B6RcWt54Z8Iw3Jkma+1NFnutSXdgER+U7BF6ADGetc/wDG3T7HT/iLnTYYIo7uwtrl/s0XlRs7xgsyp/CCece9ULP4mahBoNhpd/o2iasumqUsrjUbMyy26k52ghgCAezA0zU/iRqOt+J013W9L0jUbtbAWTJc2paNwAQJSu7Ak56jAHpRPV3Xf8LP/geQR0Wv9ar/AIPmcfRRRQAUUUUAFFFFABRRRQAUUUUAFFFFAHbL92ihfu0UAcfe/wDH/cf9dW/nUNTXv/H/AHH/AF1b+dQ0AFFFFABRRRQAUUUUAFFFFABRRRQAUUUUAFFFFABRRRQAUUUUAFFFFABRRRQAUUUUAFFFFABRRRQAUUUUAFFFFABRRRQAUUUUAFFFFABRRRQAUUUUAFFFFABRRRQAUUUUAFFFFABRRRQAUUUUAFFFFABRRRQAUUUUAFFFFABRRRQAUUUUAFFFFABRRRQAUUUUAFFFFABRRRQAUUUUAFFFFABRRRQAUUUUAFFFFABRRRQAUUUUAFFFFABRRRQAUUUUAFFFFABRRRQAUUUUAFFFFABRRRQAUUUUAFFFFABRRRQAUUUUAFFFFABRRRQB2y/dooX7tFAHH3v/AB/3H/XVv51DU17/AMf9x/11b+dQ0AFFFFABRRRQAUUUUAFFFFABRRRQAUUUUAFFFFABRRRQAUUUUAFFFFABRRRQAUUUUAFFFFABRRRQAUUUUAFFFFABRRRQAUUUUAFFFFABRRRQAUUUUAFFFFABRRRQAUUUUAFFFFABRRRQAUUUUAFFFFABRRRQAUUUUAFFFFABRRRQAUUUUAFFFFABRRRQAUUUUAFFFFABRRRQAUUUUAFFFFABRRRQAUUUUAFFFFABRRRQAUUUUAFFFFABRRRQAUUUUAFFFFABRRRQAUUUUAFFFFABRRRQAUUUUAFFFFABRRRQAUUUUAFFFFABRRRQB2y/dooX7tFAHH3v/H/cf9dW/nUNTXv/AB/3H/XVv51DQAUUUUAFFFFABRRRQAUUUUAFFFFABRRRQAUUUUAFFFFABRRRQAUUUUAFFFFABRRRQAUUUUAFFFFABRRRQAUUUUAFFFFABRRRQAUUUUAFFFFABRRRQAUUUUAFFFFABRRRQAUUUUAFFFFABRRRQAUUUUAFFFFABRRRQAUUUUAFFFFABRRRQAUUUUAFFFFABRRRQAUUUUAFFFFABRRRQAUUUUAFFFFABRRRQAUUUUAFFFFABRRRQAUUUUAFFFFABRRRQAUUUUAFFFFABRRRQAUUUUAFFFFABRRRQAUUUUAFFFFABRRRQAUUUUAFFFFAHbL92ihfu0UAcfe/8f8Acf8AXVv51DWvcaLcy3UsitHh3LDJPc/So/7Buv78X5n/AAoAzKK0/wCwbr+/F+Z/wo/sG6/vxfmf8KAMyitP+wbr+/F+Z/wo/sG6/vxfmf8ACgDMorT/ALBuv78X5n/Cj+wbr+/F+Z/woAzKK0/7Buv78X5n/Cj+wbr+/F+Z/wAKAMyitP8AsG6/vxfmf8KP7Buv78X5n/CgDMorT/sG6/vxfmf8KP7Buv78X5n/AAoAzKK0/wCwbr+/F+Z/wo/sG6/vxfmf8KAMyitP+wbr+/F+Z/wo/sG6/vxfmf8ACgDMorT/ALBuv78X5n/Cj+wbr+/F+Z/woAzKK0/7Buv78X5n/Cj+wbr+/F+Z/wAKAMyitP8AsG6/vxfmf8KP7Buv78X5n/CgDMorT/sG6/vxfmf8KP7Buv78X5n/AAoAzKK0/wCwbr+/F+Z/wo/sG6/vxfmf8KAMyitP+wbr+/F+Z/wo/sG6/vxfmf8ACgDMorT/ALBuv78X5n/Cj+wbr+/F+Z/woAzKK0/7Buv78X5n/Cj+wbr+/F+Z/wAKAMyitP8AsG6/vxfmf8KP7Buv78X5n/CgDMorT/sG6/vxfmf8KP7Buv78X5n/AAoAzKK0/wCwbr+/F+Z/wo/sG6/vxfmf8KAMyitP+wbr+/F+Z/wo/sG6/vxfmf8ACgDMorT/ALBuv78X5n/Cj+wbr+/F+Z/woAzKK0/7Buv78X5n/Cj+wbr+/F+Z/wAKAMyitP8AsG6/vxfmf8KP7Buv78X5n/CgDMorT/sG6/vxfmf8KP7Buv78X5n/AAoAzKK0/wCwbr+/F+Z/wo/sG6/vxfmf8KAMyitP+wbr+/F+Z/wo/sG6/vxfmf8ACgDMorT/ALBuv78X5n/Cj+wbr+/F+Z/woAzKK0/7Buv78X5n/Cj+wbr+/F+Z/wAKAMyitP8AsG6/vxfmf8KP7Buv78X5n/CgDMorT/sG6/vxfmf8KP7Buv78X5n/AAoAzKK0/wCwbr+/F+Z/wo/sG6/vxfmf8KAMyitP+wbr+/F+Z/wo/sG6/vxfmf8ACgDMorT/ALBuv78X5n/Cj+wbr+/F+Z/woAzKK0/7Buv78X5n/Cj+wbr+/F+Z/wAKAMyitP8AsG6/vxfmf8KP7Buv78X5n/CgDMorT/sG6/vxfmf8KP7Buv78X5n/AAoAzKK0/wCwbr+/F+Z/wo/sG6/vxfmf8KAMyitP+wbr+/F+Z/wo/sG6/vxfmf8ACgDMorT/ALBuv78X5n/Cj+wbr+/F+Z/woAzKK0/7Buv78X5n/Cj+wbr+/F+Z/wAKAMyitP8AsG6/vxfmf8KP7Buv78X5n/CgDMorT/sG6/vxfmf8KP7Buv78X5n/AAoAzKK0/wCwbr+/F+Z/wo/sG6/vxfmf8KAMyitP+wbr+/F+Z/wo/sG6/vxfmf8ACgDMorT/ALBuv78X5n/Cj+wbr+/F+Z/woAzKK0/7Buv78X5n/Cj+wbr+/F+Z/wAKAMyitP8AsG6/vxfmf8KP7Buv78X5n/CgDMorT/sG6/vxfmf8KP7Buv78X5n/AAoAzKK0/wCwbr+/F+Z/wo/sG6/vxfmf8KAMyitP+wbr+/F+Z/wo/sG6/vxfmf8ACgDMorT/ALBuv78X5n/Cj+wbr+/F+Z/woAzKK0/7Buv78X5n/Cj+wbr+/F+Z/wAKAMyitP8AsG6/vxfmf8KP7Buv78X5n/CgDMorT/sG6/vxfmf8KP7Buv78X5n/AAoAzKK0/wCwbr+/F+Z/wo/sG6/vxfmf8KAMyitP+wbr+/F+Z/wo/sG6/vxfmf8ACgDMorT/ALBuv78X5n/Cj+wbr+/F+Z/woAzKK0/7Buv78X5n/Cj+wbr+/F+Z/wAKAMyitP8AsG6/vxfmf8KP7Buv78X5n/CgDo1+7RQo4ooAdgUYFFFABgUYFFFABgUYFFFABgUYFFFABgUYFFFABgUYFFFABgUYFFFABgUYFFFABgUYFFFABgUYFFFABgUYFFFABgUYFFFABgUYFFFABgUYFFFABgUYFFFABgUYFFFABgUYFFFABgUYFFFABgUYFFFABgUYFFFABgUYFFFABgUYFFFABgUYFFFABgUYFFFABgUYFFFABgUYFFFABgUYFFFABgUYFFFABgUYFFFABgUYFFFABgUYFFFABgUYFFFABgUYFFFABgUYFFFABgUYFFFABgUYFFFABgUYFFFABgUYFFFABgUYFFFABgUYFFFABgUYFFFABgUYFFFABgUYFFFABgUYFFFABgUYFFFABgUYFFFABgUYFFFABgUYFFFABgUYFFFABgUYFFFABgUYFFFABgUYFFFABgUYFFFABgUYFFFABgUYFFFABgUYFFFABgUYFFFABgUYFFFABgUYFFFABgUYFFFACgUUUUAf/9k=)\n",
        "Penjelasan diatas merupakan ringkasan dari publikasi berikut [Mengenal Decision Tree by IYKRA](https://medium.com/iykra/mengenal-decision-tree-dan-manfaatnya-b98cf3cf6a8d)"
      ]
    },
    {
      "cell_type": "markdown",
      "metadata": {
        "id": "E8G7q6u8HdK9"
      },
      "source": [
        "Metodologi yang digunakan adalah Knowledge Discovery in Databases :\n",
        "1. Data Ingestion\n",
        "2. Exploration / Data Cleaning etc. \n",
        "3. Preprocessing\n",
        "4. Data Mining / Training \n",
        "5. Evaluation / Analysis\n",
        "6. Optimization"
      ]
    },
    {
      "cell_type": "markdown",
      "metadata": {
        "id": "xuHBFMxDIVIO"
      },
      "source": [
        "## **1. Data Ingestion**\n",
        "Data ingestion adalah tahap untuk mengambil data dari sumber untuk diolah. Pada pertemuan ini kita akan menggunakan sumber data dari UCI Machine Learning yaitu dataset **Iris**. Kalian bisa mengunjungi link dibawah ini untuk mengakses dataset Iris. \n",
        "\n",
        "> **https://archive.ics.uci.edu/ml/datasets/iris**\n",
        "\n",
        "Untuk mendownload dataset-nya, kita bisa buka link di atas dan klik `Data Folder` untuk mendownload dataset tersebut."
      ]
    },
    {
      "cell_type": "markdown",
      "metadata": {
        "id": "fZkPPlgGIbTV"
      },
      "source": [
        "Pertama - tama kita harus memanggil library yang akan kita gunakan. Ketikkan kode berikut : \n",
        "\n",
        "*   `import pandas as pd`\n",
        "*   `import numpy as np`\n",
        "* `import matplotlib.pyplot as plt`\n",
        "* `from sklearn.model_selection import train_test_split`\n",
        "* `from sklearn.tree import DecisionTreeClassifier`\n",
        "\n"
      ]
    },
    {
      "cell_type": "code",
      "metadata": {
        "id": "IfH-N9BUaqmC"
      },
      "source": [
        ""
      ],
      "execution_count": null,
      "outputs": []
    },
    {
      "cell_type": "markdown",
      "metadata": {
        "id": "q111OJ_VfJcU"
      },
      "source": [
        "Setelah itu untuk membaca data berekstensi `csv` kita akan menggunakan library pandas juga dan menggunakan perintah `read_csv`. Jadi mari kita import terlebih dahulu dengan mengetikkan kode berikut :\n",
        "> `from pandas import read_csv`"
      ]
    },
    {
      "cell_type": "code",
      "metadata": {
        "id": "FbOmeM0euTch"
      },
      "source": [
        ""
      ],
      "execution_count": null,
      "outputs": []
    },
    {
      "cell_type": "markdown",
      "metadata": {
        "id": "cuPQj3AEuUdd"
      },
      "source": [
        "ketikkan kode berikut ini :\n",
        "\n",
        "*   `file_path = r'https://archive.ics.uci.edu/ml/machine-learning-databases/iris/iris.data'`\n",
        "*   `attributes = ['sepal-length', 'sepal-width', 'petal-length', 'petal-width', 'class']`\n",
        "*   `dataset = read_csv(file_path, names=attributes)`\n",
        "\n",
        "Nah, untuk variabel `file_path` kita akan menampung data iris. Untuk variabel `attributes` kita akan menampung kolom - kolom yang merepresentasikan data iris. Dan terakhir untuk variable `dataset` kita menampung dan memanggil data iris berikut dengan kolom - kolomnya. \n",
        "\n"
      ]
    },
    {
      "cell_type": "code",
      "metadata": {
        "id": "I3f-3di5Y8Jo"
      },
      "source": [
        ""
      ],
      "execution_count": null,
      "outputs": []
    },
    {
      "cell_type": "markdown",
      "metadata": {
        "id": "WkoCOzmovPK8"
      },
      "source": [
        "Jika sudah kita cetak data iris dengan mengetikkan `dataset`. "
      ]
    },
    {
      "cell_type": "code",
      "metadata": {
        "id": "80x6cNfbZbgS"
      },
      "source": [
        ""
      ],
      "execution_count": null,
      "outputs": []
    },
    {
      "cell_type": "markdown",
      "metadata": {
        "id": "3FGeQwXDfAeB"
      },
      "source": [
        "Sekarang kita sudah memiliki `dataset` di dalam variabel `DataFrame` yang siap untuk kita olah.\n",
        "\n",
        "## **2. Data Exploration**\n",
        "\n",
        "Setelah kita mendapatkan data yang akan kita olah, sekarang kita akan melihat bagaimana karakteristik data yang kita punya. Kita bisa melakukan banyak hal, namun pada kesempatan kali ini data iris akan dilihat :\n",
        "1. isi data paling atas menggunakan perintah `head()`\n",
        "2. Isi data paling bawah menggunakan perintah `tail()`\n",
        "3. Melihat jumlah kolom dan baris menggunakan `shape()`\n",
        "4. melihat variables yang ada menggunakan perintah `keys()`\n",
        "5. menampilkan gambaran data mulai dari jumlah data per kolom, tipe data per kolom, dan jumlah keseluruhan data menggunakan `info()`\n",
        "6. melihat statistika deskriptif menggunakan `describe()`\n",
        "\n"
      ]
    },
    {
      "cell_type": "markdown",
      "metadata": {
        "id": "1aDnlFlFwU2M"
      },
      "source": [
        "### **A. `head()`**\n",
        "\n",
        "Lihat data paling atas. Ketikkan :\n",
        "> `print(dataset.head())`"
      ]
    },
    {
      "cell_type": "code",
      "metadata": {
        "id": "h2c92HL7wl-J"
      },
      "source": [
        ""
      ],
      "execution_count": null,
      "outputs": []
    },
    {
      "cell_type": "markdown",
      "metadata": {
        "id": "DakP9MoCwqv9"
      },
      "source": [
        "melihat 10 data teratas bisa menggunakan kodingan ini :\n",
        "> `print(dataset.head(10))`"
      ]
    },
    {
      "cell_type": "code",
      "metadata": {
        "id": "8QYScUmAPgkr"
      },
      "source": [
        ""
      ],
      "execution_count": null,
      "outputs": []
    },
    {
      "cell_type": "markdown",
      "metadata": {
        "id": "vCKx3BUzw4H0"
      },
      "source": [
        "### **B. ``tail()**\n",
        "\n",
        "tampilkan data terbawah, kebalikan dari head. Ketikkan :\n",
        "> `print(dataset.tail())`\n",
        "\n",
        "---\n",
        "\n",
        "\n",
        "\n",
        "---\n",
        "\n",
        "\n",
        "jika ingin melihat 10 data terbawah bisa menggunakan ini :\n",
        "> `print(dataset.tail(10))`"
      ]
    },
    {
      "cell_type": "code",
      "metadata": {
        "id": "U1qNC3twPcpu"
      },
      "source": [
        ""
      ],
      "execution_count": null,
      "outputs": []
    },
    {
      "cell_type": "markdown",
      "metadata": {
        "id": "w0_ZPnBJxa1C"
      },
      "source": [
        "### **C. `keys()`**\n",
        "melihat kolom yang ada di dataset. Ketikkan kode berikut :\n",
        "> `print(dataset.keys())`"
      ]
    },
    {
      "cell_type": "code",
      "metadata": {
        "id": "n9tJtHQaisvD"
      },
      "source": [
        ""
      ],
      "execution_count": null,
      "outputs": []
    },
    {
      "cell_type": "markdown",
      "metadata": {
        "id": "suOisLdgzmMe"
      },
      "source": [
        "### **D. shape()**\n",
        "melihat ukuran kolom dan baris data. Ketikkan :\n",
        "> `print(dataset.shape())`\n",
        "\n"
      ]
    },
    {
      "cell_type": "code",
      "metadata": {
        "id": "YoSeZgNL7hfN"
      },
      "source": [
        ""
      ],
      "execution_count": null,
      "outputs": []
    },
    {
      "cell_type": "markdown",
      "metadata": {
        "id": "sbXyywxkiQRh"
      },
      "source": [
        "Data diatas digunakan untuk melihat ukuran data kita yang mana di representasikan dalam (x, y). Dimana, x adalah jumlah data dan y adalah kolom atribut data. Pada kode diatas kita tahu bahwa `iris.data` mempunyai 150 instances dan 4 column attributes dam 1 `class`."
      ]
    },
    {
      "cell_type": "markdown",
      "metadata": {
        "id": "5RsMEh6I2MVJ"
      },
      "source": [
        "### **E. `info()`**\n",
        "Dengan fungsi ini kita bisa melihat berbagai info mulai dari jumlah data, kolom hingga tipe data. Ketikkan :\n",
        "> `print(dataset.info())`"
      ]
    },
    {
      "cell_type": "code",
      "metadata": {
        "id": "9LUZtRC37OMW"
      },
      "source": [
        ""
      ],
      "execution_count": null,
      "outputs": []
    },
    {
      "cell_type": "markdown",
      "metadata": {
        "id": "WhMAvs788wLo"
      },
      "source": [
        "### **F. describe()**\n",
        "Melihat statistika deskriptif suatu data mulai dari nilai max hingga persentil. Ketikkan :\n",
        "> `dataset.describe()`"
      ]
    },
    {
      "cell_type": "code",
      "metadata": {
        "id": "rVcUSYs_gjY_"
      },
      "source": [
        ""
      ],
      "execution_count": null,
      "outputs": []
    },
    {
      "cell_type": "markdown",
      "metadata": {
        "id": "qBD8sDbt_8Xe"
      },
      "source": [
        "## **EXPLORATION - VISUALISASI DATASET**\n",
        "\n",
        "### **A. Histogram Grafik**\n",
        "Ini ditampilkan dengan matplotlib. Karena tadi diatas sudah di upload maka tidak perlu import lagi. Untuk menampilkan grafiknya kita gunakan kodingan ini. \n",
        "> `print(dataset.plot.hist(bins=15))`"
      ]
    },
    {
      "cell_type": "code",
      "metadata": {
        "id": "Y-RzL8PVGVAM"
      },
      "source": [
        ""
      ],
      "execution_count": null,
      "outputs": []
    },
    {
      "cell_type": "markdown",
      "metadata": {
        "id": "7N4yFHG8EwrA"
      },
      "source": [
        "### **B. Scatter Plot**\n",
        "Untuk memperlihatkan hubungan 2 variabel atau axes. Kalian bisa gunakan kodingan ini :\n",
        "> `dataset.plot(kind=\"scatter\", x=[\"sepal-length\"], y=[\"petal-length\"], colorbar=True)`\n",
        "\n",
        "---\n",
        "\n",
        "\n",
        "\n",
        "Atau jika ingin menampilkan grid bisa menggunakan kodingan ini :\n",
        "> `dataset.plot(kind =\"scatter\", x ='sepal-length', y ='petal-length')`\n",
        "\n",
        "---\n",
        "\n",
        "dan cetak hasil dengan kodingan ini:\n",
        "`plt.grid()` "
      ]
    },
    {
      "cell_type": "code",
      "metadata": {
        "id": "VwUabU0OEyPw"
      },
      "source": [
        ""
      ],
      "execution_count": null,
      "outputs": []
    },
    {
      "cell_type": "markdown",
      "metadata": {
        "id": "YvmUpZlNFpo3"
      },
      "source": [
        "### **C. Visualisasi Dengan `Seaborn`**\n",
        "Seaborn merupakan library turunan dari matplotlib. Namun menyediakan plot atau grafik yang lebih cantik. Cara penggunaanya dengan memanggilnya terlebih dahulu dengan :\n",
        "> `import seaborn as sns`\n",
        "\n",
        "---\n",
        "\n",
        "Lalu kita bisa tampilkan iris kita menggunakan kodingan ini :\n",
        "> `sns.FacetGrid(dataset, hue='class', height = 6).map(plt.scatter, 'sepal-length','petal-length').add_legend()` "
      ]
    },
    {
      "cell_type": "code",
      "metadata": {
        "id": "OSCqn3JUZJtv"
      },
      "source": [
        ""
      ],
      "execution_count": null,
      "outputs": []
    },
    {
      "cell_type": "markdown",
      "metadata": {
        "id": "UHI75KN6kuhn"
      },
      "source": [
        "## **3. Preprocessing** \n",
        "Pada tahap ini kita akan melakukan preprocessing data yang meliputi :\n",
        "### **1. Ubah data ke array menggunakan fungsi `values()`**\n",
        "Ketikkan :\n",
        "> * `data_column = dataset[['sepal-length', 'sepal-width', 'petal-length', 'petal-width']].values`\n",
        "> * `data_class = dataset['class'].values`"
      ]
    },
    {
      "cell_type": "code",
      "metadata": {
        "id": "C7fqOuuwmSnn"
      },
      "source": [
        ""
      ],
      "execution_count": null,
      "outputs": []
    },
    {
      "cell_type": "markdown",
      "metadata": {
        "id": "kYEUgiEgItyZ"
      },
      "source": [
        "### **2. Split (bagi) dataset menjadi 70% data latih dan 30% data uji**\n",
        "Ketikkan kode berikut :\n",
        "\n",
        "\n",
        "* `(train_inputs, test_inputs, train_classes, test_classes) = train_test_split(data_column, data_class, train_size=0.7, random_state=1)`\n",
        "\n",
        "\n",
        "\n",
        "\n"
      ]
    },
    {
      "cell_type": "code",
      "metadata": {
        "id": "aeGZ_V5Vm5PW"
      },
      "source": [
        ""
      ],
      "execution_count": null,
      "outputs": []
    },
    {
      "cell_type": "markdown",
      "metadata": {
        "id": "lblLwublC4ZK"
      },
      "source": [
        "Parameter yang perlu diperhatikan :\n",
        "* `train_size` : untuk menentukan ukuran data latih, parameter ini direpresentasikan dengan angka desimal. Misalnya 0,2 maka artinya data training sebesar 20%.\n",
        "* `random_state=1` : merupakan keadaan acak (nomor semu acak) atau RNG (*random number generator*) dimana jika tidak dideklarasikan maka hasil output akan mempunyai nilai acak yang baru dan data latih serta data uji akan memiliki nilai yang baru pula. Jika dideklarasikan, misalnya 1. Maka rentang nilainya akan terus sama. Berlaku juga untuk data test dan data uji.\n",
        "\n",
        "Penjelasan lain :\n",
        "* [Random State](https://qastack.id/programming/28064634/random-state-pseudo-random-number-in-scikit-learn)\n",
        "* [Random State by Megabagus](https://www.megabagus.id/training-set-test-set/)"
      ]
    },
    {
      "cell_type": "code",
      "metadata": {
        "id": "p0YgfptXPrd2"
      },
      "source": [
        ""
      ],
      "execution_count": null,
      "outputs": []
    },
    {
      "cell_type": "markdown",
      "metadata": {
        "id": "Lq_gi5fVDS5Y"
      },
      "source": [
        "## **4. Training**\n",
        "\n",
        "kita akan coba melihat akurasinya dengan modul `DecisionTreeClassifier` yang sudah di import sebelumnya. Pertama - tama kita tampung dulu modul fungsinya kedalam variable **dtc**. \n",
        "* `dtc = dtc = DecisionTreeClassifier()`"
      ]
    },
    {
      "cell_type": "code",
      "metadata": {
        "id": "8ZquV9i9DuM8"
      },
      "source": [
        ""
      ],
      "execution_count": null,
      "outputs": []
    },
    {
      "cell_type": "markdown",
      "metadata": {
        "id": "tKux85ZxDulS"
      },
      "source": [
        "Kemudian lakukan training data dengan decisiontree yang sudah di deklarasikan. Panggil saja `dtc`.\n",
        "* `latih = dtc.fit(train_inputs, train_classes)` "
      ]
    },
    {
      "cell_type": "markdown",
      "metadata": {
        "id": "svmf3H9wEAVg"
      },
      "source": [
        "setelah itu lihat skor hasilnya.\n",
        "* `skor = dtc.score(test_inputs, test_classes)`"
      ]
    },
    {
      "cell_type": "code",
      "metadata": {
        "id": "9GE5frIfD_8d"
      },
      "source": [
        ""
      ],
      "execution_count": null,
      "outputs": []
    },
    {
      "cell_type": "markdown",
      "metadata": {
        "id": "4HvDu9rAEcw2"
      },
      "source": [
        "# **5. Evaluation**\n",
        "\n",
        "Disini kita akan mengevaluasi dan menampilkan hasil klasifikasi dengan menampilkan tree (pohon keputusan) dengan bantuan modul `GraphViz`. Mari kita panggil dulu modulnya dari library `sklearn` dan `IPyton`.\n",
        "\n",
        "* `from sklearn.externals.six import StringIO`  \n",
        "* `from IPython.display import Image` \n",
        "* `from sklearn.tree import export_graphviz`\n",
        "* `import pydotplus`\n"
      ]
    },
    {
      "cell_type": "code",
      "metadata": {
        "id": "aMfZXlz2FEwu"
      },
      "source": [
        ""
      ],
      "execution_count": null,
      "outputs": []
    },
    {
      "cell_type": "markdown",
      "metadata": {
        "id": "OewgzS2IFFH-"
      },
      "source": [
        "Selanjutnya ketikkan kode berikut :\n",
        "\n",
        "deklarasikan **dot_data** untuk menampung fungsi `StringIO`.\n",
        "* `dot_data = StringIO()`\n",
        "\n"
      ]
    },
    {
      "cell_type": "code",
      "metadata": {
        "id": "y-byk6VRGlSp"
      },
      "source": [
        ""
      ],
      "execution_count": null,
      "outputs": []
    },
    {
      "cell_type": "markdown",
      "metadata": {
        "id": "KXWWRnxyGveT"
      },
      "source": [
        "buat pohon keputusan dengan kodingan berikut :\n",
        "* `export_graphviz(latih, out_file = dot_data,\n",
        "    feature_names = ['sepal-length', 'sepal-width', 'petal-length', 'petal-width'],\n",
        "    class_names = ['Iris-setosa', 'Iris-versicolor', 'Iris-virginica' ],\n",
        "    rounded= True,\n",
        "    filled =True,\n",
        "    special_characters=True)`\n",
        "* `graph = pydotplus.graph_from_dot_data(dot_data.getvalue()) `\n",
        "* `Image(graph.create_png())`\n",
        "\n"
      ]
    },
    {
      "cell_type": "code",
      "metadata": {
        "id": "Shv-rEmBG__t"
      },
      "source": [
        ""
      ],
      "execution_count": null,
      "outputs": []
    },
    {
      "cell_type": "markdown",
      "metadata": {
        "id": "vTX-1gyTHAoX"
      },
      "source": [
        "Penjelasan parameter dari GraphViz :\n",
        "* variable data latihnya\n",
        "* `out_file` : merupakan keluaran data nantinya\n",
        "* panggil kolom atribut dan kelas dari datasetnya\n",
        "* `rounded` : jika `True` maka tampilan nodes pohon keputusan akan rounder (ujungnya melingkar bukan kotak runcing)\n",
        "* `filled` : jika `True` maka nodes nya akan berwarna\n",
        "\n"
      ]
    },
    {
      "cell_type": "markdown",
      "metadata": {
        "id": "PWI8tQMomYvt"
      },
      "source": [
        "# **Selamat, kalian sudah belajar Klasifikasi dengan DecisionTree**"
      ]
    },
    {
      "cell_type": "markdown",
      "metadata": {
        "id": "QEZhmLZQmn6W"
      },
      "source": [
        "# **Reference**\n",
        "\n",
        "1. **Megabagus**. 2018. *Training set and Test Set*. https://www.megabagus.id/training-set-test-set/ diakses pada 4 Desember 2020. \n",
        "\n",
        "2.  **UCI Machine Learning**. https://archive.ics.uci.edu/ml/datasets/Iris?spm=a2c4e.11153940.blogcont603256.5.333b1d6f05ZggC Diakses pada 5 Desember 2020\n",
        "\n",
        "5. **Wahyono, Teguh**.2018 *Fundamental of Python for Machine Learning* (cetakan 1). Yogyakarta: Penerbit Gava Media"
      ]
    }
  ]
}